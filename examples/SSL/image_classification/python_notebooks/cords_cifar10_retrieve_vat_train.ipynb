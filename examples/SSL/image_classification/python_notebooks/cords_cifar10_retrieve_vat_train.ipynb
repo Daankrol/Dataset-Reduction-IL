{
  "nbformat": 4,
  "nbformat_minor": 0,
  "metadata": {
    "language_info": {
      "name": "python"
    },
    "orig_nbformat": 4,
    "colab": {
      "name": "cords_retrieve_cifar10_vat.ipynb",
      "provenance": [],
      "collapsed_sections": []
    }
  },
  "cells": [
    {
      "cell_type": "code",
      "metadata": {
        "id": "6iA8ML0y9JIE"
      },
      "source": [
        "from google.colab import drive\n",
        "drive.mount('/content/drive')\n",
        "!git clone -b refactor/data_loader https://github.com/decile-team/cords.git\n",
        "%cd cords/\n",
        "%ls"
      ],
      "execution_count": null,
      "outputs": []
    },
    {
      "cell_type": "code",
      "metadata": {
        "id": "0h4YznfG9JII"
      },
      "source": [
        "!pip install apricot-select\n",
        "!pip install ray[tune]\n",
        "!pip install ray[default]\n",
        "!pip install dotmap"
      ],
      "execution_count": null,
      "outputs": []
    },
    {
      "cell_type": "markdown",
      "metadata": {
        "id": "JSHYpMlR9JII"
      },
      "source": [
        "# Importing Semi-Supervised learning default training loop"
      ]
    },
    {
      "cell_type": "code",
      "metadata": {
        "id": "_7--My3U9JIJ"
      },
      "source": [
        "from train_ssl import TrainClassifier"
      ],
      "execution_count": null,
      "outputs": []
    },
    {
      "cell_type": "markdown",
      "metadata": {
        "id": "C90z1L0j9JIK"
      },
      "source": [
        "# Loading default RETRIEVE config file for CIFAR10 dataset\n",
        "\n",
        "We can load other subset selection strategies like CRAIG, GradMatch, Random for CIFAR10 dataset by loading their respective config files.\n",
        "\n",
        "Here we give an example of instantiating a SSL training loop using RETRIEVE config file"
      ]
    },
    {
      "cell_type": "code",
      "metadata": {
        "pycharm": {
          "name": "#%%\n"
        },
        "id": "f8QhXaz99JIK"
      },
      "source": [
        "fraction = 0.1\n",
        "retrieve_config = \"configs/SSL/config_retrieve_vat_cifar10.py\"\n",
        "retrieve_trn = TrainClassifier(retrieve_config)"
      ],
      "execution_count": null,
      "outputs": []
    },
    {
      "cell_type": "markdown",
      "metadata": {
        "id": "7cR3wmtZ9JIK"
      },
      "source": [
        "# Default config args can be modified in the following manner\n",
        "\n",
        "We can modify the default arguments of the config file by just assigning them a new file"
      ]
    },
    {
      "cell_type": "code",
      "metadata": {
        "id": "WVcxHn0g9JIL"
      },
      "source": [
        "retrieve_trn.configdata.train_args.disp = 256\n",
        "retrieve_trn.configdata.train_args.device = 'cuda'\n",
        "retrieve_trn.configdata.dss_args.fraction = fraction"
      ],
      "execution_count": null,
      "outputs": []
    },
    {
      "cell_type": "markdown",
      "metadata": {
        "id": "19rABQo19JIL"
      },
      "source": [
        "# Start the training process"
      ]
    },
    {
      "cell_type": "code",
      "metadata": {
        "id": "CxbRePmJ9JIM"
      },
      "source": [
        "retrieve_trn.train()"
      ],
      "execution_count": null,
      "outputs": []
    }
  ]
}
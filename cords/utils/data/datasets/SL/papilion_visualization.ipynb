{
 "cells": [
  {
   "cell_type": "code",
   "execution_count": 6,
   "metadata": {},
   "outputs": [],
   "source": [
    "from papilion import PapilionDataset\n",
    "import numpy as np\n",
    "from torch.utils.data import DataLoader\n",
    "from torchvision import transforms"
   ]
  },
  {
   "cell_type": "code",
   "execution_count": 7,
   "metadata": {},
   "outputs": [
    {
     "name": "stdout",
     "output_type": "stream",
     "text": [
      "Dataset files present and verified\n"
     ]
    }
   ],
   "source": [
    "pap = PapilionDataset(\n",
    "    root=\"~/data\", train=True)"
   ]
  },
  {
   "cell_type": "code",
   "execution_count": 9,
   "metadata": {},
   "outputs": [
    {
     "name": "stdout",
     "output_type": "stream",
     "text": [
      "Dataset files present and verified\n"
     ]
    }
   ],
   "source": [
    "paptest = PapilionDataset(\n",
    "    root=\"~/data\", train=False)"
   ]
  },
  {
   "cell_type": "code",
   "execution_count": 10,
   "metadata": {},
   "outputs": [
    {
     "name": "stdout",
     "output_type": "stream",
     "text": [
      "112\n",
      "112\n",
      "Papilionidae-Papilio-fuscus-thomsonii\n",
      "105\n",
      "5522\n",
      "2721\n"
     ]
    }
   ],
   "source": [
    "print(len(pap.class_names))\n",
    "print(len(set(pap.targets)))\n",
    "\n",
    "print(pap.class_names[0])\n",
    "print(pap.targets[0])\n",
    "\n",
    "print(len(pap.data))\n",
    "print(len(paptest.data))"
   ]
  },
  {
   "cell_type": "code",
   "execution_count": 12,
   "metadata": {},
   "outputs": [
    {
     "name": "stdout",
     "output_type": "stream",
     "text": [
      "4969\n",
      "553\n"
     ]
    }
   ],
   "source": [
    "from torch.utils.data import Subset\n",
    "from sklearn.model_selection import StratifiedShuffleSplit\n",
    "\n",
    "trainset = pap\n",
    "\n",
    "validation_set_fraction = 0.1\n",
    "sss = StratifiedShuffleSplit(n_splits=1, test_size=validation_set_fraction)\n",
    "for train_index, val_index in sss.split(trainset.data, trainset.targets):\n",
    "    trainset, valset = Subset(trainset, train_index), Subset(trainset, val_index)\n",
    "    break\n",
    "\n",
    "print(len(trainset))\n",
    "print(len(valset))"
   ]
  },
  {
   "cell_type": "code",
   "execution_count": 16,
   "metadata": {},
   "outputs": [
    {
     "data": {
      "image/png": "[encoded data removed]",
      "text/plain": [
       "<Figure size 432x288 with 1 Axes>"
      ]
     },
     "metadata": {
      "needs_background": "light"
     },
     "output_type": "display_data"
    }
   ],
   "source": [
    "# show the first 9 images in the test set in a 3x3 grid\n",
    "import matplotlib.pyplot as plt\n",
    "import seaborn as sns\n",
    "from collections import Counter\n",
    "\n",
    "\n",
    "def show_images(images, labels):\n",
    "    fig = plt.figure(figsize=(12, 12))\n",
    "    for i in range(9):\n",
    "        ax = fig.add_subplot(3, 3, i + 1, xticks=[], yticks=[])\n",
    "        ax.imshow(images[i], cmap=\"gray\")\n",
    "        ax.set_title(labels[i])\n",
    "        ax.set_axis_off()\n",
    "    plt.show()\n",
    "\n",
    "\n",
    "# show class distribution in the testset using a bar plot\n",
    "class_counts = Counter(paptest.targets)\n",
    "sns.barplot(\n",
    "    x=list(range(len(class_counts))),\n",
    "    y=list(class_counts.values()),\n",
    "    palette=\"husl\",\n",
    "    orient=\"v\",\n",
    ")\n",
    "plt.show()\n"
   ]
  },
  {
   "cell_type": "code",
   "execution_count": 13,
   "metadata": {},
   "outputs": [
    {
     "name": "stdout",
     "output_type": "stream",
     "text": [
      "train data mean resolution: {} w by {} h  [531.84154292 570.98478812   3.        ]\n"
     ]
    }
   ],
   "source": [
    "pap._train_data[0].shape\n",
    "# calculate the mean image resolution of the trainig images\n",
    "res = []\n",
    "for img in pap._train_data:\n",
    "    res.append(img.shape)\n",
    "print(\"train data mean resolution: \", np.mean(res, axis=0))"
   ]
  },
  {
   "cell_type": "code",
   "execution_count": 5,
   "metadata": {},
   "outputs": [
    {
     "name": "stdout",
     "output_type": "stream",
     "text": [
      "Dataset files present and verified\n"
     ]
    },
    {
     "data": {
      "image/png": "[encoded data removed]",
      "text/plain": [
       "<Figure size 432x288 with 1 Axes>"
      ]
     },
     "metadata": {
      "needs_background": "light"
     },
     "output_type": "display_data"
    },
    {
     "data": {
      "image/png": "[encoded data removed]",
      "text/plain": [
       "<Figure size 432x288 with 1 Axes>"
      ]
     },
     "metadata": {
      "needs_background": "light"
     },
     "output_type": "display_data"
    },
    {
     "name": "stdout",
     "output_type": "stream",
     "text": [
      "train data mean resolution:  nan  test data mean resolution:  nan\n"
     ]
    },
    {
     "name": "stderr",
     "output_type": "stream",
     "text": [
      "/Users/daan/miniforge3/envs/DatasetReduction/lib/python3.10/site-packages/numpy/core/fromnumeric.py:3432: RuntimeWarning: Mean of empty slice.\n",
      "  return _methods._mean(a, axis=axis, dtype=dtype,\n",
      "/Users/daan/miniforge3/envs/DatasetReduction/lib/python3.10/site-packages/numpy/core/_methods.py:190: RuntimeWarning: invalid value encountered in double_scalars\n",
      "  ret = ret.dtype.type(ret / rcount)\n"
     ]
    }
   ],
   "source": [
    "normalize = transforms.Normalize(\n",
    "                (0.485, 0.456, 0.406), (0.229, 0.224, 0.225)\n",
    "            )\n",
    "\n",
    "transform = transforms.Compose([\n",
    "    transforms.Resize((224, 224)),\n",
    "    transforms.ToTensor(),\n",
    "    normalize\n",
    "])\n",
    "\n",
    "pap_train = PapilionDataset(\n",
    "    root=\"~/data\", train=True, transform=transform)\n",
    "image_data_loader = DataLoader(\n",
    "    pap_train,\n",
    "    # batch size is whole dataset\n",
    "    batch_size=len(pap_train),\n",
    "    shuffle=False,\n",
    "    num_workers=0)\n"
   ]
  },
  {
   "cell_type": "code",
   "execution_count": 6,
   "metadata": {},
   "outputs": [
    {
     "name": "stdout",
     "output_type": "stream",
     "text": [
      "torch.Size([5522, 3, 224, 224])\n"
     ]
    }
   ],
   "source": [
    "# calculating normalization parameters\n",
    "\n",
    "images, _ = next(iter(image_data_loader))\n",
    "# images = images.numpy()\n",
    "print(images.shape)\n",
    "# shape of images = [b,c,w,h]\n",
    "mean, std = images.mean([0, 2, 3]), images.std([0, 2, 3])"
   ]
  },
  {
   "cell_type": "code",
   "execution_count": 7,
   "metadata": {},
   "outputs": [
    {
     "name": "stdout",
     "output_type": "stream",
     "text": [
      "tensor([0.6209, 0.6052, 0.5562]) tensor([0.2183, 0.2803, 0.3155])\n"
     ]
    }
   ],
   "source": [
    "print(mean, std)"
   ]
  },
  {
   "cell_type": "code",
   "execution_count": 13,
   "metadata": {},
   "outputs": [
    {
     "name": "stdout",
     "output_type": "stream",
     "text": [
      "num classes in pap_train._train_labels:  112\n"
     ]
    }
   ],
   "source": [
    "print('num classes in pap_train._train_labels: ', len(set(pap_train._train_labels)))"
   ]
  }
 ],
 "metadata": {
  "kernelspec": {
   "display_name": "Python 3.10.5 ('DatasetReduction')",
   "language": "python",
   "name": "python3"
  },
  "language_info": {
   "codemirror_mode": {
    "name": "ipython",
    "version": 3
   },
   "file_extension": ".py",
   "mimetype": "text/x-python",
   "name": "python",
   "nbconvert_exporter": "python",
   "pygments_lexer": "ipython3",
   "version": "3.10.5"
  },
  "orig_nbformat": 4,
  "vscode": {
   "interpreter": {
    "hash": "b841ab19741fe9f9f4c5f4a292500860db5454d9cc26ec6ae6f5591d1d7ab24d"
   }
  }
 },
 "nbformat": 4,
 "nbformat_minor": 2
}
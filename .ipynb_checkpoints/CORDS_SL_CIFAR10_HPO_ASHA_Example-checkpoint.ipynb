{
 "cells": [
  {
   "cell_type": "markdown",
   "metadata": {
    "id": "kFDegt9Xh5XS"
   },
   "source": [
    "# Subset selection for Hyperparameter tuning\n",
    "\n",
    "In this tutorial, we will look at an example showing how to integrate GradMatchPB-Warm subset selection strategy in typical hyperparameter tuning loop\n",
    "for configuration model training on CIFAR100 dataset with TPE as hyper-parameter search algorithm and ASHA as hyper-parameter scheduler."
   ]
  },
  {
   "cell_type": "markdown",
   "metadata": {
    "id": "nRBrJb8I_vUv"
   },
   "source": [
    "### Cloning CORDS repository"
   ]
  },
  {
   "cell_type": "code",
   "execution_count": 1,
   "metadata": {
    "colab": {
     "base_uri": "https://localhost:8080/"
    },
    "id": "x35Mfc-RnKkX",
    "outputId": "3b84a4ba-697e-4fc4-f51f-3c28cb229b30"
   },
   "outputs": [],
   "source": [
    "#!git clone https://github.com/decile-team/cords.git\n",
    "#%cd cords/\n",
    "#%ls"
   ]
  },
  {
   "cell_type": "markdown",
   "metadata": {
    "id": "gAA3K0cVnyd9"
   },
   "source": [
    "### Install prerequisite libraries of CORDS"
   ]
  },
  {
   "cell_type": "code",
   "execution_count": 2,
   "metadata": {
    "colab": {
     "base_uri": "https://localhost:8080/"
    },
    "id": "6CXZ4L1ynmcp",
    "outputId": "3c88304d-0764-42f4-ee2a-5a6e4d5c4de5"
   },
   "outputs": [],
   "source": [
    "#!pip install dotmap\n",
    "#!pip install apricot-select\n",
    "#!pip install ray[default]\n",
    "#!pip install ray[tune]\n",
    "#!pip install datasets"
   ]
  },
  {
   "cell_type": "markdown",
   "metadata": {
    "id": "gzyCsbnJn3_L"
   },
   "source": [
    "### Import necessary libraries"
   ]
  },
  {
   "cell_type": "code",
   "execution_count": 3,
   "metadata": {
    "id": "eTCjdwOJNKAV"
   },
   "outputs": [],
   "source": [
    "import argparse\n",
    "from cords.utils.config_utils import load_config_data\n",
    "from ray.tune.suggest.hyperopt import HyperOptSearch\n",
    "from ray.tune.suggest.bayesopt import BayesOptSearch\n",
    "from ray.tune.suggest.skopt import SkOptSearch\n",
    "from ray.tune.suggest.dragonfly import DragonflySearch\n",
    "from ray.tune.suggest.ax import AxSearch\n",
    "from ray.tune.suggest.bohb import TuneBOHB\n",
    "from ray.tune.suggest.nevergrad import NevergradSearch\n",
    "from ray.tune.suggest.optuna import OptunaSearch\n",
    "from ray.tune.suggest.zoopt import ZOOptSearch\n",
    "from ray.tune.suggest.sigopt import SigOptSearch\n",
    "from ray.tune.suggest.hebo import HEBOSearch\n",
    "from ray.tune.schedulers import AsyncHyperBandScheduler\n",
    "from ray.tune.schedulers import HyperBandScheduler\n",
    "from ray.tune.schedulers.hb_bohb import HyperBandForBOHB\n",
    "from ray import tune"
   ]
  },
  {
   "cell_type": "markdown",
   "metadata": {
    "id": "xdgARYmvNxwM"
   },
   "source": [
    "### Loading hyperparameter configuration file with predefined arguments:\n",
    "\n",
    "We have a set of predefined configuration files added to CORDS for HPO under cords/configs/HPO/ which can be used directly by loading them as a dotmap object. \n",
    "\n",
    "An example of predefined configuration for Hyper-parameter tuning on CIFAR100 dataset with ASHA as scheduler and TPE as search algorithm can be found below:\n",
    "\n",
    "```Python\n",
    "from ray import tune\n",
    "\n",
    "config = dict(setting= \"hyperparamtuning\",\n",
    "\n",
    "# parameter for subset selection\n",
    "# all settings for subset selection will be fetched from here\n",
    "subset_config = \"configs/SL/config_gradmatchpb-warm_cifar100.py\",\n",
    "\n",
    "# parameters for hyper-parameter tuning\n",
    "# search space for hyper-parameter tuning\n",
    "space = dict(\n",
    "        learning_rate=tune.uniform(0.001, 0.01), \n",
    "        learning_rate1=tune.uniform(0.001, 0.01),\n",
    "        learning_rate2=tune.uniform(0.001, 0.01),\n",
    "        learning_rate3=tune.uniform(0.001, 0.01),\n",
    "        scheduler= tune.choice(['cosine_annealing', 'linear_decay']),\n",
    "        nesterov= tune.choice([True, False]),\n",
    "        gamma= tune.uniform(0.05, 0.5),    \n",
    "        ),\n",
    "\n",
    "# tuning algorithm \n",
    "search_algo = \"TPE\",\n",
    "\n",
    "# number of hyper-parameter set to try\n",
    "num_evals = 27,\n",
    "\n",
    "# metric to be optimized, for 'mean_loss' metric mode should be 'min'\n",
    "metric = \"mean_accuracy\",\n",
    "mode = \"max\",\n",
    "\n",
    "# scheduler to be used (i.e ASHAScheduler)\n",
    "# scheduler terminates trials that perform poorly\n",
    "# learn more here: https://docs.ray.io/en/releases-0.7.1/tune-schedulers.html\n",
    "scheduler = 'hyperband',\n",
    "\n",
    "# where to store logs\n",
    "log_dir = \"RayLogs/\",\n",
    "\n",
    "# resume hyper-parameter tuning from previous log\n",
    "# specify 'name' (i.e main_2021-03-09_18-33-56) below\n",
    "resume = False,\n",
    "\n",
    "# only required if you want to resume from previous checkpoint\n",
    "# it can also be specified if you don't want to resume\n",
    "name = None,\n",
    "\n",
    "# specify resources to be used per trial\n",
    "# i.e {'gpu':1, 'cpu':2}\n",
    "resources = {'gpu':1},\n",
    "\n",
    "# if True, trains model on Full dataset with the best parameter selected.\n",
    "final_train = True\n",
    ")\n",
    "```\n",
    "\n",
    "Please find a detailed documentation explaining the available configuration parameters in the following readthedocs [page]()\n",
    "\n",
    "***Loading the predefined configuration file directly using the load_config_data function in CORDS***"
   ]
  },
  {
   "cell_type": "code",
   "execution_count": 4,
   "metadata": {
    "id": "vozeGsg3CenF"
   },
   "outputs": [],
   "source": [
    "from cords.utils.config_utils import load_config_data\n",
    "param_tuning_cfg = load_config_data('configs/HPO/config_hyper-param_tuning_cifar100.py')"
   ]
  },
  {
   "cell_type": "markdown",
   "metadata": {
    "id": "-OQLGEIkc0Wm"
   },
   "source": [
    "### Modifying Default SL training loop to include search space parameters as configurable parameters\n",
    "In this example, the search space parameters are layer-wise learning rates, step-size decay, learning rate scheduler, and nesterov momentum boolean indicator. We modify the default pytorch training loop given in train_sl.py to include the hyper-parameter search space parameters in the following manner:\n",
    "\n",
    "```python\n",
    "def optimizer_with_scheduler(self, model):\n",
    "        if self.cfg.optimizer.type == 'sgd':\n",
    "            optimizer = optim.SGD( [\n",
    "                                    {\"params\": model.linear.parameters(), \"lr\": self.cfg.optimizer.lr1},\n",
    "                                    {\"params\": model.layer4.parameters(), \"lr\": self.cfg.optimizer.lr2},\n",
    "                                    {\"params\": model.layer3.parameters(), \"lr\": self.cfg.optimizer.lr2},\n",
    "                                    {\"params\": model.layer2.parameters(), \"lr\": self.cfg.optimizer.lr2},\n",
    "                                    {\"params\": model.layer1.parameters(), \"lr\": self.cfg.optimizer.lr2},\n",
    "                                    {\"params\": model.conv1.parameters(), \"lr\": self.cfg.optimizer.lr3},\n",
    "                                    ],\n",
    "                                    lr=self.cfg.optimizer.lr,\n",
    "                                  momentum=self.cfg.optimizer.momentum,\n",
    "                                  weight_decay=self.cfg.optimizer.weight_decay,\n",
    "                                  nesterov=self.cfg.optimizer.nesterov)\n",
    "        elif self.cfg.optimizer.type == \"adam\":\n",
    "            optimizer = optim.Adam(model.parameters(), lr=self.cfg.optimizer.lr)\n",
    "        elif self.cfg.optimizer.type == \"rmsprop\":\n",
    "            optimizer = optim.RMSprop(model.parameters(), lr=self.cfg.optimizer.lr)\n",
    "\n",
    "        if self.cfg.scheduler.type == 'cosine_annealing':\n",
    "            scheduler = torch.optim.lr_scheduler.CosineAnnealingLR(optimizer,\n",
    "                                                                   T_max=self.cfg.scheduler.T_max)\n",
    "        elif self.cfg.scheduler.type == 'linear_decay':\n",
    "            scheduler = torch.optim.lr_scheduler.StepLR(optimizer, \n",
    "                                                        step_size=self.cfg.scheduler.stepsize, \n",
    "                                                        gamma=self.cfg.scheduler.gamma)\n",
    "        else:\n",
    "            scheduler = None\n",
    "        return optimizer, scheduler\n",
    "```\n",
    "\n",
    "We include the modified default train_sl loop in examples\\HPO\\image_classification\\python_code\\vision_train_sl.py file."
   ]
  },
  {
   "cell_type": "code",
   "execution_count": 5,
   "metadata": {
    "id": "VKrh9ScbdkzO"
   },
   "outputs": [],
   "source": [
    "from examples.HPO.image_classification.python_code.vision_train_sl import TrainClassifier"
   ]
  },
  {
   "cell_type": "markdown",
   "metadata": {
    "id": "htuwbUF1n_vE"
   },
   "source": [
    "# Instantiating GradMatchPB-Warm arguments required for train_sl.py by loading the corresponding configuration file."
   ]
  },
  {
   "cell_type": "code",
   "execution_count": 6,
   "metadata": {
    "id": "mjHq6D-7p-nq"
   },
   "outputs": [],
   "source": [
    "train_cfg_file = 'configs/SL/config_gradmatchpb-warm_cifar100.py'\n",
    "train_cfg = load_config_data(train_cfg_file)\n",
    "\n",
    "\"\"\"\n",
    "Note that we have to do following changes to standard training configuration files\n",
    "to get them working for Hyper-parameter tuning.\n",
    "\"\"\"\n",
    "train_cfg.report_tune = True\n",
    "train_cfg.train_args.print_every = 1\n",
    "train_cfg.dss_args.fraction = 0.01\n",
    "\n",
    "#Instantiating the train classifier class with the loaded train_cfg\n",
    "train_class = TrainClassifier(train_cfg)"
   ]
  },
  {
   "cell_type": "markdown",
   "metadata": {
    "id": "UHH8xGywg6x5"
   },
   "source": [
    "### Get Hyper-parameter search algorithm \n",
    "\n",
    "In this example, we will be using Tree-structured parzen estimator(TPE) as the hyper-parameter search algorithm. In the hyper-parameter tuning configuration file, the search algorithm option is given as cfg.search_algo."
   ]
  },
  {
   "cell_type": "code",
   "execution_count": 7,
   "metadata": {
    "id": "SoKFg3_ChrMt"
   },
   "outputs": [
    {
     "name": "stderr",
     "output_type": "stream",
     "text": [
      "You passed a `space` parameter to <class 'ray.tune.suggest.hyperopt.HyperOptSearch'> that contained unresolved search space definitions. <class 'ray.tune.suggest.hyperopt.HyperOptSearch'> should however be instantiated with fully configured search spaces only. To use Ray Tune's automatic search space conversion, pass the space definition as part of the `config` argument to `tune.run()` instead.\n"
     ]
    }
   ],
   "source": [
    "method = param_tuning_cfg.search_algo\n",
    "#Search space\n",
    "space = param_tuning_cfg.space\n",
    "#Evaluation metric for configuration evaluation\n",
    "metric = param_tuning_cfg.metric\n",
    "#maximum or minimum mode\n",
    "mode = param_tuning_cfg.mode\n",
    "\n",
    "\"\"\"\n",
    "Shows all hyper-parameter search algorithm that work with CORDS. We use ray-tune library for hyper-parameter tuning\n",
    "in CORDS. Hence, all search algorithms given in raytune can be used with CORDS as well.\n",
    "\"\"\"\n",
    "# HyperOptSearch \n",
    "if method == \"hyperopt\" or method == \"TPE\":\n",
    "    search = HyperOptSearch(space, metric, mode)\n",
    "# BayesOptSearch\n",
    "elif method == \"bayesopt\" or method == \"BO\":\n",
    "    search = BayesOptSearch(space, metric = metric, mode = mode)\n",
    "# SkoptSearch\n",
    "elif method == \"skopt\" or method == \"SKBO\":\n",
    "    search = SkOptSearch(space, metric = metric, mode = mode)\n",
    "# DragonflySearch\n",
    "elif method == \"dragonfly\" or method == \"SBO\":\n",
    "    search = DragonflySearch(space, metric = metric, mode = mode)\n",
    "# AxSearch\n",
    "elif method == \"ax\" or method == \"BBO\":\n",
    "    search = AxSearch(space, metric = metric, mode = mode)\n",
    "# TuneBOHB\n",
    "elif method == \"tunebohb\" or method == \"BOHB\":\n",
    "    search = TuneBOHB(space, metric = metric, mode = mode)\n",
    "# NevergradSearch\n",
    "elif method == \"nevergrad\" or method == \"GFO\":\n",
    "    search = NevergradSearch(space, metric = metric, mode = mode)\n",
    "# OptunaSearch\n",
    "elif method == \"optuna\" or method == \"OSA\":\n",
    "    search = OptunaSearch(space, metric = metric, mode = mode)\n",
    "# ZOOptSearch\n",
    "elif method == \"zoopt\" or method == \"ZOO\":\n",
    "    search = ZOOptSearch(space, metric = metric, mode = mode)\n",
    "# SigOptSearch\n",
    "elif method == \"sigopt\":\n",
    "    search = SigOptSearch(space, metric = metric, mode = mode)\n",
    "# HEBOSearch\n",
    "elif method == \"hebo\" or method == \"HEBO\":\n",
    "    search = HEBOSearch(space, metric = metric, mode = mode)\n",
    "else:\n",
    "    search = None\n"
   ]
  },
  {
   "cell_type": "markdown",
   "metadata": {
    "id": "QC2pBy4RngM_"
   },
   "source": [
    "### Get Hyper-parameter scheduler\n",
    "\n",
    "In this example, we will be using ASHA as the hyper-parameter scheduler algorithm. In the hyper-parameter tuning configuration file, the scheduler option is given as cfg.scheduler."
   ]
  },
  {
   "cell_type": "code",
   "execution_count": 8,
   "metadata": {
    "id": "GxBRqdlWnfaT"
   },
   "outputs": [],
   "source": [
    "method = param_tuning_cfg.scheduler\n",
    "\n",
    "if method == \"ASHA\" or method == \"asha\":\n",
    "    scheduler = AsyncHyperBandScheduler(metric = metric, mode = mode, \n",
    "                                        max_t = train_cfg.train_args.num_epochs)\n",
    "elif method == \"hyperband\" or method == \"HB\":\n",
    "    scheduler = HyperBandScheduler(metric = metric, mode = mode, \n",
    "                max_t = train_cfg.train_args.num_epochs)\n",
    "elif method == \"BOHB\":\n",
    "    scheduler = HyperBandForBOHB(metric = metric, mode = mode)\n",
    "else:\n",
    "    scheduler = None\n",
    "\n",
    "scheduler = scheduler"
   ]
  },
  {
   "cell_type": "markdown",
   "metadata": {
    "id": "iiWcnKDns1MC"
   },
   "source": [
    "### Utility function that updates the training configuration parameters with new parameters suggested by search algorithm"
   ]
  },
  {
   "cell_type": "code",
   "execution_count": 9,
   "metadata": {
    "id": "8f6fJf3Dsyqu"
   },
   "outputs": [],
   "source": [
    "def update_parameters(config, new_config):\n",
    "    # a generic function to update parameters\n",
    "    if 'learning_rate' in new_config:\n",
    "        config.optimizer.lr = new_config['learning_rate']\n",
    "    if 'learning_rate1' in new_config:\n",
    "        config.optimizer.lr1 = new_config['learning_rate1']\n",
    "    if 'learning_rate2' in new_config:\n",
    "        config.optimizer.lr2 = new_config['learning_rate2']\n",
    "    if 'learning_rate3' in new_config:\n",
    "        config.optimizer.lr3 = new_config['learning_rate3']\n",
    "    if 'optimizer' in new_config:\n",
    "        config.optimizer.type = new_config['optimizer']\n",
    "    if 'nesterov' in new_config:\n",
    "        config.optimizer.nesterov = new_config['nesterov']\n",
    "    if 'scheduler' in new_config:\n",
    "        config.scheduler.type = new_config['scheduler']\n",
    "    if 'gamma' in new_config:\n",
    "        config.scheduler.gamma = new_config['gamma']\n",
    "    if 'epochs' in new_config:\n",
    "        config.train_args.num_epochs = new_config['epochs']\n",
    "    if 'trn_batch_size' in new_config:\n",
    "        config.dataloader.batch_size = new_config['trn_batch_size']\n",
    "    if 'hidden_size' in new_config:\n",
    "        config.model.hidden_size = new_config['hidden_size']\n",
    "    if 'num_layers' in new_config:\n",
    "        config.model.num_layers = new_config['num_layers']\n",
    "    return config\n"
   ]
  },
  {
   "cell_type": "markdown",
   "metadata": {
    "id": "pHjupGiitRF_"
   },
   "source": [
    "### Utility function that takes in the search configuration parameters suggested by hyper-parameter search algorithm, update the training configuration file accordingly, and train the model with the new configuration. "
   ]
  },
  {
   "cell_type": "code",
   "execution_count": 10,
   "metadata": {
    "id": "tcyfqFKrtQhP"
   },
   "outputs": [],
   "source": [
    "def param_tune(train_cfg, train_class, config):\n",
    "    #update parameters in config dict\n",
    "    new_config = update_parameters(train_cfg, config)\n",
    "    train_cfg = new_config\n",
    "    # turn on reporting to ray every time\n",
    "    train_cfg.report_tune = True\n",
    "    train_class.train()"
   ]
  },
  {
   "cell_type": "markdown",
   "metadata": {
    "id": "mGf7aLfguRk1"
   },
   "source": [
    "### Start Hyper-parameter tuning"
   ]
  },
  {
   "cell_type": "code",
   "execution_count": null,
   "metadata": {
    "id": "Jf8EOTO5uREQ"
   },
   "outputs": [
    {
     "name": "stderr",
     "output_type": "stream",
     "text": [
      "2022-02-23 07:31:31,583\tINFO services.py:1255 -- View the Ray dashboard at \u001b[1m\u001b[32mhttp://127.0.0.1:8265\u001b[39m\u001b[22m\n",
      "2022-02-23 07:31:32,599\tWARNING function_runner.py:559 -- Function checkpointing is disabled. This may result in unexpected behavior when using checkpointing features or certain schedulers. To enable, set the train function arguments to be `func(config, checkpoint_dir=None)`.\n"
     ]
    },
    {
     "data": {
      "text/html": [
       "== Status ==<br>Memory usage on this node: 9.9/754.6 GiB<br>Using HyperBand: num_stopped=0 total_brackets=1\n",
       "Round #0:\n",
       "  Bracket(Max Size (n)=6, Milestone (r)=300, completed=0.0%): {RUNNING: 1} <br>Resources requested: 1.0/36 CPUs, 1.0/7 GPUs, 0.0/555.86 GiB heap, 0.0/186.26 GiB objects (0.0/1.0 accelerator_type:G)<br>Result logdir: /home/kk/cords-1/RayLogs/GradMatchPB-Warm/lambda_2022-02-23_07-31-32<br>Number of trials: 1/20 (1 RUNNING)<br><table>\n",
       "<thead>\n",
       "<tr><th>Trial name     </th><th>status  </th><th>loc  </th><th style=\"text-align: right;\">    gamma</th><th style=\"text-align: right;\">  learning_rate</th><th style=\"text-align: right;\">  learning_rate1</th><th style=\"text-align: right;\">  learning_rate2</th><th style=\"text-align: right;\">  learning_rate3</th><th>nesterov  </th><th>scheduler       </th></tr>\n",
       "</thead>\n",
       "<tbody>\n",
       "<tr><td>lambda_adc3b91c</td><td>RUNNING </td><td>     </td><td style=\"text-align: right;\">0.0534229</td><td style=\"text-align: right;\">     0.00209626</td><td style=\"text-align: right;\">      0.00160822</td><td style=\"text-align: right;\">      0.00804886</td><td style=\"text-align: right;\">      0.00758509</td><td>True      </td><td>cosine_annealing</td></tr>\n",
       "</tbody>\n",
       "</table><br><br>"
      ],
      "text/plain": [
       "<IPython.core.display.HTML object>"
      ]
     },
     "metadata": {},
     "output_type": "display_data"
    },
    {
     "name": "stdout",
     "output_type": "stream",
     "text": [
      "\u001b[2m\u001b[36m(ImplicitFunc pid=57777)\u001b[0m Files already downloaded and verified\n",
      "\u001b[2m\u001b[36m(ImplicitFunc pid=57769)\u001b[0m Files already downloaded and verified\n",
      "\u001b[2m\u001b[36m(ImplicitFunc pid=57767)\u001b[0m Files already downloaded and verified\n",
      "\u001b[2m\u001b[36m(ImplicitFunc pid=57748)\u001b[0m Files already downloaded and verified\n",
      "\u001b[2m\u001b[36m(ImplicitFunc pid=57749)\u001b[0m Files already downloaded and verified\n",
      "\u001b[2m\u001b[36m(ImplicitFunc pid=57763)\u001b[0m Files already downloaded and verified\n",
      "\u001b[2m\u001b[36m(ImplicitFunc pid=57773)\u001b[0m Files already downloaded and verified\n",
      "\u001b[2m\u001b[36m(ImplicitFunc pid=57777)\u001b[0m Files already downloaded and verified\n",
      "\u001b[2m\u001b[36m(ImplicitFunc pid=57769)\u001b[0m Files already downloaded and verified\n",
      "\u001b[2m\u001b[36m(ImplicitFunc pid=57767)\u001b[0m Files already downloaded and verified\n"
     ]
    },
    {
     "data": {
      "text/html": [
       "== Status ==<br>Memory usage on this node: 12.9/754.6 GiB<br>Using HyperBand: num_stopped=0 total_brackets=2\n",
       "Round #0:\n",
       "  Bracket(Max Size (n)=6, Milestone (r)=300, completed=0.0%): {RUNNING: 6} \n",
       "  Bracket(Max Size (n)=9, Milestone (r)=100, completed=0.0%): {PENDING: 1, RUNNING: 1} <br>Resources requested: 7.0/36 CPUs, 7.0/7 GPUs, 0.0/555.86 GiB heap, 0.0/186.26 GiB objects (0.0/1.0 accelerator_type:G)<br>Result logdir: /home/kk/cords-1/RayLogs/GradMatchPB-Warm/lambda_2022-02-23_07-31-32<br>Number of trials: 8/20 (1 PENDING, 7 RUNNING)<br><table>\n",
       "<thead>\n",
       "<tr><th>Trial name     </th><th>status  </th><th>loc  </th><th style=\"text-align: right;\">    gamma</th><th style=\"text-align: right;\">  learning_rate</th><th style=\"text-align: right;\">  learning_rate1</th><th style=\"text-align: right;\">  learning_rate2</th><th style=\"text-align: right;\">  learning_rate3</th><th>nesterov  </th><th>scheduler       </th></tr>\n",
       "</thead>\n",
       "<tbody>\n",
       "<tr><td>lambda_adc3b91c</td><td>RUNNING </td><td>     </td><td style=\"text-align: right;\">0.0534229</td><td style=\"text-align: right;\">     0.00209626</td><td style=\"text-align: right;\">      0.00160822</td><td style=\"text-align: right;\">      0.00804886</td><td style=\"text-align: right;\">      0.00758509</td><td>True      </td><td>cosine_annealing</td></tr>\n",
       "<tr><td>lambda_adc3b91d</td><td>RUNNING </td><td>     </td><td style=\"text-align: right;\">0.346234 </td><td style=\"text-align: right;\">     0.00108808</td><td style=\"text-align: right;\">      0.0074471 </td><td style=\"text-align: right;\">      0.00883177</td><td style=\"text-align: right;\">      0.00968488</td><td>True      </td><td>cosine_annealing</td></tr>\n",
       "<tr><td>lambda_adc3b91e</td><td>RUNNING </td><td>     </td><td style=\"text-align: right;\">0.133558 </td><td style=\"text-align: right;\">     0.00682071</td><td style=\"text-align: right;\">      0.00830856</td><td style=\"text-align: right;\">      0.00413312</td><td style=\"text-align: right;\">      0.00992691</td><td>False     </td><td>cosine_annealing</td></tr>\n",
       "<tr><td>lambda_adc3b91f</td><td>RUNNING </td><td>     </td><td style=\"text-align: right;\">0.420442 </td><td style=\"text-align: right;\">     0.0043266 </td><td style=\"text-align: right;\">      0.00995842</td><td style=\"text-align: right;\">      0.00685197</td><td style=\"text-align: right;\">      0.00166082</td><td>True      </td><td>linear_decay    </td></tr>\n",
       "<tr><td>lambda_adc3b920</td><td>RUNNING </td><td>     </td><td style=\"text-align: right;\">0.480015 </td><td style=\"text-align: right;\">     0.00734749</td><td style=\"text-align: right;\">      0.00502661</td><td style=\"text-align: right;\">      0.00997895</td><td style=\"text-align: right;\">      0.00967184</td><td>False     </td><td>cosine_annealing</td></tr>\n",
       "<tr><td>lambda_adc3b921</td><td>RUNNING </td><td>     </td><td style=\"text-align: right;\">0.424345 </td><td style=\"text-align: right;\">     0.00242506</td><td style=\"text-align: right;\">      0.00638801</td><td style=\"text-align: right;\">      0.00800052</td><td style=\"text-align: right;\">      0.00325679</td><td>False     </td><td>cosine_annealing</td></tr>\n",
       "<tr><td>lambda_adc3b922</td><td>RUNNING </td><td>     </td><td style=\"text-align: right;\">0.392555 </td><td style=\"text-align: right;\">     0.00733178</td><td style=\"text-align: right;\">      0.00289016</td><td style=\"text-align: right;\">      0.00709749</td><td style=\"text-align: right;\">      0.00143959</td><td>True      </td><td>cosine_annealing</td></tr>\n",
       "<tr><td>lambda_adc3b923</td><td>PENDING </td><td>     </td><td style=\"text-align: right;\">0.489559 </td><td style=\"text-align: right;\">     0.00542594</td><td style=\"text-align: right;\">      0.00246563</td><td style=\"text-align: right;\">      0.00788904</td><td style=\"text-align: right;\">      0.00507275</td><td>True      </td><td>cosine_annealing</td></tr>\n",
       "</tbody>\n",
       "</table><br><br>"
      ],
      "text/plain": [
       "<IPython.core.display.HTML object>"
      ]
     },
     "metadata": {},
     "output_type": "display_data"
    },
    {
     "name": "stdout",
     "output_type": "stream",
     "text": [
      "\u001b[2m\u001b[36m(ImplicitFunc pid=57748)\u001b[0m Files already downloaded and verified\n",
      "\u001b[2m\u001b[36m(ImplicitFunc pid=57749)\u001b[0m Files already downloaded and verified\n",
      "\u001b[2m\u001b[36m(ImplicitFunc pid=57763)\u001b[0m Files already downloaded and verified\n",
      "\u001b[2m\u001b[36m(ImplicitFunc pid=57773)\u001b[0m Files already downloaded and verified\n"
     ]
    },
    {
     "data": {
      "text/html": [
       "== Status ==<br>Memory usage on this node: 26.2/754.6 GiB<br>Using HyperBand: num_stopped=0 total_brackets=2\n",
       "Round #0:\n",
       "  Bracket(Max Size (n)=6, Milestone (r)=300, completed=0.0%): {RUNNING: 6} \n",
       "  Bracket(Max Size (n)=9, Milestone (r)=100, completed=0.0%): {PENDING: 1, RUNNING: 1} <br>Resources requested: 7.0/36 CPUs, 7.0/7 GPUs, 0.0/555.86 GiB heap, 0.0/186.26 GiB objects (0.0/1.0 accelerator_type:G)<br>Result logdir: /home/kk/cords-1/RayLogs/GradMatchPB-Warm/lambda_2022-02-23_07-31-32<br>Number of trials: 8/20 (1 PENDING, 7 RUNNING)<br><table>\n",
       "<thead>\n",
       "<tr><th>Trial name     </th><th>status  </th><th>loc  </th><th style=\"text-align: right;\">    gamma</th><th style=\"text-align: right;\">  learning_rate</th><th style=\"text-align: right;\">  learning_rate1</th><th style=\"text-align: right;\">  learning_rate2</th><th style=\"text-align: right;\">  learning_rate3</th><th>nesterov  </th><th>scheduler       </th></tr>\n",
       "</thead>\n",
       "<tbody>\n",
       "<tr><td>lambda_adc3b91c</td><td>RUNNING </td><td>     </td><td style=\"text-align: right;\">0.0534229</td><td style=\"text-align: right;\">     0.00209626</td><td style=\"text-align: right;\">      0.00160822</td><td style=\"text-align: right;\">      0.00804886</td><td style=\"text-align: right;\">      0.00758509</td><td>True      </td><td>cosine_annealing</td></tr>\n",
       "<tr><td>lambda_adc3b91d</td><td>RUNNING </td><td>     </td><td style=\"text-align: right;\">0.346234 </td><td style=\"text-align: right;\">     0.00108808</td><td style=\"text-align: right;\">      0.0074471 </td><td style=\"text-align: right;\">      0.00883177</td><td style=\"text-align: right;\">      0.00968488</td><td>True      </td><td>cosine_annealing</td></tr>\n",
       "<tr><td>lambda_adc3b91e</td><td>RUNNING </td><td>     </td><td style=\"text-align: right;\">0.133558 </td><td style=\"text-align: right;\">     0.00682071</td><td style=\"text-align: right;\">      0.00830856</td><td style=\"text-align: right;\">      0.00413312</td><td style=\"text-align: right;\">      0.00992691</td><td>False     </td><td>cosine_annealing</td></tr>\n",
       "<tr><td>lambda_adc3b91f</td><td>RUNNING </td><td>     </td><td style=\"text-align: right;\">0.420442 </td><td style=\"text-align: right;\">     0.0043266 </td><td style=\"text-align: right;\">      0.00995842</td><td style=\"text-align: right;\">      0.00685197</td><td style=\"text-align: right;\">      0.00166082</td><td>True      </td><td>linear_decay    </td></tr>\n",
       "<tr><td>lambda_adc3b920</td><td>RUNNING </td><td>     </td><td style=\"text-align: right;\">0.480015 </td><td style=\"text-align: right;\">     0.00734749</td><td style=\"text-align: right;\">      0.00502661</td><td style=\"text-align: right;\">      0.00997895</td><td style=\"text-align: right;\">      0.00967184</td><td>False     </td><td>cosine_annealing</td></tr>\n",
       "<tr><td>lambda_adc3b921</td><td>RUNNING </td><td>     </td><td style=\"text-align: right;\">0.424345 </td><td style=\"text-align: right;\">     0.00242506</td><td style=\"text-align: right;\">      0.00638801</td><td style=\"text-align: right;\">      0.00800052</td><td style=\"text-align: right;\">      0.00325679</td><td>False     </td><td>cosine_annealing</td></tr>\n",
       "<tr><td>lambda_adc3b922</td><td>RUNNING </td><td>     </td><td style=\"text-align: right;\">0.392555 </td><td style=\"text-align: right;\">     0.00733178</td><td style=\"text-align: right;\">      0.00289016</td><td style=\"text-align: right;\">      0.00709749</td><td style=\"text-align: right;\">      0.00143959</td><td>True      </td><td>cosine_annealing</td></tr>\n",
       "<tr><td>lambda_adc3b923</td><td>PENDING </td><td>     </td><td style=\"text-align: right;\">0.489559 </td><td style=\"text-align: right;\">     0.00542594</td><td style=\"text-align: right;\">      0.00246563</td><td style=\"text-align: right;\">      0.00788904</td><td style=\"text-align: right;\">      0.00507275</td><td>True      </td><td>cosine_annealing</td></tr>\n",
       "</tbody>\n",
       "</table><br><br>"
      ],
      "text/plain": [
       "<IPython.core.display.HTML object>"
      ]
     },
     "metadata": {},
     "output_type": "display_data"
    },
    {
     "data": {
      "text/html": [
       "== Status ==<br>Memory usage on this node: 26.2/754.6 GiB<br>Using HyperBand: num_stopped=0 total_brackets=2\n",
       "Round #0:\n",
       "  Bracket(Max Size (n)=6, Milestone (r)=300, completed=0.0%): {RUNNING: 6} \n",
       "  Bracket(Max Size (n)=9, Milestone (r)=100, completed=0.0%): {PENDING: 1, RUNNING: 1} <br>Resources requested: 7.0/36 CPUs, 7.0/7 GPUs, 0.0/555.86 GiB heap, 0.0/186.26 GiB objects (0.0/1.0 accelerator_type:G)<br>Result logdir: /home/kk/cords-1/RayLogs/GradMatchPB-Warm/lambda_2022-02-23_07-31-32<br>Number of trials: 8/20 (1 PENDING, 7 RUNNING)<br><table>\n",
       "<thead>\n",
       "<tr><th>Trial name     </th><th>status  </th><th>loc  </th><th style=\"text-align: right;\">    gamma</th><th style=\"text-align: right;\">  learning_rate</th><th style=\"text-align: right;\">  learning_rate1</th><th style=\"text-align: right;\">  learning_rate2</th><th style=\"text-align: right;\">  learning_rate3</th><th>nesterov  </th><th>scheduler       </th></tr>\n",
       "</thead>\n",
       "<tbody>\n",
       "<tr><td>lambda_adc3b91c</td><td>RUNNING </td><td>     </td><td style=\"text-align: right;\">0.0534229</td><td style=\"text-align: right;\">     0.00209626</td><td style=\"text-align: right;\">      0.00160822</td><td style=\"text-align: right;\">      0.00804886</td><td style=\"text-align: right;\">      0.00758509</td><td>True      </td><td>cosine_annealing</td></tr>\n",
       "<tr><td>lambda_adc3b91d</td><td>RUNNING </td><td>     </td><td style=\"text-align: right;\">0.346234 </td><td style=\"text-align: right;\">     0.00108808</td><td style=\"text-align: right;\">      0.0074471 </td><td style=\"text-align: right;\">      0.00883177</td><td style=\"text-align: right;\">      0.00968488</td><td>True      </td><td>cosine_annealing</td></tr>\n",
       "<tr><td>lambda_adc3b91e</td><td>RUNNING </td><td>     </td><td style=\"text-align: right;\">0.133558 </td><td style=\"text-align: right;\">     0.00682071</td><td style=\"text-align: right;\">      0.00830856</td><td style=\"text-align: right;\">      0.00413312</td><td style=\"text-align: right;\">      0.00992691</td><td>False     </td><td>cosine_annealing</td></tr>\n",
       "<tr><td>lambda_adc3b91f</td><td>RUNNING </td><td>     </td><td style=\"text-align: right;\">0.420442 </td><td style=\"text-align: right;\">     0.0043266 </td><td style=\"text-align: right;\">      0.00995842</td><td style=\"text-align: right;\">      0.00685197</td><td style=\"text-align: right;\">      0.00166082</td><td>True      </td><td>linear_decay    </td></tr>\n",
       "<tr><td>lambda_adc3b920</td><td>RUNNING </td><td>     </td><td style=\"text-align: right;\">0.480015 </td><td style=\"text-align: right;\">     0.00734749</td><td style=\"text-align: right;\">      0.00502661</td><td style=\"text-align: right;\">      0.00997895</td><td style=\"text-align: right;\">      0.00967184</td><td>False     </td><td>cosine_annealing</td></tr>\n",
       "<tr><td>lambda_adc3b921</td><td>RUNNING </td><td>     </td><td style=\"text-align: right;\">0.424345 </td><td style=\"text-align: right;\">     0.00242506</td><td style=\"text-align: right;\">      0.00638801</td><td style=\"text-align: right;\">      0.00800052</td><td style=\"text-align: right;\">      0.00325679</td><td>False     </td><td>cosine_annealing</td></tr>\n",
       "<tr><td>lambda_adc3b922</td><td>RUNNING </td><td>     </td><td style=\"text-align: right;\">0.392555 </td><td style=\"text-align: right;\">     0.00733178</td><td style=\"text-align: right;\">      0.00289016</td><td style=\"text-align: right;\">      0.00709749</td><td style=\"text-align: right;\">      0.00143959</td><td>True      </td><td>cosine_annealing</td></tr>\n",
       "<tr><td>lambda_adc3b923</td><td>PENDING </td><td>     </td><td style=\"text-align: right;\">0.489559 </td><td style=\"text-align: right;\">     0.00542594</td><td style=\"text-align: right;\">      0.00246563</td><td style=\"text-align: right;\">      0.00788904</td><td style=\"text-align: right;\">      0.00507275</td><td>True      </td><td>cosine_annealing</td></tr>\n",
       "</tbody>\n",
       "</table><br><br>"
      ],
      "text/plain": [
       "<IPython.core.display.HTML object>"
      ]
     },
     "metadata": {},
     "output_type": "display_data"
    },
    {
     "data": {
      "text/html": [
       "== Status ==<br>Memory usage on this node: 26.2/754.6 GiB<br>Using HyperBand: num_stopped=0 total_brackets=2\n",
       "Round #0:\n",
       "  Bracket(Max Size (n)=6, Milestone (r)=300, completed=0.0%): {RUNNING: 6} \n",
       "  Bracket(Max Size (n)=9, Milestone (r)=100, completed=0.0%): {PENDING: 1, RUNNING: 1} <br>Resources requested: 7.0/36 CPUs, 7.0/7 GPUs, 0.0/555.86 GiB heap, 0.0/186.26 GiB objects (0.0/1.0 accelerator_type:G)<br>Result logdir: /home/kk/cords-1/RayLogs/GradMatchPB-Warm/lambda_2022-02-23_07-31-32<br>Number of trials: 8/20 (1 PENDING, 7 RUNNING)<br><table>\n",
       "<thead>\n",
       "<tr><th>Trial name     </th><th>status  </th><th>loc  </th><th style=\"text-align: right;\">    gamma</th><th style=\"text-align: right;\">  learning_rate</th><th style=\"text-align: right;\">  learning_rate1</th><th style=\"text-align: right;\">  learning_rate2</th><th style=\"text-align: right;\">  learning_rate3</th><th>nesterov  </th><th>scheduler       </th></tr>\n",
       "</thead>\n",
       "<tbody>\n",
       "<tr><td>lambda_adc3b91c</td><td>RUNNING </td><td>     </td><td style=\"text-align: right;\">0.0534229</td><td style=\"text-align: right;\">     0.00209626</td><td style=\"text-align: right;\">      0.00160822</td><td style=\"text-align: right;\">      0.00804886</td><td style=\"text-align: right;\">      0.00758509</td><td>True      </td><td>cosine_annealing</td></tr>\n",
       "<tr><td>lambda_adc3b91d</td><td>RUNNING </td><td>     </td><td style=\"text-align: right;\">0.346234 </td><td style=\"text-align: right;\">     0.00108808</td><td style=\"text-align: right;\">      0.0074471 </td><td style=\"text-align: right;\">      0.00883177</td><td style=\"text-align: right;\">      0.00968488</td><td>True      </td><td>cosine_annealing</td></tr>\n",
       "<tr><td>lambda_adc3b91e</td><td>RUNNING </td><td>     </td><td style=\"text-align: right;\">0.133558 </td><td style=\"text-align: right;\">     0.00682071</td><td style=\"text-align: right;\">      0.00830856</td><td style=\"text-align: right;\">      0.00413312</td><td style=\"text-align: right;\">      0.00992691</td><td>False     </td><td>cosine_annealing</td></tr>\n",
       "<tr><td>lambda_adc3b91f</td><td>RUNNING </td><td>     </td><td style=\"text-align: right;\">0.420442 </td><td style=\"text-align: right;\">     0.0043266 </td><td style=\"text-align: right;\">      0.00995842</td><td style=\"text-align: right;\">      0.00685197</td><td style=\"text-align: right;\">      0.00166082</td><td>True      </td><td>linear_decay    </td></tr>\n",
       "<tr><td>lambda_adc3b920</td><td>RUNNING </td><td>     </td><td style=\"text-align: right;\">0.480015 </td><td style=\"text-align: right;\">     0.00734749</td><td style=\"text-align: right;\">      0.00502661</td><td style=\"text-align: right;\">      0.00997895</td><td style=\"text-align: right;\">      0.00967184</td><td>False     </td><td>cosine_annealing</td></tr>\n",
       "<tr><td>lambda_adc3b921</td><td>RUNNING </td><td>     </td><td style=\"text-align: right;\">0.424345 </td><td style=\"text-align: right;\">     0.00242506</td><td style=\"text-align: right;\">      0.00638801</td><td style=\"text-align: right;\">      0.00800052</td><td style=\"text-align: right;\">      0.00325679</td><td>False     </td><td>cosine_annealing</td></tr>\n",
       "<tr><td>lambda_adc3b922</td><td>RUNNING </td><td>     </td><td style=\"text-align: right;\">0.392555 </td><td style=\"text-align: right;\">     0.00733178</td><td style=\"text-align: right;\">      0.00289016</td><td style=\"text-align: right;\">      0.00709749</td><td style=\"text-align: right;\">      0.00143959</td><td>True      </td><td>cosine_annealing</td></tr>\n",
       "<tr><td>lambda_adc3b923</td><td>PENDING </td><td>     </td><td style=\"text-align: right;\">0.489559 </td><td style=\"text-align: right;\">     0.00542594</td><td style=\"text-align: right;\">      0.00246563</td><td style=\"text-align: right;\">      0.00788904</td><td style=\"text-align: right;\">      0.00507275</td><td>True      </td><td>cosine_annealing</td></tr>\n",
       "</tbody>\n",
       "</table><br><br>"
      ],
      "text/plain": [
       "<IPython.core.display.HTML object>"
      ]
     },
     "metadata": {},
     "output_type": "display_data"
    },
    {
     "data": {
      "text/html": [
       "== Status ==<br>Memory usage on this node: 26.2/754.6 GiB<br>Using HyperBand: num_stopped=0 total_brackets=2\n",
       "Round #0:\n",
       "  Bracket(Max Size (n)=6, Milestone (r)=300, completed=0.0%): {RUNNING: 6} \n",
       "  Bracket(Max Size (n)=9, Milestone (r)=100, completed=0.0%): {PENDING: 1, RUNNING: 1} <br>Resources requested: 7.0/36 CPUs, 7.0/7 GPUs, 0.0/555.86 GiB heap, 0.0/186.26 GiB objects (0.0/1.0 accelerator_type:G)<br>Result logdir: /home/kk/cords-1/RayLogs/GradMatchPB-Warm/lambda_2022-02-23_07-31-32<br>Number of trials: 8/20 (1 PENDING, 7 RUNNING)<br><table>\n",
       "<thead>\n",
       "<tr><th>Trial name     </th><th>status  </th><th>loc  </th><th style=\"text-align: right;\">    gamma</th><th style=\"text-align: right;\">  learning_rate</th><th style=\"text-align: right;\">  learning_rate1</th><th style=\"text-align: right;\">  learning_rate2</th><th style=\"text-align: right;\">  learning_rate3</th><th>nesterov  </th><th>scheduler       </th></tr>\n",
       "</thead>\n",
       "<tbody>\n",
       "<tr><td>lambda_adc3b91c</td><td>RUNNING </td><td>     </td><td style=\"text-align: right;\">0.0534229</td><td style=\"text-align: right;\">     0.00209626</td><td style=\"text-align: right;\">      0.00160822</td><td style=\"text-align: right;\">      0.00804886</td><td style=\"text-align: right;\">      0.00758509</td><td>True      </td><td>cosine_annealing</td></tr>\n",
       "<tr><td>lambda_adc3b91d</td><td>RUNNING </td><td>     </td><td style=\"text-align: right;\">0.346234 </td><td style=\"text-align: right;\">     0.00108808</td><td style=\"text-align: right;\">      0.0074471 </td><td style=\"text-align: right;\">      0.00883177</td><td style=\"text-align: right;\">      0.00968488</td><td>True      </td><td>cosine_annealing</td></tr>\n",
       "<tr><td>lambda_adc3b91e</td><td>RUNNING </td><td>     </td><td style=\"text-align: right;\">0.133558 </td><td style=\"text-align: right;\">     0.00682071</td><td style=\"text-align: right;\">      0.00830856</td><td style=\"text-align: right;\">      0.00413312</td><td style=\"text-align: right;\">      0.00992691</td><td>False     </td><td>cosine_annealing</td></tr>\n",
       "<tr><td>lambda_adc3b91f</td><td>RUNNING </td><td>     </td><td style=\"text-align: right;\">0.420442 </td><td style=\"text-align: right;\">     0.0043266 </td><td style=\"text-align: right;\">      0.00995842</td><td style=\"text-align: right;\">      0.00685197</td><td style=\"text-align: right;\">      0.00166082</td><td>True      </td><td>linear_decay    </td></tr>\n",
       "<tr><td>lambda_adc3b920</td><td>RUNNING </td><td>     </td><td style=\"text-align: right;\">0.480015 </td><td style=\"text-align: right;\">     0.00734749</td><td style=\"text-align: right;\">      0.00502661</td><td style=\"text-align: right;\">      0.00997895</td><td style=\"text-align: right;\">      0.00967184</td><td>False     </td><td>cosine_annealing</td></tr>\n",
       "<tr><td>lambda_adc3b921</td><td>RUNNING </td><td>     </td><td style=\"text-align: right;\">0.424345 </td><td style=\"text-align: right;\">     0.00242506</td><td style=\"text-align: right;\">      0.00638801</td><td style=\"text-align: right;\">      0.00800052</td><td style=\"text-align: right;\">      0.00325679</td><td>False     </td><td>cosine_annealing</td></tr>\n",
       "<tr><td>lambda_adc3b922</td><td>RUNNING </td><td>     </td><td style=\"text-align: right;\">0.392555 </td><td style=\"text-align: right;\">     0.00733178</td><td style=\"text-align: right;\">      0.00289016</td><td style=\"text-align: right;\">      0.00709749</td><td style=\"text-align: right;\">      0.00143959</td><td>True      </td><td>cosine_annealing</td></tr>\n",
       "<tr><td>lambda_adc3b923</td><td>PENDING </td><td>     </td><td style=\"text-align: right;\">0.489559 </td><td style=\"text-align: right;\">     0.00542594</td><td style=\"text-align: right;\">      0.00246563</td><td style=\"text-align: right;\">      0.00788904</td><td style=\"text-align: right;\">      0.00507275</td><td>True      </td><td>cosine_annealing</td></tr>\n",
       "</tbody>\n",
       "</table><br><br>"
      ],
      "text/plain": [
       "<IPython.core.display.HTML object>"
      ]
     },
     "metadata": {},
     "output_type": "display_data"
    },
    {
     "data": {
      "text/html": [
       "== Status ==<br>Memory usage on this node: 26.2/754.6 GiB<br>Using HyperBand: num_stopped=0 total_brackets=2\n",
       "Round #0:\n",
       "  Bracket(Max Size (n)=6, Milestone (r)=300, completed=0.0%): {RUNNING: 6} \n",
       "  Bracket(Max Size (n)=9, Milestone (r)=100, completed=0.0%): {PENDING: 1, RUNNING: 1} <br>Resources requested: 7.0/36 CPUs, 7.0/7 GPUs, 0.0/555.86 GiB heap, 0.0/186.26 GiB objects (0.0/1.0 accelerator_type:G)<br>Result logdir: /home/kk/cords-1/RayLogs/GradMatchPB-Warm/lambda_2022-02-23_07-31-32<br>Number of trials: 8/20 (1 PENDING, 7 RUNNING)<br><table>\n",
       "<thead>\n",
       "<tr><th>Trial name     </th><th>status  </th><th>loc  </th><th style=\"text-align: right;\">    gamma</th><th style=\"text-align: right;\">  learning_rate</th><th style=\"text-align: right;\">  learning_rate1</th><th style=\"text-align: right;\">  learning_rate2</th><th style=\"text-align: right;\">  learning_rate3</th><th>nesterov  </th><th>scheduler       </th></tr>\n",
       "</thead>\n",
       "<tbody>\n",
       "<tr><td>lambda_adc3b91c</td><td>RUNNING </td><td>     </td><td style=\"text-align: right;\">0.0534229</td><td style=\"text-align: right;\">     0.00209626</td><td style=\"text-align: right;\">      0.00160822</td><td style=\"text-align: right;\">      0.00804886</td><td style=\"text-align: right;\">      0.00758509</td><td>True      </td><td>cosine_annealing</td></tr>\n",
       "<tr><td>lambda_adc3b91d</td><td>RUNNING </td><td>     </td><td style=\"text-align: right;\">0.346234 </td><td style=\"text-align: right;\">     0.00108808</td><td style=\"text-align: right;\">      0.0074471 </td><td style=\"text-align: right;\">      0.00883177</td><td style=\"text-align: right;\">      0.00968488</td><td>True      </td><td>cosine_annealing</td></tr>\n",
       "<tr><td>lambda_adc3b91e</td><td>RUNNING </td><td>     </td><td style=\"text-align: right;\">0.133558 </td><td style=\"text-align: right;\">     0.00682071</td><td style=\"text-align: right;\">      0.00830856</td><td style=\"text-align: right;\">      0.00413312</td><td style=\"text-align: right;\">      0.00992691</td><td>False     </td><td>cosine_annealing</td></tr>\n",
       "<tr><td>lambda_adc3b91f</td><td>RUNNING </td><td>     </td><td style=\"text-align: right;\">0.420442 </td><td style=\"text-align: right;\">     0.0043266 </td><td style=\"text-align: right;\">      0.00995842</td><td style=\"text-align: right;\">      0.00685197</td><td style=\"text-align: right;\">      0.00166082</td><td>True      </td><td>linear_decay    </td></tr>\n",
       "<tr><td>lambda_adc3b920</td><td>RUNNING </td><td>     </td><td style=\"text-align: right;\">0.480015 </td><td style=\"text-align: right;\">     0.00734749</td><td style=\"text-align: right;\">      0.00502661</td><td style=\"text-align: right;\">      0.00997895</td><td style=\"text-align: right;\">      0.00967184</td><td>False     </td><td>cosine_annealing</td></tr>\n",
       "<tr><td>lambda_adc3b921</td><td>RUNNING </td><td>     </td><td style=\"text-align: right;\">0.424345 </td><td style=\"text-align: right;\">     0.00242506</td><td style=\"text-align: right;\">      0.00638801</td><td style=\"text-align: right;\">      0.00800052</td><td style=\"text-align: right;\">      0.00325679</td><td>False     </td><td>cosine_annealing</td></tr>\n",
       "<tr><td>lambda_adc3b922</td><td>RUNNING </td><td>     </td><td style=\"text-align: right;\">0.392555 </td><td style=\"text-align: right;\">     0.00733178</td><td style=\"text-align: right;\">      0.00289016</td><td style=\"text-align: right;\">      0.00709749</td><td style=\"text-align: right;\">      0.00143959</td><td>True      </td><td>cosine_annealing</td></tr>\n",
       "<tr><td>lambda_adc3b923</td><td>PENDING </td><td>     </td><td style=\"text-align: right;\">0.489559 </td><td style=\"text-align: right;\">     0.00542594</td><td style=\"text-align: right;\">      0.00246563</td><td style=\"text-align: right;\">      0.00788904</td><td style=\"text-align: right;\">      0.00507275</td><td>True      </td><td>cosine_annealing</td></tr>\n",
       "</tbody>\n",
       "</table><br><br>"
      ],
      "text/plain": [
       "<IPython.core.display.HTML object>"
      ]
     },
     "metadata": {},
     "output_type": "display_data"
    },
    {
     "data": {
      "text/html": [
       "== Status ==<br>Memory usage on this node: 26.0/754.6 GiB<br>Using HyperBand: num_stopped=0 total_brackets=2\n",
       "Round #0:\n",
       "  Bracket(Max Size (n)=6, Milestone (r)=300, completed=0.0%): {RUNNING: 6} \n",
       "  Bracket(Max Size (n)=9, Milestone (r)=100, completed=0.0%): {PENDING: 1, RUNNING: 1} <br>Resources requested: 7.0/36 CPUs, 7.0/7 GPUs, 0.0/555.86 GiB heap, 0.0/186.26 GiB objects (0.0/1.0 accelerator_type:G)<br>Result logdir: /home/kk/cords-1/RayLogs/GradMatchPB-Warm/lambda_2022-02-23_07-31-32<br>Number of trials: 8/20 (1 PENDING, 7 RUNNING)<br><table>\n",
       "<thead>\n",
       "<tr><th>Trial name     </th><th>status  </th><th>loc  </th><th style=\"text-align: right;\">    gamma</th><th style=\"text-align: right;\">  learning_rate</th><th style=\"text-align: right;\">  learning_rate1</th><th style=\"text-align: right;\">  learning_rate2</th><th style=\"text-align: right;\">  learning_rate3</th><th>nesterov  </th><th>scheduler       </th></tr>\n",
       "</thead>\n",
       "<tbody>\n",
       "<tr><td>lambda_adc3b91c</td><td>RUNNING </td><td>     </td><td style=\"text-align: right;\">0.0534229</td><td style=\"text-align: right;\">     0.00209626</td><td style=\"text-align: right;\">      0.00160822</td><td style=\"text-align: right;\">      0.00804886</td><td style=\"text-align: right;\">      0.00758509</td><td>True      </td><td>cosine_annealing</td></tr>\n",
       "<tr><td>lambda_adc3b91d</td><td>RUNNING </td><td>     </td><td style=\"text-align: right;\">0.346234 </td><td style=\"text-align: right;\">     0.00108808</td><td style=\"text-align: right;\">      0.0074471 </td><td style=\"text-align: right;\">      0.00883177</td><td style=\"text-align: right;\">      0.00968488</td><td>True      </td><td>cosine_annealing</td></tr>\n",
       "<tr><td>lambda_adc3b91e</td><td>RUNNING </td><td>     </td><td style=\"text-align: right;\">0.133558 </td><td style=\"text-align: right;\">     0.00682071</td><td style=\"text-align: right;\">      0.00830856</td><td style=\"text-align: right;\">      0.00413312</td><td style=\"text-align: right;\">      0.00992691</td><td>False     </td><td>cosine_annealing</td></tr>\n",
       "<tr><td>lambda_adc3b91f</td><td>RUNNING </td><td>     </td><td style=\"text-align: right;\">0.420442 </td><td style=\"text-align: right;\">     0.0043266 </td><td style=\"text-align: right;\">      0.00995842</td><td style=\"text-align: right;\">      0.00685197</td><td style=\"text-align: right;\">      0.00166082</td><td>True      </td><td>linear_decay    </td></tr>\n",
       "<tr><td>lambda_adc3b920</td><td>RUNNING </td><td>     </td><td style=\"text-align: right;\">0.480015 </td><td style=\"text-align: right;\">     0.00734749</td><td style=\"text-align: right;\">      0.00502661</td><td style=\"text-align: right;\">      0.00997895</td><td style=\"text-align: right;\">      0.00967184</td><td>False     </td><td>cosine_annealing</td></tr>\n",
       "<tr><td>lambda_adc3b921</td><td>RUNNING </td><td>     </td><td style=\"text-align: right;\">0.424345 </td><td style=\"text-align: right;\">     0.00242506</td><td style=\"text-align: right;\">      0.00638801</td><td style=\"text-align: right;\">      0.00800052</td><td style=\"text-align: right;\">      0.00325679</td><td>False     </td><td>cosine_annealing</td></tr>\n",
       "<tr><td>lambda_adc3b922</td><td>RUNNING </td><td>     </td><td style=\"text-align: right;\">0.392555 </td><td style=\"text-align: right;\">     0.00733178</td><td style=\"text-align: right;\">      0.00289016</td><td style=\"text-align: right;\">      0.00709749</td><td style=\"text-align: right;\">      0.00143959</td><td>True      </td><td>cosine_annealing</td></tr>\n",
       "<tr><td>lambda_adc3b923</td><td>PENDING </td><td>     </td><td style=\"text-align: right;\">0.489559 </td><td style=\"text-align: right;\">     0.00542594</td><td style=\"text-align: right;\">      0.00246563</td><td style=\"text-align: right;\">      0.00788904</td><td style=\"text-align: right;\">      0.00507275</td><td>True      </td><td>cosine_annealing</td></tr>\n",
       "</tbody>\n",
       "</table><br><br>"
      ],
      "text/plain": [
       "<IPython.core.display.HTML object>"
      ]
     },
     "metadata": {},
     "output_type": "display_data"
    },
    {
     "data": {
      "text/html": [
       "== Status ==<br>Memory usage on this node: 26.0/754.6 GiB<br>Using HyperBand: num_stopped=0 total_brackets=2\n",
       "Round #0:\n",
       "  Bracket(Max Size (n)=6, Milestone (r)=300, completed=0.0%): {RUNNING: 6} \n",
       "  Bracket(Max Size (n)=9, Milestone (r)=100, completed=0.0%): {PENDING: 1, RUNNING: 1} <br>Resources requested: 7.0/36 CPUs, 7.0/7 GPUs, 0.0/555.86 GiB heap, 0.0/186.26 GiB objects (0.0/1.0 accelerator_type:G)<br>Result logdir: /home/kk/cords-1/RayLogs/GradMatchPB-Warm/lambda_2022-02-23_07-31-32<br>Number of trials: 8/20 (1 PENDING, 7 RUNNING)<br><table>\n",
       "<thead>\n",
       "<tr><th>Trial name     </th><th>status  </th><th>loc  </th><th style=\"text-align: right;\">    gamma</th><th style=\"text-align: right;\">  learning_rate</th><th style=\"text-align: right;\">  learning_rate1</th><th style=\"text-align: right;\">  learning_rate2</th><th style=\"text-align: right;\">  learning_rate3</th><th>nesterov  </th><th>scheduler       </th></tr>\n",
       "</thead>\n",
       "<tbody>\n",
       "<tr><td>lambda_adc3b91c</td><td>RUNNING </td><td>     </td><td style=\"text-align: right;\">0.0534229</td><td style=\"text-align: right;\">     0.00209626</td><td style=\"text-align: right;\">      0.00160822</td><td style=\"text-align: right;\">      0.00804886</td><td style=\"text-align: right;\">      0.00758509</td><td>True      </td><td>cosine_annealing</td></tr>\n",
       "<tr><td>lambda_adc3b91d</td><td>RUNNING </td><td>     </td><td style=\"text-align: right;\">0.346234 </td><td style=\"text-align: right;\">     0.00108808</td><td style=\"text-align: right;\">      0.0074471 </td><td style=\"text-align: right;\">      0.00883177</td><td style=\"text-align: right;\">      0.00968488</td><td>True      </td><td>cosine_annealing</td></tr>\n",
       "<tr><td>lambda_adc3b91e</td><td>RUNNING </td><td>     </td><td style=\"text-align: right;\">0.133558 </td><td style=\"text-align: right;\">     0.00682071</td><td style=\"text-align: right;\">      0.00830856</td><td style=\"text-align: right;\">      0.00413312</td><td style=\"text-align: right;\">      0.00992691</td><td>False     </td><td>cosine_annealing</td></tr>\n",
       "<tr><td>lambda_adc3b91f</td><td>RUNNING </td><td>     </td><td style=\"text-align: right;\">0.420442 </td><td style=\"text-align: right;\">     0.0043266 </td><td style=\"text-align: right;\">      0.00995842</td><td style=\"text-align: right;\">      0.00685197</td><td style=\"text-align: right;\">      0.00166082</td><td>True      </td><td>linear_decay    </td></tr>\n",
       "<tr><td>lambda_adc3b920</td><td>RUNNING </td><td>     </td><td style=\"text-align: right;\">0.480015 </td><td style=\"text-align: right;\">     0.00734749</td><td style=\"text-align: right;\">      0.00502661</td><td style=\"text-align: right;\">      0.00997895</td><td style=\"text-align: right;\">      0.00967184</td><td>False     </td><td>cosine_annealing</td></tr>\n",
       "<tr><td>lambda_adc3b921</td><td>RUNNING </td><td>     </td><td style=\"text-align: right;\">0.424345 </td><td style=\"text-align: right;\">     0.00242506</td><td style=\"text-align: right;\">      0.00638801</td><td style=\"text-align: right;\">      0.00800052</td><td style=\"text-align: right;\">      0.00325679</td><td>False     </td><td>cosine_annealing</td></tr>\n",
       "<tr><td>lambda_adc3b922</td><td>RUNNING </td><td>     </td><td style=\"text-align: right;\">0.392555 </td><td style=\"text-align: right;\">     0.00733178</td><td style=\"text-align: right;\">      0.00289016</td><td style=\"text-align: right;\">      0.00709749</td><td style=\"text-align: right;\">      0.00143959</td><td>True      </td><td>cosine_annealing</td></tr>\n",
       "<tr><td>lambda_adc3b923</td><td>PENDING </td><td>     </td><td style=\"text-align: right;\">0.489559 </td><td style=\"text-align: right;\">     0.00542594</td><td style=\"text-align: right;\">      0.00246563</td><td style=\"text-align: right;\">      0.00788904</td><td style=\"text-align: right;\">      0.00507275</td><td>True      </td><td>cosine_annealing</td></tr>\n",
       "</tbody>\n",
       "</table><br><br>"
      ],
      "text/plain": [
       "<IPython.core.display.HTML object>"
      ]
     },
     "metadata": {},
     "output_type": "display_data"
    },
    {
     "data": {
      "text/html": [
       "== Status ==<br>Memory usage on this node: 26.0/754.6 GiB<br>Using HyperBand: num_stopped=0 total_brackets=2\n",
       "Round #0:\n",
       "  Bracket(Max Size (n)=6, Milestone (r)=300, completed=0.0%): {RUNNING: 6} \n",
       "  Bracket(Max Size (n)=9, Milestone (r)=100, completed=0.0%): {PENDING: 1, RUNNING: 1} <br>Resources requested: 7.0/36 CPUs, 7.0/7 GPUs, 0.0/555.86 GiB heap, 0.0/186.26 GiB objects (0.0/1.0 accelerator_type:G)<br>Result logdir: /home/kk/cords-1/RayLogs/GradMatchPB-Warm/lambda_2022-02-23_07-31-32<br>Number of trials: 8/20 (1 PENDING, 7 RUNNING)<br><table>\n",
       "<thead>\n",
       "<tr><th>Trial name     </th><th>status  </th><th>loc  </th><th style=\"text-align: right;\">    gamma</th><th style=\"text-align: right;\">  learning_rate</th><th style=\"text-align: right;\">  learning_rate1</th><th style=\"text-align: right;\">  learning_rate2</th><th style=\"text-align: right;\">  learning_rate3</th><th>nesterov  </th><th>scheduler       </th></tr>\n",
       "</thead>\n",
       "<tbody>\n",
       "<tr><td>lambda_adc3b91c</td><td>RUNNING </td><td>     </td><td style=\"text-align: right;\">0.0534229</td><td style=\"text-align: right;\">     0.00209626</td><td style=\"text-align: right;\">      0.00160822</td><td style=\"text-align: right;\">      0.00804886</td><td style=\"text-align: right;\">      0.00758509</td><td>True      </td><td>cosine_annealing</td></tr>\n",
       "<tr><td>lambda_adc3b91d</td><td>RUNNING </td><td>     </td><td style=\"text-align: right;\">0.346234 </td><td style=\"text-align: right;\">     0.00108808</td><td style=\"text-align: right;\">      0.0074471 </td><td style=\"text-align: right;\">      0.00883177</td><td style=\"text-align: right;\">      0.00968488</td><td>True      </td><td>cosine_annealing</td></tr>\n",
       "<tr><td>lambda_adc3b91e</td><td>RUNNING </td><td>     </td><td style=\"text-align: right;\">0.133558 </td><td style=\"text-align: right;\">     0.00682071</td><td style=\"text-align: right;\">      0.00830856</td><td style=\"text-align: right;\">      0.00413312</td><td style=\"text-align: right;\">      0.00992691</td><td>False     </td><td>cosine_annealing</td></tr>\n",
       "<tr><td>lambda_adc3b91f</td><td>RUNNING </td><td>     </td><td style=\"text-align: right;\">0.420442 </td><td style=\"text-align: right;\">     0.0043266 </td><td style=\"text-align: right;\">      0.00995842</td><td style=\"text-align: right;\">      0.00685197</td><td style=\"text-align: right;\">      0.00166082</td><td>True      </td><td>linear_decay    </td></tr>\n",
       "<tr><td>lambda_adc3b920</td><td>RUNNING </td><td>     </td><td style=\"text-align: right;\">0.480015 </td><td style=\"text-align: right;\">     0.00734749</td><td style=\"text-align: right;\">      0.00502661</td><td style=\"text-align: right;\">      0.00997895</td><td style=\"text-align: right;\">      0.00967184</td><td>False     </td><td>cosine_annealing</td></tr>\n",
       "<tr><td>lambda_adc3b921</td><td>RUNNING </td><td>     </td><td style=\"text-align: right;\">0.424345 </td><td style=\"text-align: right;\">     0.00242506</td><td style=\"text-align: right;\">      0.00638801</td><td style=\"text-align: right;\">      0.00800052</td><td style=\"text-align: right;\">      0.00325679</td><td>False     </td><td>cosine_annealing</td></tr>\n",
       "<tr><td>lambda_adc3b922</td><td>RUNNING </td><td>     </td><td style=\"text-align: right;\">0.392555 </td><td style=\"text-align: right;\">     0.00733178</td><td style=\"text-align: right;\">      0.00289016</td><td style=\"text-align: right;\">      0.00709749</td><td style=\"text-align: right;\">      0.00143959</td><td>True      </td><td>cosine_annealing</td></tr>\n",
       "<tr><td>lambda_adc3b923</td><td>PENDING </td><td>     </td><td style=\"text-align: right;\">0.489559 </td><td style=\"text-align: right;\">     0.00542594</td><td style=\"text-align: right;\">      0.00246563</td><td style=\"text-align: right;\">      0.00788904</td><td style=\"text-align: right;\">      0.00507275</td><td>True      </td><td>cosine_annealing</td></tr>\n",
       "</tbody>\n",
       "</table><br><br>"
      ],
      "text/plain": [
       "<IPython.core.display.HTML object>"
      ]
     },
     "metadata": {},
     "output_type": "display_data"
    },
    {
     "data": {
      "text/html": [
       "== Status ==<br>Memory usage on this node: 26.0/754.6 GiB<br>Using HyperBand: num_stopped=0 total_brackets=2\n",
       "Round #0:\n",
       "  Bracket(Max Size (n)=6, Milestone (r)=300, completed=0.0%): {RUNNING: 6} \n",
       "  Bracket(Max Size (n)=9, Milestone (r)=100, completed=0.0%): {PENDING: 1, RUNNING: 1} <br>Resources requested: 7.0/36 CPUs, 7.0/7 GPUs, 0.0/555.86 GiB heap, 0.0/186.26 GiB objects (0.0/1.0 accelerator_type:G)<br>Result logdir: /home/kk/cords-1/RayLogs/GradMatchPB-Warm/lambda_2022-02-23_07-31-32<br>Number of trials: 8/20 (1 PENDING, 7 RUNNING)<br><table>\n",
       "<thead>\n",
       "<tr><th>Trial name     </th><th>status  </th><th>loc  </th><th style=\"text-align: right;\">    gamma</th><th style=\"text-align: right;\">  learning_rate</th><th style=\"text-align: right;\">  learning_rate1</th><th style=\"text-align: right;\">  learning_rate2</th><th style=\"text-align: right;\">  learning_rate3</th><th>nesterov  </th><th>scheduler       </th></tr>\n",
       "</thead>\n",
       "<tbody>\n",
       "<tr><td>lambda_adc3b91c</td><td>RUNNING </td><td>     </td><td style=\"text-align: right;\">0.0534229</td><td style=\"text-align: right;\">     0.00209626</td><td style=\"text-align: right;\">      0.00160822</td><td style=\"text-align: right;\">      0.00804886</td><td style=\"text-align: right;\">      0.00758509</td><td>True      </td><td>cosine_annealing</td></tr>\n",
       "<tr><td>lambda_adc3b91d</td><td>RUNNING </td><td>     </td><td style=\"text-align: right;\">0.346234 </td><td style=\"text-align: right;\">     0.00108808</td><td style=\"text-align: right;\">      0.0074471 </td><td style=\"text-align: right;\">      0.00883177</td><td style=\"text-align: right;\">      0.00968488</td><td>True      </td><td>cosine_annealing</td></tr>\n",
       "<tr><td>lambda_adc3b91e</td><td>RUNNING </td><td>     </td><td style=\"text-align: right;\">0.133558 </td><td style=\"text-align: right;\">     0.00682071</td><td style=\"text-align: right;\">      0.00830856</td><td style=\"text-align: right;\">      0.00413312</td><td style=\"text-align: right;\">      0.00992691</td><td>False     </td><td>cosine_annealing</td></tr>\n",
       "<tr><td>lambda_adc3b91f</td><td>RUNNING </td><td>     </td><td style=\"text-align: right;\">0.420442 </td><td style=\"text-align: right;\">     0.0043266 </td><td style=\"text-align: right;\">      0.00995842</td><td style=\"text-align: right;\">      0.00685197</td><td style=\"text-align: right;\">      0.00166082</td><td>True      </td><td>linear_decay    </td></tr>\n",
       "<tr><td>lambda_adc3b920</td><td>RUNNING </td><td>     </td><td style=\"text-align: right;\">0.480015 </td><td style=\"text-align: right;\">     0.00734749</td><td style=\"text-align: right;\">      0.00502661</td><td style=\"text-align: right;\">      0.00997895</td><td style=\"text-align: right;\">      0.00967184</td><td>False     </td><td>cosine_annealing</td></tr>\n",
       "<tr><td>lambda_adc3b921</td><td>RUNNING </td><td>     </td><td style=\"text-align: right;\">0.424345 </td><td style=\"text-align: right;\">     0.00242506</td><td style=\"text-align: right;\">      0.00638801</td><td style=\"text-align: right;\">      0.00800052</td><td style=\"text-align: right;\">      0.00325679</td><td>False     </td><td>cosine_annealing</td></tr>\n",
       "<tr><td>lambda_adc3b922</td><td>RUNNING </td><td>     </td><td style=\"text-align: right;\">0.392555 </td><td style=\"text-align: right;\">     0.00733178</td><td style=\"text-align: right;\">      0.00289016</td><td style=\"text-align: right;\">      0.00709749</td><td style=\"text-align: right;\">      0.00143959</td><td>True      </td><td>cosine_annealing</td></tr>\n",
       "<tr><td>lambda_adc3b923</td><td>PENDING </td><td>     </td><td style=\"text-align: right;\">0.489559 </td><td style=\"text-align: right;\">     0.00542594</td><td style=\"text-align: right;\">      0.00246563</td><td style=\"text-align: right;\">      0.00788904</td><td style=\"text-align: right;\">      0.00507275</td><td>True      </td><td>cosine_annealing</td></tr>\n",
       "</tbody>\n",
       "</table><br><br>"
      ],
      "text/plain": [
       "<IPython.core.display.HTML object>"
      ]
     },
     "metadata": {},
     "output_type": "display_data"
    },
    {
     "data": {
      "text/html": [
       "== Status ==<br>Memory usage on this node: 26.0/754.6 GiB<br>Using HyperBand: num_stopped=0 total_brackets=2\n",
       "Round #0:\n",
       "  Bracket(Max Size (n)=6, Milestone (r)=300, completed=0.0%): {RUNNING: 6} \n",
       "  Bracket(Max Size (n)=9, Milestone (r)=100, completed=0.0%): {PENDING: 1, RUNNING: 1} <br>Resources requested: 7.0/36 CPUs, 7.0/7 GPUs, 0.0/555.86 GiB heap, 0.0/186.26 GiB objects (0.0/1.0 accelerator_type:G)<br>Result logdir: /home/kk/cords-1/RayLogs/GradMatchPB-Warm/lambda_2022-02-23_07-31-32<br>Number of trials: 8/20 (1 PENDING, 7 RUNNING)<br><table>\n",
       "<thead>\n",
       "<tr><th>Trial name     </th><th>status  </th><th>loc  </th><th style=\"text-align: right;\">    gamma</th><th style=\"text-align: right;\">  learning_rate</th><th style=\"text-align: right;\">  learning_rate1</th><th style=\"text-align: right;\">  learning_rate2</th><th style=\"text-align: right;\">  learning_rate3</th><th>nesterov  </th><th>scheduler       </th></tr>\n",
       "</thead>\n",
       "<tbody>\n",
       "<tr><td>lambda_adc3b91c</td><td>RUNNING </td><td>     </td><td style=\"text-align: right;\">0.0534229</td><td style=\"text-align: right;\">     0.00209626</td><td style=\"text-align: right;\">      0.00160822</td><td style=\"text-align: right;\">      0.00804886</td><td style=\"text-align: right;\">      0.00758509</td><td>True      </td><td>cosine_annealing</td></tr>\n",
       "<tr><td>lambda_adc3b91d</td><td>RUNNING </td><td>     </td><td style=\"text-align: right;\">0.346234 </td><td style=\"text-align: right;\">     0.00108808</td><td style=\"text-align: right;\">      0.0074471 </td><td style=\"text-align: right;\">      0.00883177</td><td style=\"text-align: right;\">      0.00968488</td><td>True      </td><td>cosine_annealing</td></tr>\n",
       "<tr><td>lambda_adc3b91e</td><td>RUNNING </td><td>     </td><td style=\"text-align: right;\">0.133558 </td><td style=\"text-align: right;\">     0.00682071</td><td style=\"text-align: right;\">      0.00830856</td><td style=\"text-align: right;\">      0.00413312</td><td style=\"text-align: right;\">      0.00992691</td><td>False     </td><td>cosine_annealing</td></tr>\n",
       "<tr><td>lambda_adc3b91f</td><td>RUNNING </td><td>     </td><td style=\"text-align: right;\">0.420442 </td><td style=\"text-align: right;\">     0.0043266 </td><td style=\"text-align: right;\">      0.00995842</td><td style=\"text-align: right;\">      0.00685197</td><td style=\"text-align: right;\">      0.00166082</td><td>True      </td><td>linear_decay    </td></tr>\n",
       "<tr><td>lambda_adc3b920</td><td>RUNNING </td><td>     </td><td style=\"text-align: right;\">0.480015 </td><td style=\"text-align: right;\">     0.00734749</td><td style=\"text-align: right;\">      0.00502661</td><td style=\"text-align: right;\">      0.00997895</td><td style=\"text-align: right;\">      0.00967184</td><td>False     </td><td>cosine_annealing</td></tr>\n",
       "<tr><td>lambda_adc3b921</td><td>RUNNING </td><td>     </td><td style=\"text-align: right;\">0.424345 </td><td style=\"text-align: right;\">     0.00242506</td><td style=\"text-align: right;\">      0.00638801</td><td style=\"text-align: right;\">      0.00800052</td><td style=\"text-align: right;\">      0.00325679</td><td>False     </td><td>cosine_annealing</td></tr>\n",
       "<tr><td>lambda_adc3b922</td><td>RUNNING </td><td>     </td><td style=\"text-align: right;\">0.392555 </td><td style=\"text-align: right;\">     0.00733178</td><td style=\"text-align: right;\">      0.00289016</td><td style=\"text-align: right;\">      0.00709749</td><td style=\"text-align: right;\">      0.00143959</td><td>True      </td><td>cosine_annealing</td></tr>\n",
       "<tr><td>lambda_adc3b923</td><td>PENDING </td><td>     </td><td style=\"text-align: right;\">0.489559 </td><td style=\"text-align: right;\">     0.00542594</td><td style=\"text-align: right;\">      0.00246563</td><td style=\"text-align: right;\">      0.00788904</td><td style=\"text-align: right;\">      0.00507275</td><td>True      </td><td>cosine_annealing</td></tr>\n",
       "</tbody>\n",
       "</table><br><br>"
      ],
      "text/plain": [
       "<IPython.core.display.HTML object>"
      ]
     },
     "metadata": {},
     "output_type": "display_data"
    },
    {
     "data": {
      "text/html": [
       "== Status ==<br>Memory usage on this node: 26.0/754.6 GiB<br>Using HyperBand: num_stopped=0 total_brackets=2\n",
       "Round #0:\n",
       "  Bracket(Max Size (n)=6, Milestone (r)=300, completed=0.0%): {RUNNING: 6} \n",
       "  Bracket(Max Size (n)=9, Milestone (r)=100, completed=0.0%): {PENDING: 1, RUNNING: 1} <br>Resources requested: 7.0/36 CPUs, 7.0/7 GPUs, 0.0/555.86 GiB heap, 0.0/186.26 GiB objects (0.0/1.0 accelerator_type:G)<br>Result logdir: /home/kk/cords-1/RayLogs/GradMatchPB-Warm/lambda_2022-02-23_07-31-32<br>Number of trials: 8/20 (1 PENDING, 7 RUNNING)<br><table>\n",
       "<thead>\n",
       "<tr><th>Trial name     </th><th>status  </th><th>loc  </th><th style=\"text-align: right;\">    gamma</th><th style=\"text-align: right;\">  learning_rate</th><th style=\"text-align: right;\">  learning_rate1</th><th style=\"text-align: right;\">  learning_rate2</th><th style=\"text-align: right;\">  learning_rate3</th><th>nesterov  </th><th>scheduler       </th></tr>\n",
       "</thead>\n",
       "<tbody>\n",
       "<tr><td>lambda_adc3b91c</td><td>RUNNING </td><td>     </td><td style=\"text-align: right;\">0.0534229</td><td style=\"text-align: right;\">     0.00209626</td><td style=\"text-align: right;\">      0.00160822</td><td style=\"text-align: right;\">      0.00804886</td><td style=\"text-align: right;\">      0.00758509</td><td>True      </td><td>cosine_annealing</td></tr>\n",
       "<tr><td>lambda_adc3b91d</td><td>RUNNING </td><td>     </td><td style=\"text-align: right;\">0.346234 </td><td style=\"text-align: right;\">     0.00108808</td><td style=\"text-align: right;\">      0.0074471 </td><td style=\"text-align: right;\">      0.00883177</td><td style=\"text-align: right;\">      0.00968488</td><td>True      </td><td>cosine_annealing</td></tr>\n",
       "<tr><td>lambda_adc3b91e</td><td>RUNNING </td><td>     </td><td style=\"text-align: right;\">0.133558 </td><td style=\"text-align: right;\">     0.00682071</td><td style=\"text-align: right;\">      0.00830856</td><td style=\"text-align: right;\">      0.00413312</td><td style=\"text-align: right;\">      0.00992691</td><td>False     </td><td>cosine_annealing</td></tr>\n",
       "<tr><td>lambda_adc3b91f</td><td>RUNNING </td><td>     </td><td style=\"text-align: right;\">0.420442 </td><td style=\"text-align: right;\">     0.0043266 </td><td style=\"text-align: right;\">      0.00995842</td><td style=\"text-align: right;\">      0.00685197</td><td style=\"text-align: right;\">      0.00166082</td><td>True      </td><td>linear_decay    </td></tr>\n",
       "<tr><td>lambda_adc3b920</td><td>RUNNING </td><td>     </td><td style=\"text-align: right;\">0.480015 </td><td style=\"text-align: right;\">     0.00734749</td><td style=\"text-align: right;\">      0.00502661</td><td style=\"text-align: right;\">      0.00997895</td><td style=\"text-align: right;\">      0.00967184</td><td>False     </td><td>cosine_annealing</td></tr>\n",
       "<tr><td>lambda_adc3b921</td><td>RUNNING </td><td>     </td><td style=\"text-align: right;\">0.424345 </td><td style=\"text-align: right;\">     0.00242506</td><td style=\"text-align: right;\">      0.00638801</td><td style=\"text-align: right;\">      0.00800052</td><td style=\"text-align: right;\">      0.00325679</td><td>False     </td><td>cosine_annealing</td></tr>\n",
       "<tr><td>lambda_adc3b922</td><td>RUNNING </td><td>     </td><td style=\"text-align: right;\">0.392555 </td><td style=\"text-align: right;\">     0.00733178</td><td style=\"text-align: right;\">      0.00289016</td><td style=\"text-align: right;\">      0.00709749</td><td style=\"text-align: right;\">      0.00143959</td><td>True      </td><td>cosine_annealing</td></tr>\n",
       "<tr><td>lambda_adc3b923</td><td>PENDING </td><td>     </td><td style=\"text-align: right;\">0.489559 </td><td style=\"text-align: right;\">     0.00542594</td><td style=\"text-align: right;\">      0.00246563</td><td style=\"text-align: right;\">      0.00788904</td><td style=\"text-align: right;\">      0.00507275</td><td>True      </td><td>cosine_annealing</td></tr>\n",
       "</tbody>\n",
       "</table><br><br>"
      ],
      "text/plain": [
       "<IPython.core.display.HTML object>"
      ]
     },
     "metadata": {},
     "output_type": "display_data"
    },
    {
     "data": {
      "text/html": [
       "== Status ==<br>Memory usage on this node: 26.0/754.6 GiB<br>Using HyperBand: num_stopped=0 total_brackets=2\n",
       "Round #0:\n",
       "  Bracket(Max Size (n)=6, Milestone (r)=300, completed=0.0%): {RUNNING: 6} \n",
       "  Bracket(Max Size (n)=9, Milestone (r)=100, completed=0.0%): {PENDING: 1, RUNNING: 1} <br>Resources requested: 7.0/36 CPUs, 7.0/7 GPUs, 0.0/555.86 GiB heap, 0.0/186.26 GiB objects (0.0/1.0 accelerator_type:G)<br>Result logdir: /home/kk/cords-1/RayLogs/GradMatchPB-Warm/lambda_2022-02-23_07-31-32<br>Number of trials: 8/20 (1 PENDING, 7 RUNNING)<br><table>\n",
       "<thead>\n",
       "<tr><th>Trial name     </th><th>status  </th><th>loc  </th><th style=\"text-align: right;\">    gamma</th><th style=\"text-align: right;\">  learning_rate</th><th style=\"text-align: right;\">  learning_rate1</th><th style=\"text-align: right;\">  learning_rate2</th><th style=\"text-align: right;\">  learning_rate3</th><th>nesterov  </th><th>scheduler       </th></tr>\n",
       "</thead>\n",
       "<tbody>\n",
       "<tr><td>lambda_adc3b91c</td><td>RUNNING </td><td>     </td><td style=\"text-align: right;\">0.0534229</td><td style=\"text-align: right;\">     0.00209626</td><td style=\"text-align: right;\">      0.00160822</td><td style=\"text-align: right;\">      0.00804886</td><td style=\"text-align: right;\">      0.00758509</td><td>True      </td><td>cosine_annealing</td></tr>\n",
       "<tr><td>lambda_adc3b91d</td><td>RUNNING </td><td>     </td><td style=\"text-align: right;\">0.346234 </td><td style=\"text-align: right;\">     0.00108808</td><td style=\"text-align: right;\">      0.0074471 </td><td style=\"text-align: right;\">      0.00883177</td><td style=\"text-align: right;\">      0.00968488</td><td>True      </td><td>cosine_annealing</td></tr>\n",
       "<tr><td>lambda_adc3b91e</td><td>RUNNING </td><td>     </td><td style=\"text-align: right;\">0.133558 </td><td style=\"text-align: right;\">     0.00682071</td><td style=\"text-align: right;\">      0.00830856</td><td style=\"text-align: right;\">      0.00413312</td><td style=\"text-align: right;\">      0.00992691</td><td>False     </td><td>cosine_annealing</td></tr>\n",
       "<tr><td>lambda_adc3b91f</td><td>RUNNING </td><td>     </td><td style=\"text-align: right;\">0.420442 </td><td style=\"text-align: right;\">     0.0043266 </td><td style=\"text-align: right;\">      0.00995842</td><td style=\"text-align: right;\">      0.00685197</td><td style=\"text-align: right;\">      0.00166082</td><td>True      </td><td>linear_decay    </td></tr>\n",
       "<tr><td>lambda_adc3b920</td><td>RUNNING </td><td>     </td><td style=\"text-align: right;\">0.480015 </td><td style=\"text-align: right;\">     0.00734749</td><td style=\"text-align: right;\">      0.00502661</td><td style=\"text-align: right;\">      0.00997895</td><td style=\"text-align: right;\">      0.00967184</td><td>False     </td><td>cosine_annealing</td></tr>\n",
       "<tr><td>lambda_adc3b921</td><td>RUNNING </td><td>     </td><td style=\"text-align: right;\">0.424345 </td><td style=\"text-align: right;\">     0.00242506</td><td style=\"text-align: right;\">      0.00638801</td><td style=\"text-align: right;\">      0.00800052</td><td style=\"text-align: right;\">      0.00325679</td><td>False     </td><td>cosine_annealing</td></tr>\n",
       "<tr><td>lambda_adc3b922</td><td>RUNNING </td><td>     </td><td style=\"text-align: right;\">0.392555 </td><td style=\"text-align: right;\">     0.00733178</td><td style=\"text-align: right;\">      0.00289016</td><td style=\"text-align: right;\">      0.00709749</td><td style=\"text-align: right;\">      0.00143959</td><td>True      </td><td>cosine_annealing</td></tr>\n",
       "<tr><td>lambda_adc3b923</td><td>PENDING </td><td>     </td><td style=\"text-align: right;\">0.489559 </td><td style=\"text-align: right;\">     0.00542594</td><td style=\"text-align: right;\">      0.00246563</td><td style=\"text-align: right;\">      0.00788904</td><td style=\"text-align: right;\">      0.00507275</td><td>True      </td><td>cosine_annealing</td></tr>\n",
       "</tbody>\n",
       "</table><br><br>"
      ],
      "text/plain": [
       "<IPython.core.display.HTML object>"
      ]
     },
     "metadata": {},
     "output_type": "display_data"
    },
    {
     "data": {
      "text/html": [
       "== Status ==<br>Memory usage on this node: 26.0/754.6 GiB<br>Using HyperBand: num_stopped=0 total_brackets=2\n",
       "Round #0:\n",
       "  Bracket(Max Size (n)=6, Milestone (r)=300, completed=0.0%): {RUNNING: 6} \n",
       "  Bracket(Max Size (n)=9, Milestone (r)=100, completed=0.0%): {PENDING: 1, RUNNING: 1} <br>Resources requested: 7.0/36 CPUs, 7.0/7 GPUs, 0.0/555.86 GiB heap, 0.0/186.26 GiB objects (0.0/1.0 accelerator_type:G)<br>Result logdir: /home/kk/cords-1/RayLogs/GradMatchPB-Warm/lambda_2022-02-23_07-31-32<br>Number of trials: 8/20 (1 PENDING, 7 RUNNING)<br><table>\n",
       "<thead>\n",
       "<tr><th>Trial name     </th><th>status  </th><th>loc  </th><th style=\"text-align: right;\">    gamma</th><th style=\"text-align: right;\">  learning_rate</th><th style=\"text-align: right;\">  learning_rate1</th><th style=\"text-align: right;\">  learning_rate2</th><th style=\"text-align: right;\">  learning_rate3</th><th>nesterov  </th><th>scheduler       </th></tr>\n",
       "</thead>\n",
       "<tbody>\n",
       "<tr><td>lambda_adc3b91c</td><td>RUNNING </td><td>     </td><td style=\"text-align: right;\">0.0534229</td><td style=\"text-align: right;\">     0.00209626</td><td style=\"text-align: right;\">      0.00160822</td><td style=\"text-align: right;\">      0.00804886</td><td style=\"text-align: right;\">      0.00758509</td><td>True      </td><td>cosine_annealing</td></tr>\n",
       "<tr><td>lambda_adc3b91d</td><td>RUNNING </td><td>     </td><td style=\"text-align: right;\">0.346234 </td><td style=\"text-align: right;\">     0.00108808</td><td style=\"text-align: right;\">      0.0074471 </td><td style=\"text-align: right;\">      0.00883177</td><td style=\"text-align: right;\">      0.00968488</td><td>True      </td><td>cosine_annealing</td></tr>\n",
       "<tr><td>lambda_adc3b91e</td><td>RUNNING </td><td>     </td><td style=\"text-align: right;\">0.133558 </td><td style=\"text-align: right;\">     0.00682071</td><td style=\"text-align: right;\">      0.00830856</td><td style=\"text-align: right;\">      0.00413312</td><td style=\"text-align: right;\">      0.00992691</td><td>False     </td><td>cosine_annealing</td></tr>\n",
       "<tr><td>lambda_adc3b91f</td><td>RUNNING </td><td>     </td><td style=\"text-align: right;\">0.420442 </td><td style=\"text-align: right;\">     0.0043266 </td><td style=\"text-align: right;\">      0.00995842</td><td style=\"text-align: right;\">      0.00685197</td><td style=\"text-align: right;\">      0.00166082</td><td>True      </td><td>linear_decay    </td></tr>\n",
       "<tr><td>lambda_adc3b920</td><td>RUNNING </td><td>     </td><td style=\"text-align: right;\">0.480015 </td><td style=\"text-align: right;\">     0.00734749</td><td style=\"text-align: right;\">      0.00502661</td><td style=\"text-align: right;\">      0.00997895</td><td style=\"text-align: right;\">      0.00967184</td><td>False     </td><td>cosine_annealing</td></tr>\n",
       "<tr><td>lambda_adc3b921</td><td>RUNNING </td><td>     </td><td style=\"text-align: right;\">0.424345 </td><td style=\"text-align: right;\">     0.00242506</td><td style=\"text-align: right;\">      0.00638801</td><td style=\"text-align: right;\">      0.00800052</td><td style=\"text-align: right;\">      0.00325679</td><td>False     </td><td>cosine_annealing</td></tr>\n",
       "<tr><td>lambda_adc3b922</td><td>RUNNING </td><td>     </td><td style=\"text-align: right;\">0.392555 </td><td style=\"text-align: right;\">     0.00733178</td><td style=\"text-align: right;\">      0.00289016</td><td style=\"text-align: right;\">      0.00709749</td><td style=\"text-align: right;\">      0.00143959</td><td>True      </td><td>cosine_annealing</td></tr>\n",
       "<tr><td>lambda_adc3b923</td><td>PENDING </td><td>     </td><td style=\"text-align: right;\">0.489559 </td><td style=\"text-align: right;\">     0.00542594</td><td style=\"text-align: right;\">      0.00246563</td><td style=\"text-align: right;\">      0.00788904</td><td style=\"text-align: right;\">      0.00507275</td><td>True      </td><td>cosine_annealing</td></tr>\n",
       "</tbody>\n",
       "</table><br><br>"
      ],
      "text/plain": [
       "<IPython.core.display.HTML object>"
      ]
     },
     "metadata": {},
     "output_type": "display_data"
    },
    {
     "data": {
      "text/html": [
       "== Status ==<br>Memory usage on this node: 26.0/754.6 GiB<br>Using HyperBand: num_stopped=0 total_brackets=2\n",
       "Round #0:\n",
       "  Bracket(Max Size (n)=6, Milestone (r)=300, completed=0.0%): {RUNNING: 6} \n",
       "  Bracket(Max Size (n)=9, Milestone (r)=100, completed=0.0%): {PENDING: 1, RUNNING: 1} <br>Resources requested: 7.0/36 CPUs, 7.0/7 GPUs, 0.0/555.86 GiB heap, 0.0/186.26 GiB objects (0.0/1.0 accelerator_type:G)<br>Result logdir: /home/kk/cords-1/RayLogs/GradMatchPB-Warm/lambda_2022-02-23_07-31-32<br>Number of trials: 8/20 (1 PENDING, 7 RUNNING)<br><table>\n",
       "<thead>\n",
       "<tr><th>Trial name     </th><th>status  </th><th>loc  </th><th style=\"text-align: right;\">    gamma</th><th style=\"text-align: right;\">  learning_rate</th><th style=\"text-align: right;\">  learning_rate1</th><th style=\"text-align: right;\">  learning_rate2</th><th style=\"text-align: right;\">  learning_rate3</th><th>nesterov  </th><th>scheduler       </th></tr>\n",
       "</thead>\n",
       "<tbody>\n",
       "<tr><td>lambda_adc3b91c</td><td>RUNNING </td><td>     </td><td style=\"text-align: right;\">0.0534229</td><td style=\"text-align: right;\">     0.00209626</td><td style=\"text-align: right;\">      0.00160822</td><td style=\"text-align: right;\">      0.00804886</td><td style=\"text-align: right;\">      0.00758509</td><td>True      </td><td>cosine_annealing</td></tr>\n",
       "<tr><td>lambda_adc3b91d</td><td>RUNNING </td><td>     </td><td style=\"text-align: right;\">0.346234 </td><td style=\"text-align: right;\">     0.00108808</td><td style=\"text-align: right;\">      0.0074471 </td><td style=\"text-align: right;\">      0.00883177</td><td style=\"text-align: right;\">      0.00968488</td><td>True      </td><td>cosine_annealing</td></tr>\n",
       "<tr><td>lambda_adc3b91e</td><td>RUNNING </td><td>     </td><td style=\"text-align: right;\">0.133558 </td><td style=\"text-align: right;\">     0.00682071</td><td style=\"text-align: right;\">      0.00830856</td><td style=\"text-align: right;\">      0.00413312</td><td style=\"text-align: right;\">      0.00992691</td><td>False     </td><td>cosine_annealing</td></tr>\n",
       "<tr><td>lambda_adc3b91f</td><td>RUNNING </td><td>     </td><td style=\"text-align: right;\">0.420442 </td><td style=\"text-align: right;\">     0.0043266 </td><td style=\"text-align: right;\">      0.00995842</td><td style=\"text-align: right;\">      0.00685197</td><td style=\"text-align: right;\">      0.00166082</td><td>True      </td><td>linear_decay    </td></tr>\n",
       "<tr><td>lambda_adc3b920</td><td>RUNNING </td><td>     </td><td style=\"text-align: right;\">0.480015 </td><td style=\"text-align: right;\">     0.00734749</td><td style=\"text-align: right;\">      0.00502661</td><td style=\"text-align: right;\">      0.00997895</td><td style=\"text-align: right;\">      0.00967184</td><td>False     </td><td>cosine_annealing</td></tr>\n",
       "<tr><td>lambda_adc3b921</td><td>RUNNING </td><td>     </td><td style=\"text-align: right;\">0.424345 </td><td style=\"text-align: right;\">     0.00242506</td><td style=\"text-align: right;\">      0.00638801</td><td style=\"text-align: right;\">      0.00800052</td><td style=\"text-align: right;\">      0.00325679</td><td>False     </td><td>cosine_annealing</td></tr>\n",
       "<tr><td>lambda_adc3b922</td><td>RUNNING </td><td>     </td><td style=\"text-align: right;\">0.392555 </td><td style=\"text-align: right;\">     0.00733178</td><td style=\"text-align: right;\">      0.00289016</td><td style=\"text-align: right;\">      0.00709749</td><td style=\"text-align: right;\">      0.00143959</td><td>True      </td><td>cosine_annealing</td></tr>\n",
       "<tr><td>lambda_adc3b923</td><td>PENDING </td><td>     </td><td style=\"text-align: right;\">0.489559 </td><td style=\"text-align: right;\">     0.00542594</td><td style=\"text-align: right;\">      0.00246563</td><td style=\"text-align: right;\">      0.00788904</td><td style=\"text-align: right;\">      0.00507275</td><td>True      </td><td>cosine_annealing</td></tr>\n",
       "</tbody>\n",
       "</table><br><br>"
      ],
      "text/plain": [
       "<IPython.core.display.HTML object>"
      ]
     },
     "metadata": {},
     "output_type": "display_data"
    },
    {
     "data": {
      "text/html": [
       "== Status ==<br>Memory usage on this node: 26.0/754.6 GiB<br>Using HyperBand: num_stopped=0 total_brackets=2\n",
       "Round #0:\n",
       "  Bracket(Max Size (n)=6, Milestone (r)=300, completed=0.0%): {RUNNING: 6} \n",
       "  Bracket(Max Size (n)=9, Milestone (r)=100, completed=0.0%): {PENDING: 1, RUNNING: 1} <br>Resources requested: 7.0/36 CPUs, 7.0/7 GPUs, 0.0/555.86 GiB heap, 0.0/186.26 GiB objects (0.0/1.0 accelerator_type:G)<br>Result logdir: /home/kk/cords-1/RayLogs/GradMatchPB-Warm/lambda_2022-02-23_07-31-32<br>Number of trials: 8/20 (1 PENDING, 7 RUNNING)<br><table>\n",
       "<thead>\n",
       "<tr><th>Trial name     </th><th>status  </th><th>loc  </th><th style=\"text-align: right;\">    gamma</th><th style=\"text-align: right;\">  learning_rate</th><th style=\"text-align: right;\">  learning_rate1</th><th style=\"text-align: right;\">  learning_rate2</th><th style=\"text-align: right;\">  learning_rate3</th><th>nesterov  </th><th>scheduler       </th></tr>\n",
       "</thead>\n",
       "<tbody>\n",
       "<tr><td>lambda_adc3b91c</td><td>RUNNING </td><td>     </td><td style=\"text-align: right;\">0.0534229</td><td style=\"text-align: right;\">     0.00209626</td><td style=\"text-align: right;\">      0.00160822</td><td style=\"text-align: right;\">      0.00804886</td><td style=\"text-align: right;\">      0.00758509</td><td>True      </td><td>cosine_annealing</td></tr>\n",
       "<tr><td>lambda_adc3b91d</td><td>RUNNING </td><td>     </td><td style=\"text-align: right;\">0.346234 </td><td style=\"text-align: right;\">     0.00108808</td><td style=\"text-align: right;\">      0.0074471 </td><td style=\"text-align: right;\">      0.00883177</td><td style=\"text-align: right;\">      0.00968488</td><td>True      </td><td>cosine_annealing</td></tr>\n",
       "<tr><td>lambda_adc3b91e</td><td>RUNNING </td><td>     </td><td style=\"text-align: right;\">0.133558 </td><td style=\"text-align: right;\">     0.00682071</td><td style=\"text-align: right;\">      0.00830856</td><td style=\"text-align: right;\">      0.00413312</td><td style=\"text-align: right;\">      0.00992691</td><td>False     </td><td>cosine_annealing</td></tr>\n",
       "<tr><td>lambda_adc3b91f</td><td>RUNNING </td><td>     </td><td style=\"text-align: right;\">0.420442 </td><td style=\"text-align: right;\">     0.0043266 </td><td style=\"text-align: right;\">      0.00995842</td><td style=\"text-align: right;\">      0.00685197</td><td style=\"text-align: right;\">      0.00166082</td><td>True      </td><td>linear_decay    </td></tr>\n",
       "<tr><td>lambda_adc3b920</td><td>RUNNING </td><td>     </td><td style=\"text-align: right;\">0.480015 </td><td style=\"text-align: right;\">     0.00734749</td><td style=\"text-align: right;\">      0.00502661</td><td style=\"text-align: right;\">      0.00997895</td><td style=\"text-align: right;\">      0.00967184</td><td>False     </td><td>cosine_annealing</td></tr>\n",
       "<tr><td>lambda_adc3b921</td><td>RUNNING </td><td>     </td><td style=\"text-align: right;\">0.424345 </td><td style=\"text-align: right;\">     0.00242506</td><td style=\"text-align: right;\">      0.00638801</td><td style=\"text-align: right;\">      0.00800052</td><td style=\"text-align: right;\">      0.00325679</td><td>False     </td><td>cosine_annealing</td></tr>\n",
       "<tr><td>lambda_adc3b922</td><td>RUNNING </td><td>     </td><td style=\"text-align: right;\">0.392555 </td><td style=\"text-align: right;\">     0.00733178</td><td style=\"text-align: right;\">      0.00289016</td><td style=\"text-align: right;\">      0.00709749</td><td style=\"text-align: right;\">      0.00143959</td><td>True      </td><td>cosine_annealing</td></tr>\n",
       "<tr><td>lambda_adc3b923</td><td>PENDING </td><td>     </td><td style=\"text-align: right;\">0.489559 </td><td style=\"text-align: right;\">     0.00542594</td><td style=\"text-align: right;\">      0.00246563</td><td style=\"text-align: right;\">      0.00788904</td><td style=\"text-align: right;\">      0.00507275</td><td>True      </td><td>cosine_annealing</td></tr>\n",
       "</tbody>\n",
       "</table><br><br>"
      ],
      "text/plain": [
       "<IPython.core.display.HTML object>"
      ]
     },
     "metadata": {},
     "output_type": "display_data"
    },
    {
     "data": {
      "text/html": [
       "== Status ==<br>Memory usage on this node: 25.8/754.6 GiB<br>Using HyperBand: num_stopped=0 total_brackets=2\n",
       "Round #0:\n",
       "  Bracket(Max Size (n)=6, Milestone (r)=300, completed=0.0%): {RUNNING: 6} \n",
       "  Bracket(Max Size (n)=9, Milestone (r)=100, completed=0.0%): {PENDING: 1, RUNNING: 1} <br>Resources requested: 7.0/36 CPUs, 7.0/7 GPUs, 0.0/555.86 GiB heap, 0.0/186.26 GiB objects (0.0/1.0 accelerator_type:G)<br>Result logdir: /home/kk/cords-1/RayLogs/GradMatchPB-Warm/lambda_2022-02-23_07-31-32<br>Number of trials: 8/20 (1 PENDING, 7 RUNNING)<br><table>\n",
       "<thead>\n",
       "<tr><th>Trial name     </th><th>status  </th><th>loc  </th><th style=\"text-align: right;\">    gamma</th><th style=\"text-align: right;\">  learning_rate</th><th style=\"text-align: right;\">  learning_rate1</th><th style=\"text-align: right;\">  learning_rate2</th><th style=\"text-align: right;\">  learning_rate3</th><th>nesterov  </th><th>scheduler       </th></tr>\n",
       "</thead>\n",
       "<tbody>\n",
       "<tr><td>lambda_adc3b91c</td><td>RUNNING </td><td>     </td><td style=\"text-align: right;\">0.0534229</td><td style=\"text-align: right;\">     0.00209626</td><td style=\"text-align: right;\">      0.00160822</td><td style=\"text-align: right;\">      0.00804886</td><td style=\"text-align: right;\">      0.00758509</td><td>True      </td><td>cosine_annealing</td></tr>\n",
       "<tr><td>lambda_adc3b91d</td><td>RUNNING </td><td>     </td><td style=\"text-align: right;\">0.346234 </td><td style=\"text-align: right;\">     0.00108808</td><td style=\"text-align: right;\">      0.0074471 </td><td style=\"text-align: right;\">      0.00883177</td><td style=\"text-align: right;\">      0.00968488</td><td>True      </td><td>cosine_annealing</td></tr>\n",
       "<tr><td>lambda_adc3b91e</td><td>RUNNING </td><td>     </td><td style=\"text-align: right;\">0.133558 </td><td style=\"text-align: right;\">     0.00682071</td><td style=\"text-align: right;\">      0.00830856</td><td style=\"text-align: right;\">      0.00413312</td><td style=\"text-align: right;\">      0.00992691</td><td>False     </td><td>cosine_annealing</td></tr>\n",
       "<tr><td>lambda_adc3b91f</td><td>RUNNING </td><td>     </td><td style=\"text-align: right;\">0.420442 </td><td style=\"text-align: right;\">     0.0043266 </td><td style=\"text-align: right;\">      0.00995842</td><td style=\"text-align: right;\">      0.00685197</td><td style=\"text-align: right;\">      0.00166082</td><td>True      </td><td>linear_decay    </td></tr>\n",
       "<tr><td>lambda_adc3b920</td><td>RUNNING </td><td>     </td><td style=\"text-align: right;\">0.480015 </td><td style=\"text-align: right;\">     0.00734749</td><td style=\"text-align: right;\">      0.00502661</td><td style=\"text-align: right;\">      0.00997895</td><td style=\"text-align: right;\">      0.00967184</td><td>False     </td><td>cosine_annealing</td></tr>\n",
       "<tr><td>lambda_adc3b921</td><td>RUNNING </td><td>     </td><td style=\"text-align: right;\">0.424345 </td><td style=\"text-align: right;\">     0.00242506</td><td style=\"text-align: right;\">      0.00638801</td><td style=\"text-align: right;\">      0.00800052</td><td style=\"text-align: right;\">      0.00325679</td><td>False     </td><td>cosine_annealing</td></tr>\n",
       "<tr><td>lambda_adc3b922</td><td>RUNNING </td><td>     </td><td style=\"text-align: right;\">0.392555 </td><td style=\"text-align: right;\">     0.00733178</td><td style=\"text-align: right;\">      0.00289016</td><td style=\"text-align: right;\">      0.00709749</td><td style=\"text-align: right;\">      0.00143959</td><td>True      </td><td>cosine_annealing</td></tr>\n",
       "<tr><td>lambda_adc3b923</td><td>PENDING </td><td>     </td><td style=\"text-align: right;\">0.489559 </td><td style=\"text-align: right;\">     0.00542594</td><td style=\"text-align: right;\">      0.00246563</td><td style=\"text-align: right;\">      0.00788904</td><td style=\"text-align: right;\">      0.00507275</td><td>True      </td><td>cosine_annealing</td></tr>\n",
       "</tbody>\n",
       "</table><br><br>"
      ],
      "text/plain": [
       "<IPython.core.display.HTML object>"
      ]
     },
     "metadata": {},
     "output_type": "display_data"
    },
    {
     "data": {
      "text/html": [
       "== Status ==<br>Memory usage on this node: 25.6/754.6 GiB<br>Using HyperBand: num_stopped=0 total_brackets=2\n",
       "Round #0:\n",
       "  Bracket(Max Size (n)=6, Milestone (r)=300, completed=0.0%): {RUNNING: 6} \n",
       "  Bracket(Max Size (n)=9, Milestone (r)=100, completed=0.0%): {PENDING: 1, RUNNING: 1} <br>Resources requested: 7.0/36 CPUs, 7.0/7 GPUs, 0.0/555.86 GiB heap, 0.0/186.26 GiB objects (0.0/1.0 accelerator_type:G)<br>Result logdir: /home/kk/cords-1/RayLogs/GradMatchPB-Warm/lambda_2022-02-23_07-31-32<br>Number of trials: 8/20 (1 PENDING, 7 RUNNING)<br><table>\n",
       "<thead>\n",
       "<tr><th>Trial name     </th><th>status  </th><th>loc  </th><th style=\"text-align: right;\">    gamma</th><th style=\"text-align: right;\">  learning_rate</th><th style=\"text-align: right;\">  learning_rate1</th><th style=\"text-align: right;\">  learning_rate2</th><th style=\"text-align: right;\">  learning_rate3</th><th>nesterov  </th><th>scheduler       </th></tr>\n",
       "</thead>\n",
       "<tbody>\n",
       "<tr><td>lambda_adc3b91c</td><td>RUNNING </td><td>     </td><td style=\"text-align: right;\">0.0534229</td><td style=\"text-align: right;\">     0.00209626</td><td style=\"text-align: right;\">      0.00160822</td><td style=\"text-align: right;\">      0.00804886</td><td style=\"text-align: right;\">      0.00758509</td><td>True      </td><td>cosine_annealing</td></tr>\n",
       "<tr><td>lambda_adc3b91d</td><td>RUNNING </td><td>     </td><td style=\"text-align: right;\">0.346234 </td><td style=\"text-align: right;\">     0.00108808</td><td style=\"text-align: right;\">      0.0074471 </td><td style=\"text-align: right;\">      0.00883177</td><td style=\"text-align: right;\">      0.00968488</td><td>True      </td><td>cosine_annealing</td></tr>\n",
       "<tr><td>lambda_adc3b91e</td><td>RUNNING </td><td>     </td><td style=\"text-align: right;\">0.133558 </td><td style=\"text-align: right;\">     0.00682071</td><td style=\"text-align: right;\">      0.00830856</td><td style=\"text-align: right;\">      0.00413312</td><td style=\"text-align: right;\">      0.00992691</td><td>False     </td><td>cosine_annealing</td></tr>\n",
       "<tr><td>lambda_adc3b91f</td><td>RUNNING </td><td>     </td><td style=\"text-align: right;\">0.420442 </td><td style=\"text-align: right;\">     0.0043266 </td><td style=\"text-align: right;\">      0.00995842</td><td style=\"text-align: right;\">      0.00685197</td><td style=\"text-align: right;\">      0.00166082</td><td>True      </td><td>linear_decay    </td></tr>\n",
       "<tr><td>lambda_adc3b920</td><td>RUNNING </td><td>     </td><td style=\"text-align: right;\">0.480015 </td><td style=\"text-align: right;\">     0.00734749</td><td style=\"text-align: right;\">      0.00502661</td><td style=\"text-align: right;\">      0.00997895</td><td style=\"text-align: right;\">      0.00967184</td><td>False     </td><td>cosine_annealing</td></tr>\n",
       "<tr><td>lambda_adc3b921</td><td>RUNNING </td><td>     </td><td style=\"text-align: right;\">0.424345 </td><td style=\"text-align: right;\">     0.00242506</td><td style=\"text-align: right;\">      0.00638801</td><td style=\"text-align: right;\">      0.00800052</td><td style=\"text-align: right;\">      0.00325679</td><td>False     </td><td>cosine_annealing</td></tr>\n",
       "<tr><td>lambda_adc3b922</td><td>RUNNING </td><td>     </td><td style=\"text-align: right;\">0.392555 </td><td style=\"text-align: right;\">     0.00733178</td><td style=\"text-align: right;\">      0.00289016</td><td style=\"text-align: right;\">      0.00709749</td><td style=\"text-align: right;\">      0.00143959</td><td>True      </td><td>cosine_annealing</td></tr>\n",
       "<tr><td>lambda_adc3b923</td><td>PENDING </td><td>     </td><td style=\"text-align: right;\">0.489559 </td><td style=\"text-align: right;\">     0.00542594</td><td style=\"text-align: right;\">      0.00246563</td><td style=\"text-align: right;\">      0.00788904</td><td style=\"text-align: right;\">      0.00507275</td><td>True      </td><td>cosine_annealing</td></tr>\n",
       "</tbody>\n",
       "</table><br><br>"
      ],
      "text/plain": [
       "<IPython.core.display.HTML object>"
      ]
     },
     "metadata": {},
     "output_type": "display_data"
    },
    {
     "data": {
      "text/html": [
       "== Status ==<br>Memory usage on this node: 25.6/754.6 GiB<br>Using HyperBand: num_stopped=0 total_brackets=2\n",
       "Round #0:\n",
       "  Bracket(Max Size (n)=6, Milestone (r)=300, completed=0.0%): {RUNNING: 6} \n",
       "  Bracket(Max Size (n)=9, Milestone (r)=100, completed=0.0%): {PENDING: 1, RUNNING: 1} <br>Resources requested: 7.0/36 CPUs, 7.0/7 GPUs, 0.0/555.86 GiB heap, 0.0/186.26 GiB objects (0.0/1.0 accelerator_type:G)<br>Result logdir: /home/kk/cords-1/RayLogs/GradMatchPB-Warm/lambda_2022-02-23_07-31-32<br>Number of trials: 8/20 (1 PENDING, 7 RUNNING)<br><table>\n",
       "<thead>\n",
       "<tr><th>Trial name     </th><th>status  </th><th>loc  </th><th style=\"text-align: right;\">    gamma</th><th style=\"text-align: right;\">  learning_rate</th><th style=\"text-align: right;\">  learning_rate1</th><th style=\"text-align: right;\">  learning_rate2</th><th style=\"text-align: right;\">  learning_rate3</th><th>nesterov  </th><th>scheduler       </th></tr>\n",
       "</thead>\n",
       "<tbody>\n",
       "<tr><td>lambda_adc3b91c</td><td>RUNNING </td><td>     </td><td style=\"text-align: right;\">0.0534229</td><td style=\"text-align: right;\">     0.00209626</td><td style=\"text-align: right;\">      0.00160822</td><td style=\"text-align: right;\">      0.00804886</td><td style=\"text-align: right;\">      0.00758509</td><td>True      </td><td>cosine_annealing</td></tr>\n",
       "<tr><td>lambda_adc3b91d</td><td>RUNNING </td><td>     </td><td style=\"text-align: right;\">0.346234 </td><td style=\"text-align: right;\">     0.00108808</td><td style=\"text-align: right;\">      0.0074471 </td><td style=\"text-align: right;\">      0.00883177</td><td style=\"text-align: right;\">      0.00968488</td><td>True      </td><td>cosine_annealing</td></tr>\n",
       "<tr><td>lambda_adc3b91e</td><td>RUNNING </td><td>     </td><td style=\"text-align: right;\">0.133558 </td><td style=\"text-align: right;\">     0.00682071</td><td style=\"text-align: right;\">      0.00830856</td><td style=\"text-align: right;\">      0.00413312</td><td style=\"text-align: right;\">      0.00992691</td><td>False     </td><td>cosine_annealing</td></tr>\n",
       "<tr><td>lambda_adc3b91f</td><td>RUNNING </td><td>     </td><td style=\"text-align: right;\">0.420442 </td><td style=\"text-align: right;\">     0.0043266 </td><td style=\"text-align: right;\">      0.00995842</td><td style=\"text-align: right;\">      0.00685197</td><td style=\"text-align: right;\">      0.00166082</td><td>True      </td><td>linear_decay    </td></tr>\n",
       "<tr><td>lambda_adc3b920</td><td>RUNNING </td><td>     </td><td style=\"text-align: right;\">0.480015 </td><td style=\"text-align: right;\">     0.00734749</td><td style=\"text-align: right;\">      0.00502661</td><td style=\"text-align: right;\">      0.00997895</td><td style=\"text-align: right;\">      0.00967184</td><td>False     </td><td>cosine_annealing</td></tr>\n",
       "<tr><td>lambda_adc3b921</td><td>RUNNING </td><td>     </td><td style=\"text-align: right;\">0.424345 </td><td style=\"text-align: right;\">     0.00242506</td><td style=\"text-align: right;\">      0.00638801</td><td style=\"text-align: right;\">      0.00800052</td><td style=\"text-align: right;\">      0.00325679</td><td>False     </td><td>cosine_annealing</td></tr>\n",
       "<tr><td>lambda_adc3b922</td><td>RUNNING </td><td>     </td><td style=\"text-align: right;\">0.392555 </td><td style=\"text-align: right;\">     0.00733178</td><td style=\"text-align: right;\">      0.00289016</td><td style=\"text-align: right;\">      0.00709749</td><td style=\"text-align: right;\">      0.00143959</td><td>True      </td><td>cosine_annealing</td></tr>\n",
       "<tr><td>lambda_adc3b923</td><td>PENDING </td><td>     </td><td style=\"text-align: right;\">0.489559 </td><td style=\"text-align: right;\">     0.00542594</td><td style=\"text-align: right;\">      0.00246563</td><td style=\"text-align: right;\">      0.00788904</td><td style=\"text-align: right;\">      0.00507275</td><td>True      </td><td>cosine_annealing</td></tr>\n",
       "</tbody>\n",
       "</table><br><br>"
      ],
      "text/plain": [
       "<IPython.core.display.HTML object>"
      ]
     },
     "metadata": {},
     "output_type": "display_data"
    },
    {
     "data": {
      "text/html": [
       "== Status ==<br>Memory usage on this node: 25.6/754.6 GiB<br>Using HyperBand: num_stopped=0 total_brackets=2\n",
       "Round #0:\n",
       "  Bracket(Max Size (n)=6, Milestone (r)=300, completed=0.0%): {RUNNING: 6} \n",
       "  Bracket(Max Size (n)=9, Milestone (r)=100, completed=0.0%): {PENDING: 1, RUNNING: 1} <br>Resources requested: 7.0/36 CPUs, 7.0/7 GPUs, 0.0/555.86 GiB heap, 0.0/186.26 GiB objects (0.0/1.0 accelerator_type:G)<br>Result logdir: /home/kk/cords-1/RayLogs/GradMatchPB-Warm/lambda_2022-02-23_07-31-32<br>Number of trials: 8/20 (1 PENDING, 7 RUNNING)<br><table>\n",
       "<thead>\n",
       "<tr><th>Trial name     </th><th>status  </th><th>loc  </th><th style=\"text-align: right;\">    gamma</th><th style=\"text-align: right;\">  learning_rate</th><th style=\"text-align: right;\">  learning_rate1</th><th style=\"text-align: right;\">  learning_rate2</th><th style=\"text-align: right;\">  learning_rate3</th><th>nesterov  </th><th>scheduler       </th></tr>\n",
       "</thead>\n",
       "<tbody>\n",
       "<tr><td>lambda_adc3b91c</td><td>RUNNING </td><td>     </td><td style=\"text-align: right;\">0.0534229</td><td style=\"text-align: right;\">     0.00209626</td><td style=\"text-align: right;\">      0.00160822</td><td style=\"text-align: right;\">      0.00804886</td><td style=\"text-align: right;\">      0.00758509</td><td>True      </td><td>cosine_annealing</td></tr>\n",
       "<tr><td>lambda_adc3b91d</td><td>RUNNING </td><td>     </td><td style=\"text-align: right;\">0.346234 </td><td style=\"text-align: right;\">     0.00108808</td><td style=\"text-align: right;\">      0.0074471 </td><td style=\"text-align: right;\">      0.00883177</td><td style=\"text-align: right;\">      0.00968488</td><td>True      </td><td>cosine_annealing</td></tr>\n",
       "<tr><td>lambda_adc3b91e</td><td>RUNNING </td><td>     </td><td style=\"text-align: right;\">0.133558 </td><td style=\"text-align: right;\">     0.00682071</td><td style=\"text-align: right;\">      0.00830856</td><td style=\"text-align: right;\">      0.00413312</td><td style=\"text-align: right;\">      0.00992691</td><td>False     </td><td>cosine_annealing</td></tr>\n",
       "<tr><td>lambda_adc3b91f</td><td>RUNNING </td><td>     </td><td style=\"text-align: right;\">0.420442 </td><td style=\"text-align: right;\">     0.0043266 </td><td style=\"text-align: right;\">      0.00995842</td><td style=\"text-align: right;\">      0.00685197</td><td style=\"text-align: right;\">      0.00166082</td><td>True      </td><td>linear_decay    </td></tr>\n",
       "<tr><td>lambda_adc3b920</td><td>RUNNING </td><td>     </td><td style=\"text-align: right;\">0.480015 </td><td style=\"text-align: right;\">     0.00734749</td><td style=\"text-align: right;\">      0.00502661</td><td style=\"text-align: right;\">      0.00997895</td><td style=\"text-align: right;\">      0.00967184</td><td>False     </td><td>cosine_annealing</td></tr>\n",
       "<tr><td>lambda_adc3b921</td><td>RUNNING </td><td>     </td><td style=\"text-align: right;\">0.424345 </td><td style=\"text-align: right;\">     0.00242506</td><td style=\"text-align: right;\">      0.00638801</td><td style=\"text-align: right;\">      0.00800052</td><td style=\"text-align: right;\">      0.00325679</td><td>False     </td><td>cosine_annealing</td></tr>\n",
       "<tr><td>lambda_adc3b922</td><td>RUNNING </td><td>     </td><td style=\"text-align: right;\">0.392555 </td><td style=\"text-align: right;\">     0.00733178</td><td style=\"text-align: right;\">      0.00289016</td><td style=\"text-align: right;\">      0.00709749</td><td style=\"text-align: right;\">      0.00143959</td><td>True      </td><td>cosine_annealing</td></tr>\n",
       "<tr><td>lambda_adc3b923</td><td>PENDING </td><td>     </td><td style=\"text-align: right;\">0.489559 </td><td style=\"text-align: right;\">     0.00542594</td><td style=\"text-align: right;\">      0.00246563</td><td style=\"text-align: right;\">      0.00788904</td><td style=\"text-align: right;\">      0.00507275</td><td>True      </td><td>cosine_annealing</td></tr>\n",
       "</tbody>\n",
       "</table><br><br>"
      ],
      "text/plain": [
       "<IPython.core.display.HTML object>"
      ]
     },
     "metadata": {},
     "output_type": "display_data"
    },
    {
     "data": {
      "text/html": [
       "== Status ==<br>Memory usage on this node: 25.8/754.6 GiB<br>Using HyperBand: num_stopped=0 total_brackets=2\n",
       "Round #0:\n",
       "  Bracket(Max Size (n)=6, Milestone (r)=300, completed=0.0%): {RUNNING: 6} \n",
       "  Bracket(Max Size (n)=9, Milestone (r)=100, completed=0.0%): {PENDING: 1, RUNNING: 1} <br>Resources requested: 7.0/36 CPUs, 7.0/7 GPUs, 0.0/555.86 GiB heap, 0.0/186.26 GiB objects (0.0/1.0 accelerator_type:G)<br>Result logdir: /home/kk/cords-1/RayLogs/GradMatchPB-Warm/lambda_2022-02-23_07-31-32<br>Number of trials: 8/20 (1 PENDING, 7 RUNNING)<br><table>\n",
       "<thead>\n",
       "<tr><th>Trial name     </th><th>status  </th><th>loc  </th><th style=\"text-align: right;\">    gamma</th><th style=\"text-align: right;\">  learning_rate</th><th style=\"text-align: right;\">  learning_rate1</th><th style=\"text-align: right;\">  learning_rate2</th><th style=\"text-align: right;\">  learning_rate3</th><th>nesterov  </th><th>scheduler       </th></tr>\n",
       "</thead>\n",
       "<tbody>\n",
       "<tr><td>lambda_adc3b91c</td><td>RUNNING </td><td>     </td><td style=\"text-align: right;\">0.0534229</td><td style=\"text-align: right;\">     0.00209626</td><td style=\"text-align: right;\">      0.00160822</td><td style=\"text-align: right;\">      0.00804886</td><td style=\"text-align: right;\">      0.00758509</td><td>True      </td><td>cosine_annealing</td></tr>\n",
       "<tr><td>lambda_adc3b91d</td><td>RUNNING </td><td>     </td><td style=\"text-align: right;\">0.346234 </td><td style=\"text-align: right;\">     0.00108808</td><td style=\"text-align: right;\">      0.0074471 </td><td style=\"text-align: right;\">      0.00883177</td><td style=\"text-align: right;\">      0.00968488</td><td>True      </td><td>cosine_annealing</td></tr>\n",
       "<tr><td>lambda_adc3b91e</td><td>RUNNING </td><td>     </td><td style=\"text-align: right;\">0.133558 </td><td style=\"text-align: right;\">     0.00682071</td><td style=\"text-align: right;\">      0.00830856</td><td style=\"text-align: right;\">      0.00413312</td><td style=\"text-align: right;\">      0.00992691</td><td>False     </td><td>cosine_annealing</td></tr>\n",
       "<tr><td>lambda_adc3b91f</td><td>RUNNING </td><td>     </td><td style=\"text-align: right;\">0.420442 </td><td style=\"text-align: right;\">     0.0043266 </td><td style=\"text-align: right;\">      0.00995842</td><td style=\"text-align: right;\">      0.00685197</td><td style=\"text-align: right;\">      0.00166082</td><td>True      </td><td>linear_decay    </td></tr>\n",
       "<tr><td>lambda_adc3b920</td><td>RUNNING </td><td>     </td><td style=\"text-align: right;\">0.480015 </td><td style=\"text-align: right;\">     0.00734749</td><td style=\"text-align: right;\">      0.00502661</td><td style=\"text-align: right;\">      0.00997895</td><td style=\"text-align: right;\">      0.00967184</td><td>False     </td><td>cosine_annealing</td></tr>\n",
       "<tr><td>lambda_adc3b921</td><td>RUNNING </td><td>     </td><td style=\"text-align: right;\">0.424345 </td><td style=\"text-align: right;\">     0.00242506</td><td style=\"text-align: right;\">      0.00638801</td><td style=\"text-align: right;\">      0.00800052</td><td style=\"text-align: right;\">      0.00325679</td><td>False     </td><td>cosine_annealing</td></tr>\n",
       "<tr><td>lambda_adc3b922</td><td>RUNNING </td><td>     </td><td style=\"text-align: right;\">0.392555 </td><td style=\"text-align: right;\">     0.00733178</td><td style=\"text-align: right;\">      0.00289016</td><td style=\"text-align: right;\">      0.00709749</td><td style=\"text-align: right;\">      0.00143959</td><td>True      </td><td>cosine_annealing</td></tr>\n",
       "<tr><td>lambda_adc3b923</td><td>PENDING </td><td>     </td><td style=\"text-align: right;\">0.489559 </td><td style=\"text-align: right;\">     0.00542594</td><td style=\"text-align: right;\">      0.00246563</td><td style=\"text-align: right;\">      0.00788904</td><td style=\"text-align: right;\">      0.00507275</td><td>True      </td><td>cosine_annealing</td></tr>\n",
       "</tbody>\n",
       "</table><br><br>"
      ],
      "text/plain": [
       "<IPython.core.display.HTML object>"
      ]
     },
     "metadata": {},
     "output_type": "display_data"
    },
    {
     "data": {
      "text/html": [
       "== Status ==<br>Memory usage on this node: 25.8/754.6 GiB<br>Using HyperBand: num_stopped=0 total_brackets=2\n",
       "Round #0:\n",
       "  Bracket(Max Size (n)=6, Milestone (r)=300, completed=0.0%): {RUNNING: 6} \n",
       "  Bracket(Max Size (n)=9, Milestone (r)=100, completed=0.0%): {PENDING: 1, RUNNING: 1} <br>Resources requested: 7.0/36 CPUs, 7.0/7 GPUs, 0.0/555.86 GiB heap, 0.0/186.26 GiB objects (0.0/1.0 accelerator_type:G)<br>Result logdir: /home/kk/cords-1/RayLogs/GradMatchPB-Warm/lambda_2022-02-23_07-31-32<br>Number of trials: 8/20 (1 PENDING, 7 RUNNING)<br><table>\n",
       "<thead>\n",
       "<tr><th>Trial name     </th><th>status  </th><th>loc  </th><th style=\"text-align: right;\">    gamma</th><th style=\"text-align: right;\">  learning_rate</th><th style=\"text-align: right;\">  learning_rate1</th><th style=\"text-align: right;\">  learning_rate2</th><th style=\"text-align: right;\">  learning_rate3</th><th>nesterov  </th><th>scheduler       </th></tr>\n",
       "</thead>\n",
       "<tbody>\n",
       "<tr><td>lambda_adc3b91c</td><td>RUNNING </td><td>     </td><td style=\"text-align: right;\">0.0534229</td><td style=\"text-align: right;\">     0.00209626</td><td style=\"text-align: right;\">      0.00160822</td><td style=\"text-align: right;\">      0.00804886</td><td style=\"text-align: right;\">      0.00758509</td><td>True      </td><td>cosine_annealing</td></tr>\n",
       "<tr><td>lambda_adc3b91d</td><td>RUNNING </td><td>     </td><td style=\"text-align: right;\">0.346234 </td><td style=\"text-align: right;\">     0.00108808</td><td style=\"text-align: right;\">      0.0074471 </td><td style=\"text-align: right;\">      0.00883177</td><td style=\"text-align: right;\">      0.00968488</td><td>True      </td><td>cosine_annealing</td></tr>\n",
       "<tr><td>lambda_adc3b91e</td><td>RUNNING </td><td>     </td><td style=\"text-align: right;\">0.133558 </td><td style=\"text-align: right;\">     0.00682071</td><td style=\"text-align: right;\">      0.00830856</td><td style=\"text-align: right;\">      0.00413312</td><td style=\"text-align: right;\">      0.00992691</td><td>False     </td><td>cosine_annealing</td></tr>\n",
       "<tr><td>lambda_adc3b91f</td><td>RUNNING </td><td>     </td><td style=\"text-align: right;\">0.420442 </td><td style=\"text-align: right;\">     0.0043266 </td><td style=\"text-align: right;\">      0.00995842</td><td style=\"text-align: right;\">      0.00685197</td><td style=\"text-align: right;\">      0.00166082</td><td>True      </td><td>linear_decay    </td></tr>\n",
       "<tr><td>lambda_adc3b920</td><td>RUNNING </td><td>     </td><td style=\"text-align: right;\">0.480015 </td><td style=\"text-align: right;\">     0.00734749</td><td style=\"text-align: right;\">      0.00502661</td><td style=\"text-align: right;\">      0.00997895</td><td style=\"text-align: right;\">      0.00967184</td><td>False     </td><td>cosine_annealing</td></tr>\n",
       "<tr><td>lambda_adc3b921</td><td>RUNNING </td><td>     </td><td style=\"text-align: right;\">0.424345 </td><td style=\"text-align: right;\">     0.00242506</td><td style=\"text-align: right;\">      0.00638801</td><td style=\"text-align: right;\">      0.00800052</td><td style=\"text-align: right;\">      0.00325679</td><td>False     </td><td>cosine_annealing</td></tr>\n",
       "<tr><td>lambda_adc3b922</td><td>RUNNING </td><td>     </td><td style=\"text-align: right;\">0.392555 </td><td style=\"text-align: right;\">     0.00733178</td><td style=\"text-align: right;\">      0.00289016</td><td style=\"text-align: right;\">      0.00709749</td><td style=\"text-align: right;\">      0.00143959</td><td>True      </td><td>cosine_annealing</td></tr>\n",
       "<tr><td>lambda_adc3b923</td><td>PENDING </td><td>     </td><td style=\"text-align: right;\">0.489559 </td><td style=\"text-align: right;\">     0.00542594</td><td style=\"text-align: right;\">      0.00246563</td><td style=\"text-align: right;\">      0.00788904</td><td style=\"text-align: right;\">      0.00507275</td><td>True      </td><td>cosine_annealing</td></tr>\n",
       "</tbody>\n",
       "</table><br><br>"
      ],
      "text/plain": [
       "<IPython.core.display.HTML object>"
      ]
     },
     "metadata": {},
     "output_type": "display_data"
    },
    {
     "data": {
      "text/html": [
       "== Status ==<br>Memory usage on this node: 25.8/754.6 GiB<br>Using HyperBand: num_stopped=0 total_brackets=2\n",
       "Round #0:\n",
       "  Bracket(Max Size (n)=6, Milestone (r)=300, completed=0.0%): {RUNNING: 6} \n",
       "  Bracket(Max Size (n)=9, Milestone (r)=100, completed=0.0%): {PENDING: 1, RUNNING: 1} <br>Resources requested: 7.0/36 CPUs, 7.0/7 GPUs, 0.0/555.86 GiB heap, 0.0/186.26 GiB objects (0.0/1.0 accelerator_type:G)<br>Result logdir: /home/kk/cords-1/RayLogs/GradMatchPB-Warm/lambda_2022-02-23_07-31-32<br>Number of trials: 8/20 (1 PENDING, 7 RUNNING)<br><table>\n",
       "<thead>\n",
       "<tr><th>Trial name     </th><th>status  </th><th>loc  </th><th style=\"text-align: right;\">    gamma</th><th style=\"text-align: right;\">  learning_rate</th><th style=\"text-align: right;\">  learning_rate1</th><th style=\"text-align: right;\">  learning_rate2</th><th style=\"text-align: right;\">  learning_rate3</th><th>nesterov  </th><th>scheduler       </th></tr>\n",
       "</thead>\n",
       "<tbody>\n",
       "<tr><td>lambda_adc3b91c</td><td>RUNNING </td><td>     </td><td style=\"text-align: right;\">0.0534229</td><td style=\"text-align: right;\">     0.00209626</td><td style=\"text-align: right;\">      0.00160822</td><td style=\"text-align: right;\">      0.00804886</td><td style=\"text-align: right;\">      0.00758509</td><td>True      </td><td>cosine_annealing</td></tr>\n",
       "<tr><td>lambda_adc3b91d</td><td>RUNNING </td><td>     </td><td style=\"text-align: right;\">0.346234 </td><td style=\"text-align: right;\">     0.00108808</td><td style=\"text-align: right;\">      0.0074471 </td><td style=\"text-align: right;\">      0.00883177</td><td style=\"text-align: right;\">      0.00968488</td><td>True      </td><td>cosine_annealing</td></tr>\n",
       "<tr><td>lambda_adc3b91e</td><td>RUNNING </td><td>     </td><td style=\"text-align: right;\">0.133558 </td><td style=\"text-align: right;\">     0.00682071</td><td style=\"text-align: right;\">      0.00830856</td><td style=\"text-align: right;\">      0.00413312</td><td style=\"text-align: right;\">      0.00992691</td><td>False     </td><td>cosine_annealing</td></tr>\n",
       "<tr><td>lambda_adc3b91f</td><td>RUNNING </td><td>     </td><td style=\"text-align: right;\">0.420442 </td><td style=\"text-align: right;\">     0.0043266 </td><td style=\"text-align: right;\">      0.00995842</td><td style=\"text-align: right;\">      0.00685197</td><td style=\"text-align: right;\">      0.00166082</td><td>True      </td><td>linear_decay    </td></tr>\n",
       "<tr><td>lambda_adc3b920</td><td>RUNNING </td><td>     </td><td style=\"text-align: right;\">0.480015 </td><td style=\"text-align: right;\">     0.00734749</td><td style=\"text-align: right;\">      0.00502661</td><td style=\"text-align: right;\">      0.00997895</td><td style=\"text-align: right;\">      0.00967184</td><td>False     </td><td>cosine_annealing</td></tr>\n",
       "<tr><td>lambda_adc3b921</td><td>RUNNING </td><td>     </td><td style=\"text-align: right;\">0.424345 </td><td style=\"text-align: right;\">     0.00242506</td><td style=\"text-align: right;\">      0.00638801</td><td style=\"text-align: right;\">      0.00800052</td><td style=\"text-align: right;\">      0.00325679</td><td>False     </td><td>cosine_annealing</td></tr>\n",
       "<tr><td>lambda_adc3b922</td><td>RUNNING </td><td>     </td><td style=\"text-align: right;\">0.392555 </td><td style=\"text-align: right;\">     0.00733178</td><td style=\"text-align: right;\">      0.00289016</td><td style=\"text-align: right;\">      0.00709749</td><td style=\"text-align: right;\">      0.00143959</td><td>True      </td><td>cosine_annealing</td></tr>\n",
       "<tr><td>lambda_adc3b923</td><td>PENDING </td><td>     </td><td style=\"text-align: right;\">0.489559 </td><td style=\"text-align: right;\">     0.00542594</td><td style=\"text-align: right;\">      0.00246563</td><td style=\"text-align: right;\">      0.00788904</td><td style=\"text-align: right;\">      0.00507275</td><td>True      </td><td>cosine_annealing</td></tr>\n",
       "</tbody>\n",
       "</table><br><br>"
      ],
      "text/plain": [
       "<IPython.core.display.HTML object>"
      ]
     },
     "metadata": {},
     "output_type": "display_data"
    },
    {
     "data": {
      "text/html": [
       "== Status ==<br>Memory usage on this node: 25.8/754.6 GiB<br>Using HyperBand: num_stopped=0 total_brackets=2\n",
       "Round #0:\n",
       "  Bracket(Max Size (n)=6, Milestone (r)=300, completed=0.0%): {RUNNING: 6} \n",
       "  Bracket(Max Size (n)=9, Milestone (r)=100, completed=0.0%): {PENDING: 1, RUNNING: 1} <br>Resources requested: 7.0/36 CPUs, 7.0/7 GPUs, 0.0/555.86 GiB heap, 0.0/186.26 GiB objects (0.0/1.0 accelerator_type:G)<br>Result logdir: /home/kk/cords-1/RayLogs/GradMatchPB-Warm/lambda_2022-02-23_07-31-32<br>Number of trials: 8/20 (1 PENDING, 7 RUNNING)<br><table>\n",
       "<thead>\n",
       "<tr><th>Trial name     </th><th>status  </th><th>loc  </th><th style=\"text-align: right;\">    gamma</th><th style=\"text-align: right;\">  learning_rate</th><th style=\"text-align: right;\">  learning_rate1</th><th style=\"text-align: right;\">  learning_rate2</th><th style=\"text-align: right;\">  learning_rate3</th><th>nesterov  </th><th>scheduler       </th></tr>\n",
       "</thead>\n",
       "<tbody>\n",
       "<tr><td>lambda_adc3b91c</td><td>RUNNING </td><td>     </td><td style=\"text-align: right;\">0.0534229</td><td style=\"text-align: right;\">     0.00209626</td><td style=\"text-align: right;\">      0.00160822</td><td style=\"text-align: right;\">      0.00804886</td><td style=\"text-align: right;\">      0.00758509</td><td>True      </td><td>cosine_annealing</td></tr>\n",
       "<tr><td>lambda_adc3b91d</td><td>RUNNING </td><td>     </td><td style=\"text-align: right;\">0.346234 </td><td style=\"text-align: right;\">     0.00108808</td><td style=\"text-align: right;\">      0.0074471 </td><td style=\"text-align: right;\">      0.00883177</td><td style=\"text-align: right;\">      0.00968488</td><td>True      </td><td>cosine_annealing</td></tr>\n",
       "<tr><td>lambda_adc3b91e</td><td>RUNNING </td><td>     </td><td style=\"text-align: right;\">0.133558 </td><td style=\"text-align: right;\">     0.00682071</td><td style=\"text-align: right;\">      0.00830856</td><td style=\"text-align: right;\">      0.00413312</td><td style=\"text-align: right;\">      0.00992691</td><td>False     </td><td>cosine_annealing</td></tr>\n",
       "<tr><td>lambda_adc3b91f</td><td>RUNNING </td><td>     </td><td style=\"text-align: right;\">0.420442 </td><td style=\"text-align: right;\">     0.0043266 </td><td style=\"text-align: right;\">      0.00995842</td><td style=\"text-align: right;\">      0.00685197</td><td style=\"text-align: right;\">      0.00166082</td><td>True      </td><td>linear_decay    </td></tr>\n",
       "<tr><td>lambda_adc3b920</td><td>RUNNING </td><td>     </td><td style=\"text-align: right;\">0.480015 </td><td style=\"text-align: right;\">     0.00734749</td><td style=\"text-align: right;\">      0.00502661</td><td style=\"text-align: right;\">      0.00997895</td><td style=\"text-align: right;\">      0.00967184</td><td>False     </td><td>cosine_annealing</td></tr>\n",
       "<tr><td>lambda_adc3b921</td><td>RUNNING </td><td>     </td><td style=\"text-align: right;\">0.424345 </td><td style=\"text-align: right;\">     0.00242506</td><td style=\"text-align: right;\">      0.00638801</td><td style=\"text-align: right;\">      0.00800052</td><td style=\"text-align: right;\">      0.00325679</td><td>False     </td><td>cosine_annealing</td></tr>\n",
       "<tr><td>lambda_adc3b922</td><td>RUNNING </td><td>     </td><td style=\"text-align: right;\">0.392555 </td><td style=\"text-align: right;\">     0.00733178</td><td style=\"text-align: right;\">      0.00289016</td><td style=\"text-align: right;\">      0.00709749</td><td style=\"text-align: right;\">      0.00143959</td><td>True      </td><td>cosine_annealing</td></tr>\n",
       "<tr><td>lambda_adc3b923</td><td>PENDING </td><td>     </td><td style=\"text-align: right;\">0.489559 </td><td style=\"text-align: right;\">     0.00542594</td><td style=\"text-align: right;\">      0.00246563</td><td style=\"text-align: right;\">      0.00788904</td><td style=\"text-align: right;\">      0.00507275</td><td>True      </td><td>cosine_annealing</td></tr>\n",
       "</tbody>\n",
       "</table><br><br>"
      ],
      "text/plain": [
       "<IPython.core.display.HTML object>"
      ]
     },
     "metadata": {},
     "output_type": "display_data"
    },
    {
     "data": {
      "text/html": [
       "== Status ==<br>Memory usage on this node: 25.8/754.6 GiB<br>Using HyperBand: num_stopped=0 total_brackets=2\n",
       "Round #0:\n",
       "  Bracket(Max Size (n)=6, Milestone (r)=300, completed=0.0%): {RUNNING: 6} \n",
       "  Bracket(Max Size (n)=9, Milestone (r)=100, completed=0.0%): {PENDING: 1, RUNNING: 1} <br>Resources requested: 7.0/36 CPUs, 7.0/7 GPUs, 0.0/555.86 GiB heap, 0.0/186.26 GiB objects (0.0/1.0 accelerator_type:G)<br>Result logdir: /home/kk/cords-1/RayLogs/GradMatchPB-Warm/lambda_2022-02-23_07-31-32<br>Number of trials: 8/20 (1 PENDING, 7 RUNNING)<br><table>\n",
       "<thead>\n",
       "<tr><th>Trial name     </th><th>status  </th><th>loc  </th><th style=\"text-align: right;\">    gamma</th><th style=\"text-align: right;\">  learning_rate</th><th style=\"text-align: right;\">  learning_rate1</th><th style=\"text-align: right;\">  learning_rate2</th><th style=\"text-align: right;\">  learning_rate3</th><th>nesterov  </th><th>scheduler       </th></tr>\n",
       "</thead>\n",
       "<tbody>\n",
       "<tr><td>lambda_adc3b91c</td><td>RUNNING </td><td>     </td><td style=\"text-align: right;\">0.0534229</td><td style=\"text-align: right;\">     0.00209626</td><td style=\"text-align: right;\">      0.00160822</td><td style=\"text-align: right;\">      0.00804886</td><td style=\"text-align: right;\">      0.00758509</td><td>True      </td><td>cosine_annealing</td></tr>\n",
       "<tr><td>lambda_adc3b91d</td><td>RUNNING </td><td>     </td><td style=\"text-align: right;\">0.346234 </td><td style=\"text-align: right;\">     0.00108808</td><td style=\"text-align: right;\">      0.0074471 </td><td style=\"text-align: right;\">      0.00883177</td><td style=\"text-align: right;\">      0.00968488</td><td>True      </td><td>cosine_annealing</td></tr>\n",
       "<tr><td>lambda_adc3b91e</td><td>RUNNING </td><td>     </td><td style=\"text-align: right;\">0.133558 </td><td style=\"text-align: right;\">     0.00682071</td><td style=\"text-align: right;\">      0.00830856</td><td style=\"text-align: right;\">      0.00413312</td><td style=\"text-align: right;\">      0.00992691</td><td>False     </td><td>cosine_annealing</td></tr>\n",
       "<tr><td>lambda_adc3b91f</td><td>RUNNING </td><td>     </td><td style=\"text-align: right;\">0.420442 </td><td style=\"text-align: right;\">     0.0043266 </td><td style=\"text-align: right;\">      0.00995842</td><td style=\"text-align: right;\">      0.00685197</td><td style=\"text-align: right;\">      0.00166082</td><td>True      </td><td>linear_decay    </td></tr>\n",
       "<tr><td>lambda_adc3b920</td><td>RUNNING </td><td>     </td><td style=\"text-align: right;\">0.480015 </td><td style=\"text-align: right;\">     0.00734749</td><td style=\"text-align: right;\">      0.00502661</td><td style=\"text-align: right;\">      0.00997895</td><td style=\"text-align: right;\">      0.00967184</td><td>False     </td><td>cosine_annealing</td></tr>\n",
       "<tr><td>lambda_adc3b921</td><td>RUNNING </td><td>     </td><td style=\"text-align: right;\">0.424345 </td><td style=\"text-align: right;\">     0.00242506</td><td style=\"text-align: right;\">      0.00638801</td><td style=\"text-align: right;\">      0.00800052</td><td style=\"text-align: right;\">      0.00325679</td><td>False     </td><td>cosine_annealing</td></tr>\n",
       "<tr><td>lambda_adc3b922</td><td>RUNNING </td><td>     </td><td style=\"text-align: right;\">0.392555 </td><td style=\"text-align: right;\">     0.00733178</td><td style=\"text-align: right;\">      0.00289016</td><td style=\"text-align: right;\">      0.00709749</td><td style=\"text-align: right;\">      0.00143959</td><td>True      </td><td>cosine_annealing</td></tr>\n",
       "<tr><td>lambda_adc3b923</td><td>PENDING </td><td>     </td><td style=\"text-align: right;\">0.489559 </td><td style=\"text-align: right;\">     0.00542594</td><td style=\"text-align: right;\">      0.00246563</td><td style=\"text-align: right;\">      0.00788904</td><td style=\"text-align: right;\">      0.00507275</td><td>True      </td><td>cosine_annealing</td></tr>\n",
       "</tbody>\n",
       "</table><br><br>"
      ],
      "text/plain": [
       "<IPython.core.display.HTML object>"
      ]
     },
     "metadata": {},
     "output_type": "display_data"
    },
    {
     "data": {
      "text/html": [
       "== Status ==<br>Memory usage on this node: 25.8/754.6 GiB<br>Using HyperBand: num_stopped=0 total_brackets=2\n",
       "Round #0:\n",
       "  Bracket(Max Size (n)=6, Milestone (r)=300, completed=0.0%): {RUNNING: 6} \n",
       "  Bracket(Max Size (n)=9, Milestone (r)=100, completed=0.0%): {PENDING: 1, RUNNING: 1} <br>Resources requested: 7.0/36 CPUs, 7.0/7 GPUs, 0.0/555.86 GiB heap, 0.0/186.26 GiB objects (0.0/1.0 accelerator_type:G)<br>Result logdir: /home/kk/cords-1/RayLogs/GradMatchPB-Warm/lambda_2022-02-23_07-31-32<br>Number of trials: 8/20 (1 PENDING, 7 RUNNING)<br><table>\n",
       "<thead>\n",
       "<tr><th>Trial name     </th><th>status  </th><th>loc  </th><th style=\"text-align: right;\">    gamma</th><th style=\"text-align: right;\">  learning_rate</th><th style=\"text-align: right;\">  learning_rate1</th><th style=\"text-align: right;\">  learning_rate2</th><th style=\"text-align: right;\">  learning_rate3</th><th>nesterov  </th><th>scheduler       </th></tr>\n",
       "</thead>\n",
       "<tbody>\n",
       "<tr><td>lambda_adc3b91c</td><td>RUNNING </td><td>     </td><td style=\"text-align: right;\">0.0534229</td><td style=\"text-align: right;\">     0.00209626</td><td style=\"text-align: right;\">      0.00160822</td><td style=\"text-align: right;\">      0.00804886</td><td style=\"text-align: right;\">      0.00758509</td><td>True      </td><td>cosine_annealing</td></tr>\n",
       "<tr><td>lambda_adc3b91d</td><td>RUNNING </td><td>     </td><td style=\"text-align: right;\">0.346234 </td><td style=\"text-align: right;\">     0.00108808</td><td style=\"text-align: right;\">      0.0074471 </td><td style=\"text-align: right;\">      0.00883177</td><td style=\"text-align: right;\">      0.00968488</td><td>True      </td><td>cosine_annealing</td></tr>\n",
       "<tr><td>lambda_adc3b91e</td><td>RUNNING </td><td>     </td><td style=\"text-align: right;\">0.133558 </td><td style=\"text-align: right;\">     0.00682071</td><td style=\"text-align: right;\">      0.00830856</td><td style=\"text-align: right;\">      0.00413312</td><td style=\"text-align: right;\">      0.00992691</td><td>False     </td><td>cosine_annealing</td></tr>\n",
       "<tr><td>lambda_adc3b91f</td><td>RUNNING </td><td>     </td><td style=\"text-align: right;\">0.420442 </td><td style=\"text-align: right;\">     0.0043266 </td><td style=\"text-align: right;\">      0.00995842</td><td style=\"text-align: right;\">      0.00685197</td><td style=\"text-align: right;\">      0.00166082</td><td>True      </td><td>linear_decay    </td></tr>\n",
       "<tr><td>lambda_adc3b920</td><td>RUNNING </td><td>     </td><td style=\"text-align: right;\">0.480015 </td><td style=\"text-align: right;\">     0.00734749</td><td style=\"text-align: right;\">      0.00502661</td><td style=\"text-align: right;\">      0.00997895</td><td style=\"text-align: right;\">      0.00967184</td><td>False     </td><td>cosine_annealing</td></tr>\n",
       "<tr><td>lambda_adc3b921</td><td>RUNNING </td><td>     </td><td style=\"text-align: right;\">0.424345 </td><td style=\"text-align: right;\">     0.00242506</td><td style=\"text-align: right;\">      0.00638801</td><td style=\"text-align: right;\">      0.00800052</td><td style=\"text-align: right;\">      0.00325679</td><td>False     </td><td>cosine_annealing</td></tr>\n",
       "<tr><td>lambda_adc3b922</td><td>RUNNING </td><td>     </td><td style=\"text-align: right;\">0.392555 </td><td style=\"text-align: right;\">     0.00733178</td><td style=\"text-align: right;\">      0.00289016</td><td style=\"text-align: right;\">      0.00709749</td><td style=\"text-align: right;\">      0.00143959</td><td>True      </td><td>cosine_annealing</td></tr>\n",
       "<tr><td>lambda_adc3b923</td><td>PENDING </td><td>     </td><td style=\"text-align: right;\">0.489559 </td><td style=\"text-align: right;\">     0.00542594</td><td style=\"text-align: right;\">      0.00246563</td><td style=\"text-align: right;\">      0.00788904</td><td style=\"text-align: right;\">      0.00507275</td><td>True      </td><td>cosine_annealing</td></tr>\n",
       "</tbody>\n",
       "</table><br><br>"
      ],
      "text/plain": [
       "<IPython.core.display.HTML object>"
      ]
     },
     "metadata": {},
     "output_type": "display_data"
    },
    {
     "name": "stdout",
     "output_type": "stream",
     "text": [
      "Result for lambda_adc3b91c:\n",
      "  date: 2022-02-23_07-33-46\n",
      "  done: false\n",
      "  experiment_id: a73072b4893a46169ccd9d40c5af7e47\n",
      "  hostname: airlabsgpu003\n",
      "  iterations_since_restore: 1\n",
      "  mean_accuracy: 0.2024\n",
      "  node_ip: 10.185.170.23\n",
      "  pid: 57777\n",
      "  time_since_restore: 130.73239946365356\n",
      "  time_this_iter_s: 130.73239946365356\n",
      "  time_total_s: 130.73239946365356\n",
      "  timestamp: 1645630426\n",
      "  timesteps_since_restore: 0\n",
      "  training_iteration: 1\n",
      "  trial_id: adc3b91c\n",
      "  \n",
      "Result for lambda_adc3b920:\n",
      "  date: 2022-02-23_07-33-47\n",
      "  done: false\n",
      "  experiment_id: 4ee7530365af43bea31d5a0f85ebf7e3\n",
      "  hostname: airlabsgpu003\n",
      "  iterations_since_restore: 1\n",
      "  mean_accuracy: 0.166\n",
      "  node_ip: 10.185.170.23\n",
      "  pid: 57749\n",
      "  time_since_restore: 130.55150938034058\n",
      "  time_this_iter_s: 130.55150938034058\n",
      "  time_total_s: 130.55150938034058\n",
      "  timestamp: 1645630427\n",
      "  timesteps_since_restore: 0\n",
      "  training_iteration: 1\n",
      "  trial_id: adc3b920\n",
      "  \n",
      "Result for lambda_adc3b921:\n",
      "  date: 2022-02-23_07-33-47\n",
      "  done: false\n",
      "  experiment_id: b84073fb31664951b9dd6313c2a05f56\n",
      "  hostname: airlabsgpu003\n",
      "  iterations_since_restore: 1\n",
      "  mean_accuracy: 0.171\n",
      "  node_ip: 10.185.170.23\n",
      "  pid: 57763\n",
      "  time_since_restore: 130.2871253490448\n",
      "  time_this_iter_s: 130.2871253490448\n",
      "  time_total_s: 130.2871253490448\n",
      "  timestamp: 1645630427\n",
      "  timesteps_since_restore: 0\n",
      "  training_iteration: 1\n",
      "  trial_id: adc3b921\n",
      "  \n",
      "Result for lambda_adc3b922:\n",
      "  date: 2022-02-23_07-33-48\n",
      "  done: false\n",
      "  experiment_id: 5d7512dd3f3d42d0babc68d4f522737b\n",
      "  hostname: airlabsgpu003\n",
      "  iterations_since_restore: 1\n",
      "  mean_accuracy: 0.2034\n",
      "  node_ip: 10.185.170.23\n",
      "  pid: 57773\n",
      "  time_since_restore: 130.965669631958\n",
      "  time_this_iter_s: 130.965669631958\n",
      "  time_total_s: 130.965669631958\n",
      "  timestamp: 1645630428\n",
      "  timesteps_since_restore: 0\n",
      "  training_iteration: 1\n",
      "  trial_id: adc3b922\n",
      "  \n",
      "Result for lambda_adc3b91d:\n",
      "  date: 2022-02-23_07-33-48\n",
      "  done: false\n",
      "  experiment_id: e0b34741295e45ccb60b5556170c4709\n",
      "  hostname: airlabsgpu003\n",
      "  iterations_since_restore: 1\n",
      "  mean_accuracy: 0.162\n",
      "  node_ip: 10.185.170.23\n",
      "  pid: 57769\n",
      "  time_since_restore: 131.83560919761658\n",
      "  time_this_iter_s: 131.83560919761658\n",
      "  time_total_s: 131.83560919761658\n",
      "  timestamp: 1645630428\n",
      "  timesteps_since_restore: 0\n",
      "  training_iteration: 1\n",
      "  trial_id: adc3b91d\n",
      "  \n"
     ]
    },
    {
     "data": {
      "text/html": [
       "== Status ==<br>Memory usage on this node: 25.8/754.6 GiB<br>Using HyperBand: num_stopped=0 total_brackets=2\n",
       "Round #0:\n",
       "  Bracket(Max Size (n)=6, Milestone (r)=300, completed=0.2%): {RUNNING: 6} \n",
       "  Bracket(Max Size (n)=9, Milestone (r)=100, completed=0.1%): {PENDING: 1, RUNNING: 1} <br>Resources requested: 7.0/36 CPUs, 7.0/7 GPUs, 0.0/555.86 GiB heap, 0.0/186.26 GiB objects (0.0/1.0 accelerator_type:G)<br>Result logdir: /home/kk/cords-1/RayLogs/GradMatchPB-Warm/lambda_2022-02-23_07-31-32<br>Number of trials: 8/20 (1 PENDING, 7 RUNNING)<br><table>\n",
       "<thead>\n",
       "<tr><th>Trial name     </th><th>status  </th><th>loc                </th><th style=\"text-align: right;\">    gamma</th><th style=\"text-align: right;\">  learning_rate</th><th style=\"text-align: right;\">  learning_rate1</th><th style=\"text-align: right;\">  learning_rate2</th><th style=\"text-align: right;\">  learning_rate3</th><th>nesterov  </th><th>scheduler       </th><th style=\"text-align: right;\">   acc</th><th style=\"text-align: right;\">  iter</th><th style=\"text-align: right;\">  total time (s)</th></tr>\n",
       "</thead>\n",
       "<tbody>\n",
       "<tr><td>lambda_adc3b91c</td><td>RUNNING </td><td>10.185.170.23:57777</td><td style=\"text-align: right;\">0.0534229</td><td style=\"text-align: right;\">     0.00209626</td><td style=\"text-align: right;\">      0.00160822</td><td style=\"text-align: right;\">      0.00804886</td><td style=\"text-align: right;\">      0.00758509</td><td>True      </td><td>cosine_annealing</td><td style=\"text-align: right;\">0.2024</td><td style=\"text-align: right;\">     1</td><td style=\"text-align: right;\">         130.732</td></tr>\n",
       "<tr><td>lambda_adc3b91d</td><td>RUNNING </td><td>10.185.170.23:57769</td><td style=\"text-align: right;\">0.346234 </td><td style=\"text-align: right;\">     0.00108808</td><td style=\"text-align: right;\">      0.0074471 </td><td style=\"text-align: right;\">      0.00883177</td><td style=\"text-align: right;\">      0.00968488</td><td>True      </td><td>cosine_annealing</td><td style=\"text-align: right;\">0.162 </td><td style=\"text-align: right;\">     1</td><td style=\"text-align: right;\">         131.836</td></tr>\n",
       "<tr><td>lambda_adc3b91e</td><td>RUNNING </td><td>                   </td><td style=\"text-align: right;\">0.133558 </td><td style=\"text-align: right;\">     0.00682071</td><td style=\"text-align: right;\">      0.00830856</td><td style=\"text-align: right;\">      0.00413312</td><td style=\"text-align: right;\">      0.00992691</td><td>False     </td><td>cosine_annealing</td><td style=\"text-align: right;\">      </td><td style=\"text-align: right;\">      </td><td style=\"text-align: right;\">                </td></tr>\n",
       "<tr><td>lambda_adc3b91f</td><td>RUNNING </td><td>                   </td><td style=\"text-align: right;\">0.420442 </td><td style=\"text-align: right;\">     0.0043266 </td><td style=\"text-align: right;\">      0.00995842</td><td style=\"text-align: right;\">      0.00685197</td><td style=\"text-align: right;\">      0.00166082</td><td>True      </td><td>linear_decay    </td><td style=\"text-align: right;\">      </td><td style=\"text-align: right;\">      </td><td style=\"text-align: right;\">                </td></tr>\n",
       "<tr><td>lambda_adc3b920</td><td>RUNNING </td><td>10.185.170.23:57749</td><td style=\"text-align: right;\">0.480015 </td><td style=\"text-align: right;\">     0.00734749</td><td style=\"text-align: right;\">      0.00502661</td><td style=\"text-align: right;\">      0.00997895</td><td style=\"text-align: right;\">      0.00967184</td><td>False     </td><td>cosine_annealing</td><td style=\"text-align: right;\">0.166 </td><td style=\"text-align: right;\">     1</td><td style=\"text-align: right;\">         130.552</td></tr>\n",
       "<tr><td>lambda_adc3b921</td><td>RUNNING </td><td>10.185.170.23:57763</td><td style=\"text-align: right;\">0.424345 </td><td style=\"text-align: right;\">     0.00242506</td><td style=\"text-align: right;\">      0.00638801</td><td style=\"text-align: right;\">      0.00800052</td><td style=\"text-align: right;\">      0.00325679</td><td>False     </td><td>cosine_annealing</td><td style=\"text-align: right;\">0.171 </td><td style=\"text-align: right;\">     1</td><td style=\"text-align: right;\">         130.287</td></tr>\n",
       "<tr><td>lambda_adc3b922</td><td>RUNNING </td><td>10.185.170.23:57773</td><td style=\"text-align: right;\">0.392555 </td><td style=\"text-align: right;\">     0.00733178</td><td style=\"text-align: right;\">      0.00289016</td><td style=\"text-align: right;\">      0.00709749</td><td style=\"text-align: right;\">      0.00143959</td><td>True      </td><td>cosine_annealing</td><td style=\"text-align: right;\">0.2034</td><td style=\"text-align: right;\">     1</td><td style=\"text-align: right;\">         130.966</td></tr>\n",
       "<tr><td>lambda_adc3b923</td><td>PENDING </td><td>                   </td><td style=\"text-align: right;\">0.489559 </td><td style=\"text-align: right;\">     0.00542594</td><td style=\"text-align: right;\">      0.00246563</td><td style=\"text-align: right;\">      0.00788904</td><td style=\"text-align: right;\">      0.00507275</td><td>True      </td><td>cosine_annealing</td><td style=\"text-align: right;\">      </td><td style=\"text-align: right;\">      </td><td style=\"text-align: right;\">                </td></tr>\n",
       "</tbody>\n",
       "</table><br><br>"
      ],
      "text/plain": [
       "<IPython.core.display.HTML object>"
      ]
     },
     "metadata": {},
     "output_type": "display_data"
    },
    {
     "data": {
      "text/html": [
       "== Status ==<br>Memory usage on this node: 25.8/754.6 GiB<br>Using HyperBand: num_stopped=0 total_brackets=2\n",
       "Round #0:\n",
       "  Bracket(Max Size (n)=6, Milestone (r)=300, completed=0.2%): {RUNNING: 6} \n",
       "  Bracket(Max Size (n)=9, Milestone (r)=100, completed=0.1%): {PENDING: 1, RUNNING: 1} <br>Resources requested: 7.0/36 CPUs, 7.0/7 GPUs, 0.0/555.86 GiB heap, 0.0/186.26 GiB objects (0.0/1.0 accelerator_type:G)<br>Result logdir: /home/kk/cords-1/RayLogs/GradMatchPB-Warm/lambda_2022-02-23_07-31-32<br>Number of trials: 8/20 (1 PENDING, 7 RUNNING)<br><table>\n",
       "<thead>\n",
       "<tr><th>Trial name     </th><th>status  </th><th>loc                </th><th style=\"text-align: right;\">    gamma</th><th style=\"text-align: right;\">  learning_rate</th><th style=\"text-align: right;\">  learning_rate1</th><th style=\"text-align: right;\">  learning_rate2</th><th style=\"text-align: right;\">  learning_rate3</th><th>nesterov  </th><th>scheduler       </th><th style=\"text-align: right;\">   acc</th><th style=\"text-align: right;\">  iter</th><th style=\"text-align: right;\">  total time (s)</th></tr>\n",
       "</thead>\n",
       "<tbody>\n",
       "<tr><td>lambda_adc3b91c</td><td>RUNNING </td><td>10.185.170.23:57777</td><td style=\"text-align: right;\">0.0534229</td><td style=\"text-align: right;\">     0.00209626</td><td style=\"text-align: right;\">      0.00160822</td><td style=\"text-align: right;\">      0.00804886</td><td style=\"text-align: right;\">      0.00758509</td><td>True      </td><td>cosine_annealing</td><td style=\"text-align: right;\">0.2024</td><td style=\"text-align: right;\">     1</td><td style=\"text-align: right;\">         130.732</td></tr>\n",
       "<tr><td>lambda_adc3b91d</td><td>RUNNING </td><td>10.185.170.23:57769</td><td style=\"text-align: right;\">0.346234 </td><td style=\"text-align: right;\">     0.00108808</td><td style=\"text-align: right;\">      0.0074471 </td><td style=\"text-align: right;\">      0.00883177</td><td style=\"text-align: right;\">      0.00968488</td><td>True      </td><td>cosine_annealing</td><td style=\"text-align: right;\">0.162 </td><td style=\"text-align: right;\">     1</td><td style=\"text-align: right;\">         131.836</td></tr>\n",
       "<tr><td>lambda_adc3b91e</td><td>RUNNING </td><td>                   </td><td style=\"text-align: right;\">0.133558 </td><td style=\"text-align: right;\">     0.00682071</td><td style=\"text-align: right;\">      0.00830856</td><td style=\"text-align: right;\">      0.00413312</td><td style=\"text-align: right;\">      0.00992691</td><td>False     </td><td>cosine_annealing</td><td style=\"text-align: right;\">      </td><td style=\"text-align: right;\">      </td><td style=\"text-align: right;\">                </td></tr>\n",
       "<tr><td>lambda_adc3b91f</td><td>RUNNING </td><td>                   </td><td style=\"text-align: right;\">0.420442 </td><td style=\"text-align: right;\">     0.0043266 </td><td style=\"text-align: right;\">      0.00995842</td><td style=\"text-align: right;\">      0.00685197</td><td style=\"text-align: right;\">      0.00166082</td><td>True      </td><td>linear_decay    </td><td style=\"text-align: right;\">      </td><td style=\"text-align: right;\">      </td><td style=\"text-align: right;\">                </td></tr>\n",
       "<tr><td>lambda_adc3b920</td><td>RUNNING </td><td>10.185.170.23:57749</td><td style=\"text-align: right;\">0.480015 </td><td style=\"text-align: right;\">     0.00734749</td><td style=\"text-align: right;\">      0.00502661</td><td style=\"text-align: right;\">      0.00997895</td><td style=\"text-align: right;\">      0.00967184</td><td>False     </td><td>cosine_annealing</td><td style=\"text-align: right;\">0.166 </td><td style=\"text-align: right;\">     1</td><td style=\"text-align: right;\">         130.552</td></tr>\n",
       "<tr><td>lambda_adc3b921</td><td>RUNNING </td><td>10.185.170.23:57763</td><td style=\"text-align: right;\">0.424345 </td><td style=\"text-align: right;\">     0.00242506</td><td style=\"text-align: right;\">      0.00638801</td><td style=\"text-align: right;\">      0.00800052</td><td style=\"text-align: right;\">      0.00325679</td><td>False     </td><td>cosine_annealing</td><td style=\"text-align: right;\">0.171 </td><td style=\"text-align: right;\">     1</td><td style=\"text-align: right;\">         130.287</td></tr>\n",
       "<tr><td>lambda_adc3b922</td><td>RUNNING </td><td>10.185.170.23:57773</td><td style=\"text-align: right;\">0.392555 </td><td style=\"text-align: right;\">     0.00733178</td><td style=\"text-align: right;\">      0.00289016</td><td style=\"text-align: right;\">      0.00709749</td><td style=\"text-align: right;\">      0.00143959</td><td>True      </td><td>cosine_annealing</td><td style=\"text-align: right;\">0.2034</td><td style=\"text-align: right;\">     1</td><td style=\"text-align: right;\">         130.966</td></tr>\n",
       "<tr><td>lambda_adc3b923</td><td>PENDING </td><td>                   </td><td style=\"text-align: right;\">0.489559 </td><td style=\"text-align: right;\">     0.00542594</td><td style=\"text-align: right;\">      0.00246563</td><td style=\"text-align: right;\">      0.00788904</td><td style=\"text-align: right;\">      0.00507275</td><td>True      </td><td>cosine_annealing</td><td style=\"text-align: right;\">      </td><td style=\"text-align: right;\">      </td><td style=\"text-align: right;\">                </td></tr>\n",
       "</tbody>\n",
       "</table><br><br>"
      ],
      "text/plain": [
       "<IPython.core.display.HTML object>"
      ]
     },
     "metadata": {},
     "output_type": "display_data"
    },
    {
     "data": {
      "text/html": [
       "== Status ==<br>Memory usage on this node: 25.8/754.6 GiB<br>Using HyperBand: num_stopped=0 total_brackets=2\n",
       "Round #0:\n",
       "  Bracket(Max Size (n)=6, Milestone (r)=300, completed=0.2%): {RUNNING: 6} \n",
       "  Bracket(Max Size (n)=9, Milestone (r)=100, completed=0.1%): {PENDING: 1, RUNNING: 1} <br>Resources requested: 7.0/36 CPUs, 7.0/7 GPUs, 0.0/555.86 GiB heap, 0.0/186.26 GiB objects (0.0/1.0 accelerator_type:G)<br>Result logdir: /home/kk/cords-1/RayLogs/GradMatchPB-Warm/lambda_2022-02-23_07-31-32<br>Number of trials: 8/20 (1 PENDING, 7 RUNNING)<br><table>\n",
       "<thead>\n",
       "<tr><th>Trial name     </th><th>status  </th><th>loc                </th><th style=\"text-align: right;\">    gamma</th><th style=\"text-align: right;\">  learning_rate</th><th style=\"text-align: right;\">  learning_rate1</th><th style=\"text-align: right;\">  learning_rate2</th><th style=\"text-align: right;\">  learning_rate3</th><th>nesterov  </th><th>scheduler       </th><th style=\"text-align: right;\">   acc</th><th style=\"text-align: right;\">  iter</th><th style=\"text-align: right;\">  total time (s)</th></tr>\n",
       "</thead>\n",
       "<tbody>\n",
       "<tr><td>lambda_adc3b91c</td><td>RUNNING </td><td>10.185.170.23:57777</td><td style=\"text-align: right;\">0.0534229</td><td style=\"text-align: right;\">     0.00209626</td><td style=\"text-align: right;\">      0.00160822</td><td style=\"text-align: right;\">      0.00804886</td><td style=\"text-align: right;\">      0.00758509</td><td>True      </td><td>cosine_annealing</td><td style=\"text-align: right;\">0.2024</td><td style=\"text-align: right;\">     1</td><td style=\"text-align: right;\">         130.732</td></tr>\n",
       "<tr><td>lambda_adc3b91d</td><td>RUNNING </td><td>10.185.170.23:57769</td><td style=\"text-align: right;\">0.346234 </td><td style=\"text-align: right;\">     0.00108808</td><td style=\"text-align: right;\">      0.0074471 </td><td style=\"text-align: right;\">      0.00883177</td><td style=\"text-align: right;\">      0.00968488</td><td>True      </td><td>cosine_annealing</td><td style=\"text-align: right;\">0.162 </td><td style=\"text-align: right;\">     1</td><td style=\"text-align: right;\">         131.836</td></tr>\n",
       "<tr><td>lambda_adc3b91e</td><td>RUNNING </td><td>                   </td><td style=\"text-align: right;\">0.133558 </td><td style=\"text-align: right;\">     0.00682071</td><td style=\"text-align: right;\">      0.00830856</td><td style=\"text-align: right;\">      0.00413312</td><td style=\"text-align: right;\">      0.00992691</td><td>False     </td><td>cosine_annealing</td><td style=\"text-align: right;\">      </td><td style=\"text-align: right;\">      </td><td style=\"text-align: right;\">                </td></tr>\n",
       "<tr><td>lambda_adc3b91f</td><td>RUNNING </td><td>                   </td><td style=\"text-align: right;\">0.420442 </td><td style=\"text-align: right;\">     0.0043266 </td><td style=\"text-align: right;\">      0.00995842</td><td style=\"text-align: right;\">      0.00685197</td><td style=\"text-align: right;\">      0.00166082</td><td>True      </td><td>linear_decay    </td><td style=\"text-align: right;\">      </td><td style=\"text-align: right;\">      </td><td style=\"text-align: right;\">                </td></tr>\n",
       "<tr><td>lambda_adc3b920</td><td>RUNNING </td><td>10.185.170.23:57749</td><td style=\"text-align: right;\">0.480015 </td><td style=\"text-align: right;\">     0.00734749</td><td style=\"text-align: right;\">      0.00502661</td><td style=\"text-align: right;\">      0.00997895</td><td style=\"text-align: right;\">      0.00967184</td><td>False     </td><td>cosine_annealing</td><td style=\"text-align: right;\">0.166 </td><td style=\"text-align: right;\">     1</td><td style=\"text-align: right;\">         130.552</td></tr>\n",
       "<tr><td>lambda_adc3b921</td><td>RUNNING </td><td>10.185.170.23:57763</td><td style=\"text-align: right;\">0.424345 </td><td style=\"text-align: right;\">     0.00242506</td><td style=\"text-align: right;\">      0.00638801</td><td style=\"text-align: right;\">      0.00800052</td><td style=\"text-align: right;\">      0.00325679</td><td>False     </td><td>cosine_annealing</td><td style=\"text-align: right;\">0.171 </td><td style=\"text-align: right;\">     1</td><td style=\"text-align: right;\">         130.287</td></tr>\n",
       "<tr><td>lambda_adc3b922</td><td>RUNNING </td><td>10.185.170.23:57773</td><td style=\"text-align: right;\">0.392555 </td><td style=\"text-align: right;\">     0.00733178</td><td style=\"text-align: right;\">      0.00289016</td><td style=\"text-align: right;\">      0.00709749</td><td style=\"text-align: right;\">      0.00143959</td><td>True      </td><td>cosine_annealing</td><td style=\"text-align: right;\">0.2034</td><td style=\"text-align: right;\">     1</td><td style=\"text-align: right;\">         130.966</td></tr>\n",
       "<tr><td>lambda_adc3b923</td><td>PENDING </td><td>                   </td><td style=\"text-align: right;\">0.489559 </td><td style=\"text-align: right;\">     0.00542594</td><td style=\"text-align: right;\">      0.00246563</td><td style=\"text-align: right;\">      0.00788904</td><td style=\"text-align: right;\">      0.00507275</td><td>True      </td><td>cosine_annealing</td><td style=\"text-align: right;\">      </td><td style=\"text-align: right;\">      </td><td style=\"text-align: right;\">                </td></tr>\n",
       "</tbody>\n",
       "</table><br><br>"
      ],
      "text/plain": [
       "<IPython.core.display.HTML object>"
      ]
     },
     "metadata": {},
     "output_type": "display_data"
    }
   ],
   "source": [
    "param_tune_function = lambda config: param_tune(train_cfg, train_class, config)\n",
    "analysis = tune.run(\n",
    "          param_tune_function,\n",
    "          num_samples=param_tuning_cfg.num_evals,\n",
    "          search_alg=search,\n",
    "          scheduler=scheduler,\n",
    "          resources_per_trial=param_tuning_cfg.resources,\n",
    "          local_dir=param_tuning_cfg.log_dir+train_cfg.dss_args.type+'/',\n",
    "          log_to_file=True,\n",
    "          name=param_tuning_cfg.name,\n",
    "          resume=param_tuning_cfg.resume)"
   ]
  },
  {
   "cell_type": "markdown",
   "metadata": {
    "id": "pGae8uBLu588"
   },
   "source": [
    "### Get best hyper-parameter configuration"
   ]
  },
  {
   "cell_type": "code",
   "execution_count": null,
   "metadata": {
    "id": "kLFc7plxu9fl"
   },
   "outputs": [],
   "source": [
    "best_config = analysis.get_best_config(metric=param_tuning_cfg.metric, mode=param_tuning_cfg.mode)\n",
    "print(\"Best Config: \", best_config)"
   ]
  },
  {
   "cell_type": "code",
   "execution_count": null,
   "metadata": {},
   "outputs": [],
   "source": []
  }
 ],
 "metadata": {
  "accelerator": "GPU",
  "colab": {
   "collapsed_sections": [],
   "machine_shape": "hm",
   "name": "CORDS_SL_CIFAR10_HPO_ASHA_Example.ipynb",
   "provenance": []
  },
  "kernelspec": {
   "display_name": "Python 3 (ipykernel)",
   "language": "python",
   "name": "python3"
  },
  "language_info": {
   "codemirror_mode": {
    "name": "ipython",
    "version": 3
   },
   "file_extension": ".py",
   "mimetype": "text/x-python",
   "name": "python",
   "nbconvert_exporter": "python",
   "pygments_lexer": "ipython3",
   "version": "3.7.11"
  }
 },
 "nbformat": 4,
 "nbformat_minor": 1
}

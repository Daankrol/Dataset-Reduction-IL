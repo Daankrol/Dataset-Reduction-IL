{
 "cells": [
  {
   "cell_type": "code",
   "execution_count": null,
   "metadata": {
    "colab": {
     "base_uri": "https://localhost:8080/"
    },
    "executionInfo": {
     "elapsed": 5881,
     "status": "ok",
     "timestamp": 1631726426843,
     "user": {
      "displayName": "Ping Zhang",
      "photoUrl": "https://lh3.googleusercontent.com/a/default-user=s64",
      "userId": "08155392950026543874"
     },
     "user_tz": 300
    },
    "id": "4a-Wu7ziXVRm",
    "outputId": "e76eeba5-7209-43f2-ace1-b43bcfa81549"
   },
   "outputs": [],
   "source": [
    "!python -m pip install apricot-select"
   ]
  },
  {
   "cell_type": "code",
   "execution_count": null,
   "metadata": {},
   "outputs": [],
   "source": [
    "import os\n",
    "print(os.getcwd())\n",
    "import sys\n",
    "sys.path.append(\"..\")"
   ]
  },
  {
   "cell_type": "code",
   "execution_count": 1,
   "metadata": {},
   "outputs": [
    {
     "name": "stdout",
     "output_type": "stream",
     "text": [
      "/Users/ping/Google Drive/cords\n"
     ]
    }
   ],
   "source": [
    "%pwd\n",
    "%cd /Users/ping/Google Drive/cords/"
   ]
  },
  {
   "cell_type": "code",
   "execution_count": 2,
   "metadata": {
    "colab": {
     "base_uri": "https://localhost:8080/"
    },
    "executionInfo": {
     "elapsed": 21660,
     "status": "ok",
     "timestamp": 1631726451543,
     "user": {
      "displayName": "Ping Zhang",
      "photoUrl": "https://lh3.googleusercontent.com/a/default-user=s64",
      "userId": "08155392950026543874"
     },
     "user_tz": 300
    },
    "id": "Kzy72dFfSxAb",
    "outputId": "8a6d993b-a496-4965-f958-822ddf305715",
    "pycharm": {
     "name": "#%%\n"
    }
   },
   "outputs": [],
   "source": [
    "from train import TrainClassifier"
   ]
  },
  {
   "cell_type": "code",
   "execution_count": 3,
   "metadata": {},
   "outputs": [],
   "source": [
    "# file: data/corona.pickle, vocab_size: 104590, n_classes: 5\n",
    "# file: data/news.pickle, vocab_size: 176230, n_classes: 2\n",
    "# file: data/twitter.pickle, vocab_size: 50233, n_classes: 4"
   ]
  },
  {
   "cell_type": "code",
   "execution_count": 4,
   "metadata": {},
   "outputs": [
    {
     "name": "stdout",
     "output_type": "stream",
     "text": [
      "Budget, fraction and N: 3146 0.1 31468\n"
     ]
    },
    {
     "ename": "AssertionError",
     "evalue": "Torch not compiled with CUDA enabled",
     "output_type": "error",
     "traceback": [
      "\u001b[0;31m---------------------------------------------------------------------------\u001b[0m",
      "\u001b[0;31mAssertionError\u001b[0m                            Traceback (most recent call last)",
      "\u001b[0;32m/var/folders/mv/nwttw96100bcfz0clkfsg2x80000gn/T/ipykernel_53876/2772262290.py\u001b[0m in \u001b[0;36m<module>\u001b[0;34m\u001b[0m\n\u001b[1;32m     10\u001b[0m \u001b[0mclassifier_corona\u001b[0m\u001b[0;34m.\u001b[0m\u001b[0mconfigdata\u001b[0m\u001b[0;34m[\u001b[0m\u001b[0;34m\"model\"\u001b[0m\u001b[0;34m]\u001b[0m\u001b[0;34m[\u001b[0m\u001b[0;34m\"vocab_size\"\u001b[0m\u001b[0;34m]\u001b[0m \u001b[0;34m=\u001b[0m \u001b[0;36m104590\u001b[0m\u001b[0;34m\u001b[0m\u001b[0;34m\u001b[0m\u001b[0m\n\u001b[1;32m     11\u001b[0m \u001b[0mclassifier_corona\u001b[0m\u001b[0;34m.\u001b[0m\u001b[0mconfigdata\u001b[0m\u001b[0;34m[\u001b[0m\u001b[0;34m\"model\"\u001b[0m\u001b[0;34m]\u001b[0m\u001b[0;34m[\u001b[0m\u001b[0;34m\"numclasses\"\u001b[0m\u001b[0;34m]\u001b[0m \u001b[0;34m=\u001b[0m \u001b[0;36m5\u001b[0m\u001b[0;34m\u001b[0m\u001b[0;34m\u001b[0m\u001b[0m\n\u001b[0;32m---> 12\u001b[0;31m \u001b[0mclassifier_corona\u001b[0m\u001b[0;34m.\u001b[0m\u001b[0mtrain\u001b[0m\u001b[0;34m(\u001b[0m\u001b[0;34m)\u001b[0m\u001b[0;34m\u001b[0m\u001b[0;34m\u001b[0m\u001b[0m\n\u001b[0m\u001b[1;32m     13\u001b[0m \u001b[0;34m\u001b[0m\u001b[0m\n\u001b[1;32m     14\u001b[0m \u001b[0;31m# news\u001b[0m\u001b[0;34m\u001b[0m\u001b[0;34m\u001b[0m\u001b[0;34m\u001b[0m\u001b[0m\n",
      "\u001b[0;32m~/Google Drive/cords/train.py\u001b[0m in \u001b[0;36mtrain\u001b[0;34m(self)\u001b[0m\n\u001b[1;32m    158\u001b[0m \u001b[0;34m\u001b[0m\u001b[0m\n\u001b[1;32m    159\u001b[0m         \u001b[0;31m# Variables to store accuracies\u001b[0m\u001b[0;34m\u001b[0m\u001b[0;34m\u001b[0m\u001b[0;34m\u001b[0m\u001b[0m\n\u001b[0;32m--> 160\u001b[0;31m         \u001b[0mgammas\u001b[0m \u001b[0;34m=\u001b[0m \u001b[0mtorch\u001b[0m\u001b[0;34m.\u001b[0m\u001b[0mones\u001b[0m\u001b[0;34m(\u001b[0m\u001b[0mlen\u001b[0m\u001b[0;34m(\u001b[0m\u001b[0midxs\u001b[0m\u001b[0;34m)\u001b[0m\u001b[0;34m)\u001b[0m\u001b[0;34m.\u001b[0m\u001b[0mto\u001b[0m\u001b[0;34m(\u001b[0m\u001b[0mself\u001b[0m\u001b[0;34m.\u001b[0m\u001b[0mconfigdata\u001b[0m\u001b[0;34m[\u001b[0m\u001b[0;34m'train_args'\u001b[0m\u001b[0;34m]\u001b[0m\u001b[0;34m[\u001b[0m\u001b[0;34m'device'\u001b[0m\u001b[0;34m]\u001b[0m\u001b[0;34m)\u001b[0m\u001b[0;34m\u001b[0m\u001b[0;34m\u001b[0m\u001b[0m\n\u001b[0m\u001b[1;32m    161\u001b[0m         \u001b[0msubstrn_losses\u001b[0m \u001b[0;34m=\u001b[0m \u001b[0mlist\u001b[0m\u001b[0;34m(\u001b[0m\u001b[0;34m)\u001b[0m \u001b[0;31m#np.zeros(configdata['train_args']['num_epochs'])\u001b[0m\u001b[0;34m\u001b[0m\u001b[0;34m\u001b[0m\u001b[0m\n\u001b[1;32m    162\u001b[0m         \u001b[0mtrn_losses\u001b[0m \u001b[0;34m=\u001b[0m \u001b[0mlist\u001b[0m\u001b[0;34m(\u001b[0m\u001b[0;34m)\u001b[0m\u001b[0;34m\u001b[0m\u001b[0;34m\u001b[0m\u001b[0m\n",
      "\u001b[0;32m/usr/local/lib/python3.9/site-packages/torch/cuda/__init__.py\u001b[0m in \u001b[0;36m_lazy_init\u001b[0;34m()\u001b[0m\n\u001b[1;32m    164\u001b[0m                 \"multiprocessing, you must use the 'spawn' start method\")\n\u001b[1;32m    165\u001b[0m         \u001b[0;32mif\u001b[0m \u001b[0;32mnot\u001b[0m \u001b[0mhasattr\u001b[0m\u001b[0;34m(\u001b[0m\u001b[0mtorch\u001b[0m\u001b[0;34m.\u001b[0m\u001b[0m_C\u001b[0m\u001b[0;34m,\u001b[0m \u001b[0;34m'_cuda_getDeviceCount'\u001b[0m\u001b[0;34m)\u001b[0m\u001b[0;34m:\u001b[0m\u001b[0;34m\u001b[0m\u001b[0;34m\u001b[0m\u001b[0m\n\u001b[0;32m--> 166\u001b[0;31m             \u001b[0;32mraise\u001b[0m \u001b[0mAssertionError\u001b[0m\u001b[0;34m(\u001b[0m\u001b[0;34m\"Torch not compiled with CUDA enabled\"\u001b[0m\u001b[0;34m)\u001b[0m\u001b[0;34m\u001b[0m\u001b[0;34m\u001b[0m\u001b[0m\n\u001b[0m\u001b[1;32m    167\u001b[0m         \u001b[0;32mif\u001b[0m \u001b[0m_cudart\u001b[0m \u001b[0;32mis\u001b[0m \u001b[0;32mNone\u001b[0m\u001b[0;34m:\u001b[0m\u001b[0;34m\u001b[0m\u001b[0;34m\u001b[0m\u001b[0m\n\u001b[1;32m    168\u001b[0m             raise AssertionError(\n",
      "\u001b[0;31mAssertionError\u001b[0m: Torch not compiled with CUDA enabled"
     ]
    }
   ],
   "source": [
    "# GLISTER\n",
    "config_file = \"configs/config_nlp.py\"\n",
    "\n",
    "# corona\n",
    "classifier_corona = TrainClassifier(config_file)\n",
    "classifier_corona.configdata[\"dataset\"][\"name\"] = \"corona\"\n",
    "classifier_corona.configdata[\"dss_strategy\"][\"type\"] = \"GLISTER\"\n",
    "classifier_corona.configdata[\"dss_strategy\"][\"fraction\"] = 0.1\n",
    "classifier_corona.configdata[\"dss_strategy\"][\"select_every\"] = 20\n",
    "classifier_corona.configdata[\"model\"][\"vocab_size\"] = 104590\n",
    "classifier_corona.configdata[\"model\"][\"numclasses\"] = 5\n",
    "classifier_corona.train()\n",
    "\n",
    "# news\n",
    "classifier_news = TrainClassifier(config_file)\n",
    "classifier_news.configdata[\"dataset\"][\"name\"] = \"news\"\n",
    "classifier_news.configdata[\"dss_strategy\"][\"type\"] = \"GLISTER\"\n",
    "classifier_news.configdata[\"dss_strategy\"][\"fraction\"] = 0.1\n",
    "classifier_news.configdata[\"dss_strategy\"][\"select_every\"] = 20\n",
    "classifier_news.configdata[\"model\"][\"vocab_size\"] = 176230\n",
    "classifier_news.configdata[\"model\"][\"numclasses\"] = 2\n",
    "classifier_news.train()\n",
    "\n",
    "# twitter\n",
    "classifier_twitter = TrainClassifier(config_file)\n",
    "classifier_twitter.configdata[\"dataset\"][\"name\"] = \"twitter\"\n",
    "classifier_twitter.configdata[\"dss_strategy\"][\"type\"] = \"GLISTER\"\n",
    "classifier_twitter.configdata[\"dss_strategy\"][\"fraction\"] = 0.1\n",
    "classifier_twitter.configdata[\"dss_strategy\"][\"select_every\"] = 20\n",
    "classifier_twitter.configdata[\"model\"][\"vocab_size\"] = 50233\n",
    "classifier_twitter.configdata[\"model\"][\"numclasses\"] = 4\n",
    "classifier_twitter.train()"
   ]
  },
  {
   "cell_type": "code",
   "execution_count": null,
   "metadata": {},
   "outputs": [],
   "source": [
    "# GLISTER-Warm\n",
    "config_file = \"configs/config_nlp.py\"\n",
    "\n",
    "# corona\n",
    "classifier_corona = TrainClassifier(config_file)\n",
    "classifier_corona.configdata[\"dataset\"][\"name\"] = \"corona\"\n",
    "classifier_corona.configdata[\"dss_strategy\"][\"type\"] = \"GLISTER-Warm\"\n",
    "classifier_corona.configdata[\"dss_strategy\"][\"fraction\"] = 0.1\n",
    "classifier_corona.configdata[\"dss_strategy\"][\"select_every\"] = 20\n",
    "classifier_corona.configdata[\"dss_strategy\"][\"kappa\"] = 0.6\n",
    "classifier_corona.configdata[\"model\"][\"vocab_size\"] = 104590\n",
    "classifier_corona.configdata[\"model\"][\"numclasses\"] = 5\n",
    "classifier_corona.train()\n",
    "\n",
    "# news\n",
    "classifier_news = TrainClassifier(config_file)\n",
    "classifier_news.configdata[\"dataset\"][\"name\"] = \"news\"\n",
    "classifier_news.configdata[\"dss_strategy\"][\"type\"] = \"GLISTER-Warm\"\n",
    "classifier_news.configdata[\"dss_strategy\"][\"fraction\"] = 0.1\n",
    "classifier_news.configdata[\"dss_strategy\"][\"select_every\"] = 20\n",
    "classifier_news.configdata[\"dss_strategy\"][\"kappa\"] = 0.6\n",
    "classifier_news.configdata[\"model\"][\"vocab_size\"] = 176230\n",
    "classifier_news.configdata[\"model\"][\"numclasses\"] = 2\n",
    "classifier_news.train()\n",
    "\n",
    "# twitter\n",
    "classifier_twitter = TrainClassifier(config_file)\n",
    "classifier_twitter.configdata[\"dataset\"][\"name\"] = \"twitter\"\n",
    "classifier_twitter.configdata[\"dss_strategy\"][\"type\"] = \"GLISTER-Warm\"\n",
    "classifier_twitter.configdata[\"dss_strategy\"][\"fraction\"] = 0.1\n",
    "classifier_twitter.configdata[\"dss_strategy\"][\"select_every\"] = 20\n",
    "classifier_twitter.configdata[\"dss_strategy\"][\"kappa\"] = 0.6\n",
    "classifier_twitter.configdata[\"model\"][\"vocab_size\"] = 50233\n",
    "classifier_twitter.configdata[\"model\"][\"numclasses\"] = 4\n",
    "classifier_twitter.train()"
   ]
  },
  {
   "cell_type": "code",
   "execution_count": null,
   "metadata": {},
   "outputs": [],
   "source": [
    "# Random-ol\n",
    "config_file = \"configs/config_nlp.py\"\n",
    "\n",
    "# corona\n",
    "classifier_corona = TrainClassifier(config_file)\n",
    "classifier_corona.configdata[\"dataset\"][\"name\"] = \"corona\"\n",
    "classifier_corona.configdata[\"dss_strategy\"][\"type\"] = \"Random-Online\"\n",
    "classifier_corona.configdata[\"dss_strategy\"][\"fraction\"] = 0.1\n",
    "classifier_corona.configdata[\"dss_strategy\"][\"select_every\"] = 20\n",
    "classifier_corona.configdata[\"model\"][\"vocab_size\"] = 104590\n",
    "classifier_corona.configdata[\"model\"][\"numclasses\"] = 5\n",
    "classifier_corona.train()\n",
    "\n",
    "# news\n",
    "classifier_news = TrainClassifier(config_file)\n",
    "classifier_news.configdata[\"dataset\"][\"name\"] = \"news\"\n",
    "classifier_news.configdata[\"dss_strategy\"][\"type\"] = \"Random-Online\"\n",
    "classifier_news.configdata[\"dss_strategy\"][\"fraction\"] = 0.1\n",
    "classifier_news.configdata[\"dss_strategy\"][\"select_every\"] = 20\n",
    "classifier_news.configdata[\"model\"][\"vocab_size\"] = 176230\n",
    "classifier_news.configdata[\"model\"][\"numclasses\"] = 2\n",
    "classifier_news.train()\n",
    "\n",
    "# twitter\n",
    "classifier_twitter = TrainClassifier(config_file)\n",
    "classifier_twitter.configdata[\"dataset\"][\"name\"] = \"twitter\"\n",
    "classifier_twitter.configdata[\"dss_strategy\"][\"type\"] = \"Random-Online\"\n",
    "classifier_twitter.configdata[\"dss_strategy\"][\"fraction\"] = 0.1\n",
    "classifier_twitter.configdata[\"dss_strategy\"][\"select_every\"] = 20\n",
    "classifier_twitter.configdata[\"model\"][\"vocab_size\"] = 50233\n",
    "classifier_twitter.configdata[\"model\"][\"numclasses\"] = 4\n",
    "classifier_twitter.train()"
   ]
  }
 ],
 "metadata": {
  "accelerator": "GPU",
  "colab": {
   "collapsed_sections": [],
   "name": "CORDS_benchmark.ipynb",
   "provenance": []
  },
  "kernelspec": {
   "display_name": "Python 3 (ipykernel)",
   "language": "python",
   "name": "python3"
  },
  "language_info": {
   "codemirror_mode": {
    "name": "ipython",
    "version": 3
   },
   "file_extension": ".py",
   "mimetype": "text/x-python",
   "name": "python",
   "nbconvert_exporter": "python",
   "pygments_lexer": "ipython3",
   "version": "3.9.6"
  },
  "pycharm": {
   "stem_cell": {
    "cell_type": "raw",
    "metadata": {
     "collapsed": false
    },
    "source": []
   }
  }
 },
 "nbformat": 4,
 "nbformat_minor": 1
}

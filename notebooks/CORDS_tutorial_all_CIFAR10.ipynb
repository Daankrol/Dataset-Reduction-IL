{
  "nbformat": 4,
  "nbformat_minor": 0,
  "metadata": {
    "accelerator": "GPU",
    "colab": {
      "name": "CORDS_tutorial_all_CIFAR10.ipynb",
      "provenance": [],
      "collapsed_sections": [],
      "toc_visible": true,
      "machine_shape": "hm"
    },
    "kernelspec": {
      "display_name": "Python 3",
      "name": "python3"
    }
  },
  "cells": [
    {
      "cell_type": "markdown",
      "metadata": {
        "id": "P8puZHLO_nvG"
      },
      "source": [
        "Displaying GPU and CPU devices"
      ]
    },
    {
      "cell_type": "code",
      "metadata": {
        "id": "wbgZEZfYXZOF"
      },
      "source": [
        "from tensorflow.python.client import device_lib\n",
        "device_lib.list_local_devices()"
      ],
      "execution_count": null,
      "outputs": []
    },
    {
      "cell_type": "markdown",
      "metadata": {
        "id": "J1IlBz9p_r5Y"
      },
      "source": [
        "Cloning CORDS repository"
      ]
    },
    {
      "cell_type": "code",
      "metadata": {
        "id": "vguhp80xXfS8"
      },
      "source": [
        "from google.colab import drive\n",
        "drive.mount('/content/drive')\n",
        "#%cd /content/drive/My Drive/\n",
        "!git clone https://github.com/decile-team/cords.git\n",
        "%cd cords/\n",
        "%ls"
      ],
      "execution_count": null,
      "outputs": []
    },
    {
      "cell_type": "markdown",
      "metadata": {
        "id": "ZTIC_JK0_gOj"
      },
      "source": [
        "Installing pre-requisite libraries"
      ]
    },
    {
      "cell_type": "code",
      "metadata": {
        "id": "pWTtMvsphAY8"
      },
      "source": [
        "!pip install apricot-select\n",
        "!pip install ray[tune]"
      ],
      "execution_count": null,
      "outputs": []
    },
    {
      "cell_type": "code",
      "metadata": {
        "id": "p4fP1v7SZVYY"
      },
      "source": [
        "from train import TrainClassifier"
      ],
      "execution_count": null,
      "outputs": []
    },
    {
      "cell_type": "markdown",
      "metadata": {
        "id": "w1a5rz_e6fXm"
      },
      "source": [
        "#Subset Selection and Training arguments\n",
        "\n",
        "\n",
        "1.   fraction - Percentage of data used for training\n",
        "2.   dataset_name - Name of the Dataset\n",
        "3.   numclasses - Number of target classes in the dataset\n",
        "4.   model_name - Network architecture used for training\n",
        "5.   num_epochs - Number of epochs to train the model\n",
        "6.   print_every - Print every N epochs\n",
        "7.   results_dir - Output log directory\n",
        "8.   select_every - Subset selection every N epochs\n",
        "\n",
        "To get a complete list of configurable parameters, check out the following link.\n",
        "\n"
      ]
    },
    {
      "cell_type": "code",
      "metadata": {
        "id": "eHSz0hNfpyUW"
      },
      "source": [
        "fraction=0.05\n",
        "dataset_name = 'cifar10'\n",
        "numclasses = 10\n",
        "model_name = 'ResNet18'\n",
        "num_epochs = 300\n",
        "print_every = 10\n",
        "results_dir = \"/content/drive/MyDrive/results/\"\n",
        "select_every = 10\n"
      ],
      "execution_count": null,
      "outputs": []
    },
    {
      "cell_type": "markdown",
      "metadata": {
        "id": "sZNEugY7osMr"
      },
      "source": [
        "#GradMatch Training"
      ]
    },
    {
      "cell_type": "markdown",
      "metadata": {
        "id": "F-99istC7D4h"
      },
      "source": [
        "Loading GradMatch config file and instantiating the training classifier object"
      ]
    },
    {
      "cell_type": "code",
      "metadata": {
        "id": "omTctDpXor4n"
      },
      "source": [
        "gradmatch_config_file = \"configs/config_gradmatch_cifar10.py\"\n",
        "gradmatch_trn = TrainClassifier(gradmatch_config_file)"
      ],
      "execution_count": null,
      "outputs": []
    },
    {
      "cell_type": "markdown",
      "metadata": {
        "id": "xNYqh77e7Hh4"
      },
      "source": [
        "Dynamically changing the default configuration parameters\n",
        "\n"
      ]
    },
    {
      "cell_type": "code",
      "metadata": {
        "id": "OaNV8vvGwDDK"
      },
      "source": [
        "gradmatch_trn.configdata[\"train_args\"][\"num_epochs\"] = num_epochs\n",
        "gradmatch_trn.configdata[\"train_args\"][\"print_every\"] = print_every\n",
        "gradmatch_trn.configdata[\"train_args\"][\"results_dir\"] = results_dir\n",
        "gradmatch_trn.configdata[\"dss_strategy\"][\"select_every\"] = select_every\n",
        "gradmatch_trn.configdata[\"dss_strategy\"][\"fraction\"] = fraction\n",
        "gradmatch_trn.configdata[\"model\"][\"architecture\"] = model_name\n",
        "gradmatch_trn.configdata[\"model\"][\"numclasses\"] = numclasses\n",
        "gradmatch_trn.configdata[\"dataset\"][\"name\"] = dataset_name"
      ],
      "execution_count": null,
      "outputs": []
    },
    {
      "cell_type": "markdown",
      "metadata": {
        "id": "PF-7AMNH9do1"
      },
      "source": [
        "Starting GradMatch training"
      ]
    },
    {
      "cell_type": "code",
      "metadata": {
        "id": "hfPqpH2xon13"
      },
      "source": [
        "gradmatch_trn.train()"
      ],
      "execution_count": null,
      "outputs": []
    },
    {
      "cell_type": "markdown",
      "metadata": {
        "id": "TYz7SVHyhK92"
      },
      "source": [
        "#GradMatchPB Training"
      ]
    },
    {
      "cell_type": "markdown",
      "metadata": {
        "id": "Gw0mKaL5AoX-"
      },
      "source": [
        "Loading GradMatchPB config file and instantiating the training classifier object"
      ]
    },
    {
      "cell_type": "code",
      "metadata": {
        "id": "EYLph9V_ZW3f"
      },
      "source": [
        "gradmatchpb_config_file = \"configs/config_gradmatchpb_cifar10.py\"\n",
        "gradmatchpb_trn = TrainClassifier(gradmatchpb_config_file)"
      ],
      "execution_count": null,
      "outputs": []
    },
    {
      "cell_type": "markdown",
      "metadata": {
        "id": "13nzwe7N_1WI"
      },
      "source": [
        "Dynamically changing the default configuration parameters\n",
        "\n"
      ]
    },
    {
      "cell_type": "code",
      "metadata": {
        "id": "a4z1wT0JvZO9"
      },
      "source": [
        "gradmatchpb_trn.configdata[\"train_args\"][\"num_epochs\"] = num_epochs\n",
        "gradmatchpb_trn.configdata[\"train_args\"][\"print_every\"] = print_every\n",
        "gradmatchpb_trn.configdata[\"train_args\"][\"results_dir\"] = results_dir\n",
        "gradmatchpb_trn.configdata[\"dss_strategy\"][\"select_every\"] = select_every\n",
        "gradmatchpb_trn.configdata[\"dss_strategy\"][\"fraction\"] = fraction\n",
        "gradmatchpb_trn.configdata[\"model\"][\"architecture\"] = model_name\n",
        "gradmatchpb_trn.configdata[\"model\"][\"numclasses\"] = numclasses\n",
        "gradmatchpb_trn.configdata[\"dataset\"][\"name\"] = dataset_name"
      ],
      "execution_count": null,
      "outputs": []
    },
    {
      "cell_type": "markdown",
      "metadata": {
        "id": "fF3IjlXJAqto"
      },
      "source": [
        "Starting GradMatchPB training"
      ]
    },
    {
      "cell_type": "code",
      "metadata": {
        "id": "ZRtQze0YghNv"
      },
      "source": [
        "gradmatchpb_trn.train()"
      ],
      "execution_count": null,
      "outputs": []
    },
    {
      "cell_type": "markdown",
      "metadata": {
        "id": "arNHutXQklSi"
      },
      "source": [
        "#GradMatchPB-Warm Training\n"
      ]
    },
    {
      "cell_type": "markdown",
      "metadata": {
        "id": "L_1i_gNpAvbX"
      },
      "source": [
        "Loading GradMatchPB-Warm config file and instantiating the training classifier object"
      ]
    },
    {
      "cell_type": "code",
      "metadata": {
        "id": "vPGGWUpDkk8X"
      },
      "source": [
        "gradmatchpb_warm_config_file = \"configs/config_gradmatchpb-warm_cifar10.py\"\n",
        "gradmatchpb_warm_trn = TrainClassifier(gradmatchpb_warm_config_file)"
      ],
      "execution_count": null,
      "outputs": []
    },
    {
      "cell_type": "markdown",
      "metadata": {
        "id": "KnaUO064_2fo"
      },
      "source": [
        "Dynamically changing the default configuration parameters\n",
        "\n"
      ]
    },
    {
      "cell_type": "code",
      "metadata": {
        "id": "zPSYkd1Kv8F0"
      },
      "source": [
        "gradmatchpb_warm_trn.configdata[\"train_args\"][\"num_epochs\"] = num_epochs\n",
        "gradmatchpb_warm_trn.configdata[\"train_args\"][\"print_every\"] = print_every\n",
        "gradmatchpb_warm_trn.configdata[\"train_args\"][\"results_dir\"] = results_dir\n",
        "gradmatchpb_warm_trn.configdata[\"dss_strategy\"][\"select_every\"] = select_every\n",
        "gradmatchpb_warm_trn.configdata[\"dss_strategy\"][\"fraction\"] = fraction\n",
        "gradmatchpb_warm_trn.configdata[\"model\"][\"architecture\"] = model_name\n",
        "gradmatchpb_warm_trn.configdata[\"model\"][\"numclasses\"] = numclasses\n",
        "gradmatchpb_warm_trn.configdata[\"dataset\"][\"name\"] = dataset_name"
      ],
      "execution_count": null,
      "outputs": []
    },
    {
      "cell_type": "markdown",
      "metadata": {
        "id": "ef6DjnalAzOT"
      },
      "source": [
        "Starting GradMatchPB-Warm training"
      ]
    },
    {
      "cell_type": "code",
      "metadata": {
        "id": "IFMP0bDbooho"
      },
      "source": [
        "gradmatchpb_warm_trn.train()"
      ],
      "execution_count": null,
      "outputs": []
    },
    {
      "cell_type": "markdown",
      "metadata": {
        "id": "sU6KFh7fo42R"
      },
      "source": [
        "#GradMatch-Warm Training"
      ]
    },
    {
      "cell_type": "markdown",
      "metadata": {
        "id": "WAFLYMNrA3C-"
      },
      "source": [
        "Loading GradMatch-Warm config file and instantiating the training classifier object"
      ]
    },
    {
      "cell_type": "code",
      "metadata": {
        "id": "jak4UuRQo9aj"
      },
      "source": [
        "gradmatch_warm_config_file = \"configs/config_gradmatch-warm_cifar10.py\"\n",
        "gradmatch_warm_trn = TrainClassifier(gradmatch_warm_config_file)"
      ],
      "execution_count": null,
      "outputs": []
    },
    {
      "cell_type": "markdown",
      "metadata": {
        "id": "7lLlzwz5_3H9"
      },
      "source": [
        "Dynamically changing the default configuration parameters\n",
        "\n"
      ]
    },
    {
      "cell_type": "code",
      "metadata": {
        "id": "rig-zNdlwGKX"
      },
      "source": [
        "gradmatch_warm_trn.configdata[\"train_args\"][\"num_epochs\"] = num_epochs\n",
        "gradmatch_warm_trn.configdata[\"train_args\"][\"print_every\"] = print_every\n",
        "gradmatch_warm_trn.configdata[\"train_args\"][\"results_dir\"] = results_dir\n",
        "gradmatch_warm_trn.configdata[\"dss_strategy\"][\"select_every\"] = select_every\n",
        "gradmatch_warm_trn.configdata[\"dss_strategy\"][\"fraction\"] = fraction\n",
        "gradmatch_warm_trn.configdata[\"model\"][\"architecture\"] = model_name\n",
        "gradmatch_warm_trn.configdata[\"model\"][\"numclasses\"] = numclasses\n",
        "gradmatch_warm_trn.configdata[\"dataset\"][\"name\"] = dataset_name"
      ],
      "execution_count": null,
      "outputs": []
    },
    {
      "cell_type": "markdown",
      "metadata": {
        "id": "i15-dHxBA5SO"
      },
      "source": [
        "Starting GradMatch-Warm training"
      ]
    },
    {
      "cell_type": "code",
      "metadata": {
        "id": "yJAFoVAPo8_u"
      },
      "source": [
        "gradmatch_warm_trn.train()"
      ],
      "execution_count": null,
      "outputs": []
    },
    {
      "cell_type": "markdown",
      "metadata": {
        "id": "YGkY67EqqDxW"
      },
      "source": [
        "#CRAIG Training"
      ]
    },
    {
      "cell_type": "markdown",
      "metadata": {
        "id": "OPH7eWmSA9Jb"
      },
      "source": [
        "Loading CRAIG config file and instantiating the training classifier object"
      ]
    },
    {
      "cell_type": "code",
      "metadata": {
        "id": "cOBxM9fOqR0v"
      },
      "source": [
        "craig_config_file = \"configs/config_craig_cifar10.py\"\n",
        "craig_trn = TrainClassifier(craig_config_file)"
      ],
      "execution_count": null,
      "outputs": []
    },
    {
      "cell_type": "markdown",
      "metadata": {
        "id": "gP04SY74_3sN"
      },
      "source": [
        "Dynamically changing the default configuration parameters\n",
        "\n"
      ]
    },
    {
      "cell_type": "code",
      "metadata": {
        "id": "5TahoaGKwNXa"
      },
      "source": [
        "craig_trn.configdata[\"train_args\"][\"num_epochs\"] = num_epochs\n",
        "craig_trn.configdata[\"train_args\"][\"print_every\"] = print_every\n",
        "craig_trn.configdata[\"train_args\"][\"results_dir\"] = results_dir\n",
        "craig_trn.configdata[\"dss_strategy\"][\"select_every\"] = select_every\n",
        "craig_trn.configdata[\"dss_strategy\"][\"fraction\"] = fraction\n",
        "craig_trn.configdata[\"model\"][\"architecture\"] = model_name\n",
        "craig_trn.configdata[\"model\"][\"numclasses\"] = numclasses\n",
        "craig_trn.configdata[\"dataset\"][\"name\"] = dataset_name"
      ],
      "execution_count": null,
      "outputs": []
    },
    {
      "cell_type": "markdown",
      "metadata": {
        "id": "d2NH8BzHBABP"
      },
      "source": [
        "Staring CRAIG training"
      ]
    },
    {
      "cell_type": "code",
      "metadata": {
        "id": "91YwFtqrqRoZ"
      },
      "source": [
        "craig_trn.train()"
      ],
      "execution_count": null,
      "outputs": []
    },
    {
      "cell_type": "markdown",
      "metadata": {
        "id": "TWMSmTUrqh2e"
      },
      "source": [
        "#CRAIG-Warm Training"
      ]
    },
    {
      "cell_type": "markdown",
      "metadata": {
        "id": "5M8ej9EbBC4u"
      },
      "source": [
        "Loading CRAIG-Warm config file and instantiating the training classifier object"
      ]
    },
    {
      "cell_type": "code",
      "metadata": {
        "id": "ukLNcgn2qhmM"
      },
      "source": [
        "craig_warm_config_file = \"configs/config_craig-warm_cifar10.py\"\n",
        "craig_warm_trn = TrainClassifier(craig_warm_config_file)"
      ],
      "execution_count": null,
      "outputs": []
    },
    {
      "cell_type": "markdown",
      "metadata": {
        "id": "BkMPNkad_5Y8"
      },
      "source": [
        "Dynamically changing the default configuration parameters\n",
        "\n"
      ]
    },
    {
      "cell_type": "code",
      "metadata": {
        "id": "_JPv0rHMwPhY"
      },
      "source": [
        "craig_warm_trn.configdata[\"train_args\"][\"num_epochs\"] = num_epochs\n",
        "craig_warm_trn.configdata[\"train_args\"][\"print_every\"] = print_every\n",
        "craig_warm_trn.configdata[\"train_args\"][\"results_dir\"] = results_dir\n",
        "craig_warm_trn.configdata[\"dss_strategy\"][\"select_every\"] = select_every\n",
        "craig_warm_trn.configdata[\"dss_strategy\"][\"fraction\"] = fraction\n",
        "craig_warm_trn.configdata[\"model\"][\"architecture\"] = model_name\n",
        "craig_warm_trn.configdata[\"model\"][\"numclasses\"] = numclasses\n",
        "craig_warm_trn.configdata[\"dataset\"][\"name\"] = dataset_name"
      ],
      "execution_count": null,
      "outputs": []
    },
    {
      "cell_type": "markdown",
      "metadata": {
        "id": "xC0r8bCnBFMp"
      },
      "source": [
        "Starting CRAIG-Warm training"
      ]
    },
    {
      "cell_type": "code",
      "metadata": {
        "id": "fkKQ7P2lq8tz"
      },
      "source": [
        "craig_warm_trn.train()"
      ],
      "execution_count": null,
      "outputs": []
    },
    {
      "cell_type": "markdown",
      "metadata": {
        "id": "5fMppdzPrM9U"
      },
      "source": [
        "#CRAIGPB Training"
      ]
    },
    {
      "cell_type": "markdown",
      "metadata": {
        "id": "_KW1MKhLBHpl"
      },
      "source": [
        "Loading CRAIGPB config file and instantiating the training classifier object"
      ]
    },
    {
      "cell_type": "code",
      "metadata": {
        "id": "6BN_rK3ZrRep"
      },
      "source": [
        "craigpb_config_file = \"configs/config_craigpb_cifar10.py\"\n",
        "craigpb_trn = TrainClassifier(craigpb_config_file)"
      ],
      "execution_count": null,
      "outputs": []
    },
    {
      "cell_type": "markdown",
      "metadata": {
        "id": "GhCfON2P_6A_"
      },
      "source": [
        "Dynamically changing the default configuration parameters\n",
        "\n"
      ]
    },
    {
      "cell_type": "code",
      "metadata": {
        "id": "K1MCak6xwSE8"
      },
      "source": [
        "craigpb_trn.configdata[\"train_args\"][\"num_epochs\"] = num_epochs\n",
        "craigpb_trn.configdata[\"train_args\"][\"print_every\"] = print_every\n",
        "craigpb_trn.configdata[\"train_args\"][\"results_dir\"] = results_dir\n",
        "craigpb_trn.configdata[\"dss_strategy\"][\"select_every\"] = select_every\n",
        "craigpb_trn.configdata[\"dss_strategy\"][\"fraction\"] = fraction\n",
        "craigpb_trn.configdata[\"model\"][\"architecture\"] = model_name\n",
        "craigpb_trn.configdata[\"model\"][\"numclasses\"] = numclasses\n",
        "craigpb_trn.configdata[\"dataset\"][\"name\"] = dataset_name"
      ],
      "execution_count": null,
      "outputs": []
    },
    {
      "cell_type": "markdown",
      "metadata": {
        "id": "gTICBmslBKN1"
      },
      "source": [
        "Starting CRAIGPB training"
      ]
    },
    {
      "cell_type": "code",
      "metadata": {
        "id": "R4ujQPvzrkvD"
      },
      "source": [
        "craigpb_trn.train()"
      ],
      "execution_count": null,
      "outputs": []
    },
    {
      "cell_type": "markdown",
      "metadata": {
        "id": "G6FqzkQTrM8L"
      },
      "source": [
        "#CRAIGPB-Warm Training"
      ]
    },
    {
      "cell_type": "markdown",
      "metadata": {
        "id": "VZl1aNuTBNfE"
      },
      "source": [
        "Loading CRAIGPB-Warm config file and instantiating the training classifier object"
      ]
    },
    {
      "cell_type": "code",
      "metadata": {
        "id": "jGUyZOHKrMog"
      },
      "source": [
        "craigpb_warm_config_file = \"configs/config_craigpb-warm_cifar10.py\"\n",
        "craigpb_warm_trn = TrainClassifier(craigpb_warm_config_file)"
      ],
      "execution_count": null,
      "outputs": []
    },
    {
      "cell_type": "markdown",
      "metadata": {
        "id": "ka0u1pOu_6rg"
      },
      "source": [
        "Dynamically changing the default configuration parameters\n",
        "\n"
      ]
    },
    {
      "cell_type": "code",
      "metadata": {
        "id": "UkpCcX1MwUZY"
      },
      "source": [
        "craigpb_warm_trn.configdata[\"train_args\"][\"num_epochs\"] = num_epochs\n",
        "craigpb_warm_trn.configdata[\"train_args\"][\"print_every\"] = print_every\n",
        "craigpb_warm_trn.configdata[\"train_args\"][\"results_dir\"] = results_dir\n",
        "craigpb_warm_trn.configdata[\"dss_strategy\"][\"select_every\"] = select_every\n",
        "craigpb_warm_trn.configdata[\"dss_strategy\"][\"fraction\"] = fraction\n",
        "craigpb_warm_trn.configdata[\"model\"][\"architecture\"] = model_name\n",
        "craigpb_warm_trn.configdata[\"model\"][\"numclasses\"] = numclasses\n",
        "craigpb_warm_trn.configdata[\"dataset\"][\"name\"] = dataset_name"
      ],
      "execution_count": null,
      "outputs": []
    },
    {
      "cell_type": "markdown",
      "metadata": {
        "id": "7Oe1heNnBQ8e"
      },
      "source": [
        "Starting CRAIGPB-Warm training"
      ]
    },
    {
      "cell_type": "code",
      "metadata": {
        "id": "sPOrOxfsrMcr"
      },
      "source": [
        "craigpb_warm_trn.train()"
      ],
      "execution_count": null,
      "outputs": []
    },
    {
      "cell_type": "markdown",
      "metadata": {
        "id": "9magCyPepJ4W"
      },
      "source": [
        "#GLISTER Training"
      ]
    },
    {
      "cell_type": "markdown",
      "metadata": {
        "id": "TnqTI9blBTnx"
      },
      "source": [
        "Loading GLISTER config file and instantiating the training classifier object"
      ]
    },
    {
      "cell_type": "code",
      "metadata": {
        "id": "35Q5vfNfpMO2"
      },
      "source": [
        "glister_config_file = \"configs/config_glister_cifar10.py\"\n",
        "glister_trn = TrainClassifier(glister_config_file)"
      ],
      "execution_count": null,
      "outputs": []
    },
    {
      "cell_type": "markdown",
      "metadata": {
        "id": "mAgdzWZw_7Ph"
      },
      "source": [
        "Dynamically changing the default configuration parameters\n",
        "\n"
      ]
    },
    {
      "cell_type": "code",
      "metadata": {
        "id": "uxwMgz70wHrs"
      },
      "source": [
        "glister_trn.configdata[\"train_args\"][\"num_epochs\"] = num_epochs\n",
        "glister_trn.configdata[\"train_args\"][\"print_every\"] = print_every\n",
        "glister_trn.configdata[\"train_args\"][\"results_dir\"] = results_dir\n",
        "glister_trn.configdata[\"dss_strategy\"][\"select_every\"] = select_every\n",
        "glister_trn.configdata[\"dss_strategy\"][\"fraction\"] = fraction\n",
        "glister_trn.configdata[\"model\"][\"architecture\"] = model_name\n",
        "glister_trn.configdata[\"model\"][\"numclasses\"] = numclasses\n",
        "glister_trn.configdata[\"dataset\"][\"name\"] = dataset_name"
      ],
      "execution_count": null,
      "outputs": []
    },
    {
      "cell_type": "markdown",
      "metadata": {
        "id": "xrnJ1WqqBV73"
      },
      "source": [
        "Starting GLISTER training"
      ]
    },
    {
      "cell_type": "code",
      "metadata": {
        "id": "asTzkTMI-v4S"
      },
      "source": [
        "glister_trn.train()"
      ],
      "execution_count": null,
      "outputs": []
    },
    {
      "cell_type": "markdown",
      "metadata": {
        "id": "6-iSgiuhpgNX"
      },
      "source": [
        "#GLISTER-Warm Training"
      ]
    },
    {
      "cell_type": "markdown",
      "metadata": {
        "id": "7wPgXuHMBYTs"
      },
      "source": [
        "Loading GLISTER-Warm config file and instantiating the training classifier object"
      ]
    },
    {
      "cell_type": "code",
      "metadata": {
        "id": "mN8At0ojpk02"
      },
      "source": [
        "glister_warm_config_file = \"configs/config_glister-warm_cifar10.py\"\n",
        "glister_warm_trn = TrainClassifier(glister_warm_config_file)"
      ],
      "execution_count": null,
      "outputs": []
    },
    {
      "cell_type": "markdown",
      "metadata": {
        "id": "jdj_oUHY_8S3"
      },
      "source": [
        "Dynamically changing the default configuration parameters\n",
        "\n"
      ]
    },
    {
      "cell_type": "code",
      "metadata": {
        "id": "5lJMI9Y3wK8Y"
      },
      "source": [
        "glister_warm_trn.configdata[\"train_args\"][\"num_epochs\"] = num_epochs\n",
        "glister_warm_trn.configdata[\"train_args\"][\"print_every\"] = print_every\n",
        "glister_warm_trn.configdata[\"train_args\"][\"results_dir\"] = results_dir\n",
        "glister_warm_trn.configdata[\"dss_strategy\"][\"select_every\"] = select_every\n",
        "glister_warm_trn.configdata[\"dss_strategy\"][\"fraction\"] = fraction\n",
        "glister_warm_trn.configdata[\"model\"][\"architecture\"] = model_name\n",
        "glister_warm_trn.configdata[\"model\"][\"numclasses\"] = numclasses\n",
        "glister_warm_trn.configdata[\"dataset\"][\"name\"] = dataset_name"
      ],
      "execution_count": null,
      "outputs": []
    },
    {
      "cell_type": "markdown",
      "metadata": {
        "id": "jrF5oRP0Ba37"
      },
      "source": [
        "Starting GLISTER-Warm training"
      ]
    },
    {
      "cell_type": "code",
      "metadata": {
        "id": "KIF5WRbFpkz5"
      },
      "source": [
        "glister_warm_trn.train()"
      ],
      "execution_count": null,
      "outputs": []
    },
    {
      "cell_type": "markdown",
      "metadata": {
        "id": "BHfrtnPCrviB"
      },
      "source": [
        "#Random Training"
      ]
    },
    {
      "cell_type": "markdown",
      "metadata": {
        "id": "S-ID9h_oBe3O"
      },
      "source": [
        "Loading Random config file and instantiating the training classifier object"
      ]
    },
    {
      "cell_type": "code",
      "metadata": {
        "id": "41RnNemOrvT3"
      },
      "source": [
        "random_config_file = \"configs/config_random_cifar10.py\"\n",
        "random_trn = TrainClassifier(random_config_file )"
      ],
      "execution_count": null,
      "outputs": []
    },
    {
      "cell_type": "markdown",
      "metadata": {
        "id": "mA_2DhUN_9h8"
      },
      "source": [
        "Dynamically changing the default configuration parameters\n",
        "\n"
      ]
    },
    {
      "cell_type": "code",
      "metadata": {
        "id": "233XKN9twXK4"
      },
      "source": [
        "random_trn.configdata[\"train_args\"][\"num_epochs\"] = num_epochs\n",
        "random_trn.configdata[\"train_args\"][\"print_every\"] = print_every\n",
        "random_trn.configdata[\"train_args\"][\"results_dir\"] = results_dir\n",
        "random_trn.configdata[\"dss_strategy\"][\"fraction\"] = fraction\n",
        "random_trn.configdata[\"model\"][\"architecture\"] = model_name\n",
        "random_trn.configdata[\"model\"][\"numclasses\"] = numclasses\n",
        "random_trn.configdata[\"dataset\"][\"name\"] = dataset_name"
      ],
      "execution_count": null,
      "outputs": []
    },
    {
      "cell_type": "markdown",
      "metadata": {
        "id": "T5xVhILaBgos"
      },
      "source": [
        "Starting Random training"
      ]
    },
    {
      "cell_type": "code",
      "metadata": {
        "id": "bq4fzgzArwJI"
      },
      "source": [
        "random_trn.train()"
      ],
      "execution_count": null,
      "outputs": []
    },
    {
      "cell_type": "markdown",
      "metadata": {
        "id": "_BSJuwiGVw2Y"
      },
      "source": [
        "#Full Training\n"
      ]
    },
    {
      "cell_type": "markdown",
      "metadata": {
        "id": "GoppILstAAuN"
      },
      "source": [
        "Loading Full Data training config file and instantiating the training classifier object"
      ]
    },
    {
      "cell_type": "code",
      "metadata": {
        "id": "Ow5x460WVwp2"
      },
      "source": [
        "full_config_file = \"configs/config_full_cifar10.py\"\n",
        "full_trn = TrainClassifier(full_config_file )"
      ],
      "execution_count": null,
      "outputs": []
    },
    {
      "cell_type": "markdown",
      "metadata": {
        "id": "Gnjkak-N_-YA"
      },
      "source": [
        "Dynamically changing the default configuration parameters\n",
        "\n"
      ]
    },
    {
      "cell_type": "code",
      "metadata": {
        "id": "XZsSU5miVwof"
      },
      "source": [
        "full_trn.configdata[\"train_args\"][\"num_epochs\"] = num_epochs\n",
        "full_trn.configdata[\"train_args\"][\"print_every\"] = print_every\n",
        "full_trn.configdata[\"train_args\"][\"results_dir\"] = results_dir\n",
        "full_trn.configdata[\"dss_strategy\"][\"fraction\"] = fraction\n",
        "full_trn.configdata[\"model\"][\"architecture\"] = model_name\n",
        "full_trn.configdata[\"model\"][\"numclasses\"] = numclasses\n",
        "full_trn.configdata[\"dataset\"][\"name\"] = dataset_name"
      ],
      "execution_count": null,
      "outputs": []
    },
    {
      "cell_type": "markdown",
      "metadata": {
        "id": "VlFBEE_FBkOh"
      },
      "source": [
        "Starting Full Data training\n"
      ]
    },
    {
      "cell_type": "code",
      "metadata": {
        "id": "mgWEBixxC6mr"
      },
      "source": [
        "full_trn.train()"
      ],
      "execution_count": null,
      "outputs": []
    }
  ]
}